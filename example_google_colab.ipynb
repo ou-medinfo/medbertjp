{
  "nbformat": 4,
  "nbformat_minor": 0,
  "metadata": {
    "colab": {
      "name": "example_google_colab.ipynb",
      "provenance": [],
      "collapsed_sections": []
    },
    "kernelspec": {
      "name": "python3",
      "display_name": "Python 3"
    },
    "widgets": {
      "application/vnd.jupyter.widget-state+json": {
        "005aa1f1104346a7bb3b57192b9b0105": {
          "model_module": "@jupyter-widgets/controls",
          "model_name": "HBoxModel",
          "state": {
            "_view_name": "HBoxView",
            "_dom_classes": [],
            "_model_name": "HBoxModel",
            "_view_module": "@jupyter-widgets/controls",
            "_model_module_version": "1.5.0",
            "_view_count": null,
            "_view_module_version": "1.5.0",
            "box_style": "",
            "layout": "IPY_MODEL_8e1aca05113d4588bfaa3ce7f586b839",
            "_model_module": "@jupyter-widgets/controls",
            "children": [
              "IPY_MODEL_c6f6cd235f734792a625e98d09fe0951",
              "IPY_MODEL_8a2fd61838774eb38dca8369afb0826e"
            ]
          }
        },
        "8e1aca05113d4588bfaa3ce7f586b839": {
          "model_module": "@jupyter-widgets/base",
          "model_name": "LayoutModel",
          "state": {
            "_view_name": "LayoutView",
            "grid_template_rows": null,
            "right": null,
            "justify_content": null,
            "_view_module": "@jupyter-widgets/base",
            "overflow": null,
            "_model_module_version": "1.2.0",
            "_view_count": null,
            "flex_flow": null,
            "width": null,
            "min_width": null,
            "border": null,
            "align_items": null,
            "bottom": null,
            "_model_module": "@jupyter-widgets/base",
            "top": null,
            "grid_column": null,
            "overflow_y": null,
            "overflow_x": null,
            "grid_auto_flow": null,
            "grid_area": null,
            "grid_template_columns": null,
            "flex": null,
            "_model_name": "LayoutModel",
            "justify_items": null,
            "grid_row": null,
            "max_height": null,
            "align_content": null,
            "visibility": null,
            "align_self": null,
            "height": null,
            "min_height": null,
            "padding": null,
            "grid_auto_rows": null,
            "grid_gap": null,
            "max_width": null,
            "order": null,
            "_view_module_version": "1.2.0",
            "grid_template_areas": null,
            "object_position": null,
            "object_fit": null,
            "grid_auto_columns": null,
            "margin": null,
            "display": null,
            "left": null
          }
        },
        "c6f6cd235f734792a625e98d09fe0951": {
          "model_module": "@jupyter-widgets/controls",
          "model_name": "FloatProgressModel",
          "state": {
            "_view_name": "ProgressView",
            "style": "IPY_MODEL_f02bf4ffd20c4af583afe9158163b3be",
            "_dom_classes": [],
            "description": "Downloading: 100%",
            "_model_name": "FloatProgressModel",
            "bar_style": "success",
            "max": 257706,
            "_view_module": "@jupyter-widgets/controls",
            "_model_module_version": "1.5.0",
            "value": 257706,
            "_view_count": null,
            "_view_module_version": "1.5.0",
            "orientation": "horizontal",
            "min": 0,
            "description_tooltip": null,
            "_model_module": "@jupyter-widgets/controls",
            "layout": "IPY_MODEL_b20a8a3dec8349b1bc2b1b8e445feadb"
          }
        },
        "8a2fd61838774eb38dca8369afb0826e": {
          "model_module": "@jupyter-widgets/controls",
          "model_name": "HTMLModel",
          "state": {
            "_view_name": "HTMLView",
            "style": "IPY_MODEL_81957b2ad0194d838953c43f94cb2251",
            "_dom_classes": [],
            "description": "",
            "_model_name": "HTMLModel",
            "placeholder": "​",
            "_view_module": "@jupyter-widgets/controls",
            "_model_module_version": "1.5.0",
            "value": " 258k/258k [00:00&lt;00:00, 2.45MB/s]",
            "_view_count": null,
            "_view_module_version": "1.5.0",
            "description_tooltip": null,
            "_model_module": "@jupyter-widgets/controls",
            "layout": "IPY_MODEL_4ab1cd7bf2924e07a6ebea44d1111687"
          }
        },
        "f02bf4ffd20c4af583afe9158163b3be": {
          "model_module": "@jupyter-widgets/controls",
          "model_name": "ProgressStyleModel",
          "state": {
            "_view_name": "StyleView",
            "_model_name": "ProgressStyleModel",
            "description_width": "initial",
            "_view_module": "@jupyter-widgets/base",
            "_model_module_version": "1.5.0",
            "_view_count": null,
            "_view_module_version": "1.2.0",
            "bar_color": null,
            "_model_module": "@jupyter-widgets/controls"
          }
        },
        "b20a8a3dec8349b1bc2b1b8e445feadb": {
          "model_module": "@jupyter-widgets/base",
          "model_name": "LayoutModel",
          "state": {
            "_view_name": "LayoutView",
            "grid_template_rows": null,
            "right": null,
            "justify_content": null,
            "_view_module": "@jupyter-widgets/base",
            "overflow": null,
            "_model_module_version": "1.2.0",
            "_view_count": null,
            "flex_flow": null,
            "width": null,
            "min_width": null,
            "border": null,
            "align_items": null,
            "bottom": null,
            "_model_module": "@jupyter-widgets/base",
            "top": null,
            "grid_column": null,
            "overflow_y": null,
            "overflow_x": null,
            "grid_auto_flow": null,
            "grid_area": null,
            "grid_template_columns": null,
            "flex": null,
            "_model_name": "LayoutModel",
            "justify_items": null,
            "grid_row": null,
            "max_height": null,
            "align_content": null,
            "visibility": null,
            "align_self": null,
            "height": null,
            "min_height": null,
            "padding": null,
            "grid_auto_rows": null,
            "grid_gap": null,
            "max_width": null,
            "order": null,
            "_view_module_version": "1.2.0",
            "grid_template_areas": null,
            "object_position": null,
            "object_fit": null,
            "grid_auto_columns": null,
            "margin": null,
            "display": null,
            "left": null
          }
        },
        "81957b2ad0194d838953c43f94cb2251": {
          "model_module": "@jupyter-widgets/controls",
          "model_name": "DescriptionStyleModel",
          "state": {
            "_view_name": "StyleView",
            "_model_name": "DescriptionStyleModel",
            "description_width": "",
            "_view_module": "@jupyter-widgets/base",
            "_model_module_version": "1.5.0",
            "_view_count": null,
            "_view_module_version": "1.2.0",
            "_model_module": "@jupyter-widgets/controls"
          }
        },
        "4ab1cd7bf2924e07a6ebea44d1111687": {
          "model_module": "@jupyter-widgets/base",
          "model_name": "LayoutModel",
          "state": {
            "_view_name": "LayoutView",
            "grid_template_rows": null,
            "right": null,
            "justify_content": null,
            "_view_module": "@jupyter-widgets/base",
            "overflow": null,
            "_model_module_version": "1.2.0",
            "_view_count": null,
            "flex_flow": null,
            "width": null,
            "min_width": null,
            "border": null,
            "align_items": null,
            "bottom": null,
            "_model_module": "@jupyter-widgets/base",
            "top": null,
            "grid_column": null,
            "overflow_y": null,
            "overflow_x": null,
            "grid_auto_flow": null,
            "grid_area": null,
            "grid_template_columns": null,
            "flex": null,
            "_model_name": "LayoutModel",
            "justify_items": null,
            "grid_row": null,
            "max_height": null,
            "align_content": null,
            "visibility": null,
            "align_self": null,
            "height": null,
            "min_height": null,
            "padding": null,
            "grid_auto_rows": null,
            "grid_gap": null,
            "max_width": null,
            "order": null,
            "_view_module_version": "1.2.0",
            "grid_template_areas": null,
            "object_position": null,
            "object_fit": null,
            "grid_auto_columns": null,
            "margin": null,
            "display": null,
            "left": null
          }
        },
        "ea61a24ecd0344219f02bd194c4f5e66": {
          "model_module": "@jupyter-widgets/controls",
          "model_name": "HBoxModel",
          "state": {
            "_view_name": "HBoxView",
            "_dom_classes": [],
            "_model_name": "HBoxModel",
            "_view_module": "@jupyter-widgets/controls",
            "_model_module_version": "1.5.0",
            "_view_count": null,
            "_view_module_version": "1.5.0",
            "box_style": "",
            "layout": "IPY_MODEL_4b31c0a28d3e4a89887b50c57164d791",
            "_model_module": "@jupyter-widgets/controls",
            "children": [
              "IPY_MODEL_97314ad03ef44219a7f3f7aeddbb4296",
              "IPY_MODEL_240c4293ad86466f9e5955d27d83c340"
            ]
          }
        },
        "4b31c0a28d3e4a89887b50c57164d791": {
          "model_module": "@jupyter-widgets/base",
          "model_name": "LayoutModel",
          "state": {
            "_view_name": "LayoutView",
            "grid_template_rows": null,
            "right": null,
            "justify_content": null,
            "_view_module": "@jupyter-widgets/base",
            "overflow": null,
            "_model_module_version": "1.2.0",
            "_view_count": null,
            "flex_flow": null,
            "width": null,
            "min_width": null,
            "border": null,
            "align_items": null,
            "bottom": null,
            "_model_module": "@jupyter-widgets/base",
            "top": null,
            "grid_column": null,
            "overflow_y": null,
            "overflow_x": null,
            "grid_auto_flow": null,
            "grid_area": null,
            "grid_template_columns": null,
            "flex": null,
            "_model_name": "LayoutModel",
            "justify_items": null,
            "grid_row": null,
            "max_height": null,
            "align_content": null,
            "visibility": null,
            "align_self": null,
            "height": null,
            "min_height": null,
            "padding": null,
            "grid_auto_rows": null,
            "grid_gap": null,
            "max_width": null,
            "order": null,
            "_view_module_version": "1.2.0",
            "grid_template_areas": null,
            "object_position": null,
            "object_fit": null,
            "grid_auto_columns": null,
            "margin": null,
            "display": null,
            "left": null
          }
        },
        "97314ad03ef44219a7f3f7aeddbb4296": {
          "model_module": "@jupyter-widgets/controls",
          "model_name": "FloatProgressModel",
          "state": {
            "_view_name": "ProgressView",
            "style": "IPY_MODEL_c44efe8809d7447383c8105f6990e3e3",
            "_dom_classes": [],
            "description": "Downloading: 100%",
            "_model_name": "FloatProgressModel",
            "bar_style": "success",
            "max": 433,
            "_view_module": "@jupyter-widgets/controls",
            "_model_module_version": "1.5.0",
            "value": 433,
            "_view_count": null,
            "_view_module_version": "1.5.0",
            "orientation": "horizontal",
            "min": 0,
            "description_tooltip": null,
            "_model_module": "@jupyter-widgets/controls",
            "layout": "IPY_MODEL_72c0f1f17f09408f9d92cc582ba5c4d1"
          }
        },
        "240c4293ad86466f9e5955d27d83c340": {
          "model_module": "@jupyter-widgets/controls",
          "model_name": "HTMLModel",
          "state": {
            "_view_name": "HTMLView",
            "style": "IPY_MODEL_453489df76a948b7baf36d462597c126",
            "_dom_classes": [],
            "description": "",
            "_model_name": "HTMLModel",
            "placeholder": "​",
            "_view_module": "@jupyter-widgets/controls",
            "_model_module_version": "1.5.0",
            "value": " 433/433 [00:00&lt;00:00, 1.70kB/s]",
            "_view_count": null,
            "_view_module_version": "1.5.0",
            "description_tooltip": null,
            "_model_module": "@jupyter-widgets/controls",
            "layout": "IPY_MODEL_dbabdb51639f419fb0fb39888ac11be9"
          }
        },
        "c44efe8809d7447383c8105f6990e3e3": {
          "model_module": "@jupyter-widgets/controls",
          "model_name": "ProgressStyleModel",
          "state": {
            "_view_name": "StyleView",
            "_model_name": "ProgressStyleModel",
            "description_width": "initial",
            "_view_module": "@jupyter-widgets/base",
            "_model_module_version": "1.5.0",
            "_view_count": null,
            "_view_module_version": "1.2.0",
            "bar_color": null,
            "_model_module": "@jupyter-widgets/controls"
          }
        },
        "72c0f1f17f09408f9d92cc582ba5c4d1": {
          "model_module": "@jupyter-widgets/base",
          "model_name": "LayoutModel",
          "state": {
            "_view_name": "LayoutView",
            "grid_template_rows": null,
            "right": null,
            "justify_content": null,
            "_view_module": "@jupyter-widgets/base",
            "overflow": null,
            "_model_module_version": "1.2.0",
            "_view_count": null,
            "flex_flow": null,
            "width": null,
            "min_width": null,
            "border": null,
            "align_items": null,
            "bottom": null,
            "_model_module": "@jupyter-widgets/base",
            "top": null,
            "grid_column": null,
            "overflow_y": null,
            "overflow_x": null,
            "grid_auto_flow": null,
            "grid_area": null,
            "grid_template_columns": null,
            "flex": null,
            "_model_name": "LayoutModel",
            "justify_items": null,
            "grid_row": null,
            "max_height": null,
            "align_content": null,
            "visibility": null,
            "align_self": null,
            "height": null,
            "min_height": null,
            "padding": null,
            "grid_auto_rows": null,
            "grid_gap": null,
            "max_width": null,
            "order": null,
            "_view_module_version": "1.2.0",
            "grid_template_areas": null,
            "object_position": null,
            "object_fit": null,
            "grid_auto_columns": null,
            "margin": null,
            "display": null,
            "left": null
          }
        },
        "453489df76a948b7baf36d462597c126": {
          "model_module": "@jupyter-widgets/controls",
          "model_name": "DescriptionStyleModel",
          "state": {
            "_view_name": "StyleView",
            "_model_name": "DescriptionStyleModel",
            "description_width": "",
            "_view_module": "@jupyter-widgets/base",
            "_model_module_version": "1.5.0",
            "_view_count": null,
            "_view_module_version": "1.2.0",
            "_model_module": "@jupyter-widgets/controls"
          }
        },
        "dbabdb51639f419fb0fb39888ac11be9": {
          "model_module": "@jupyter-widgets/base",
          "model_name": "LayoutModel",
          "state": {
            "_view_name": "LayoutView",
            "grid_template_rows": null,
            "right": null,
            "justify_content": null,
            "_view_module": "@jupyter-widgets/base",
            "overflow": null,
            "_model_module_version": "1.2.0",
            "_view_count": null,
            "flex_flow": null,
            "width": null,
            "min_width": null,
            "border": null,
            "align_items": null,
            "bottom": null,
            "_model_module": "@jupyter-widgets/base",
            "top": null,
            "grid_column": null,
            "overflow_y": null,
            "overflow_x": null,
            "grid_auto_flow": null,
            "grid_area": null,
            "grid_template_columns": null,
            "flex": null,
            "_model_name": "LayoutModel",
            "justify_items": null,
            "grid_row": null,
            "max_height": null,
            "align_content": null,
            "visibility": null,
            "align_self": null,
            "height": null,
            "min_height": null,
            "padding": null,
            "grid_auto_rows": null,
            "grid_gap": null,
            "max_width": null,
            "order": null,
            "_view_module_version": "1.2.0",
            "grid_template_areas": null,
            "object_position": null,
            "object_fit": null,
            "grid_auto_columns": null,
            "margin": null,
            "display": null,
            "left": null
          }
        },
        "38833835411949709c856a94a66a3327": {
          "model_module": "@jupyter-widgets/controls",
          "model_name": "HBoxModel",
          "state": {
            "_view_name": "HBoxView",
            "_dom_classes": [],
            "_model_name": "HBoxModel",
            "_view_module": "@jupyter-widgets/controls",
            "_model_module_version": "1.5.0",
            "_view_count": null,
            "_view_module_version": "1.5.0",
            "box_style": "",
            "layout": "IPY_MODEL_f6f82f152bb04ccdbe97d3f98cae5237",
            "_model_module": "@jupyter-widgets/controls",
            "children": [
              "IPY_MODEL_5d29620ffdaa4f2a81fd27f62f3e6d2d",
              "IPY_MODEL_29111141b4f147a0a682b8896d80c9bc"
            ]
          }
        },
        "f6f82f152bb04ccdbe97d3f98cae5237": {
          "model_module": "@jupyter-widgets/base",
          "model_name": "LayoutModel",
          "state": {
            "_view_name": "LayoutView",
            "grid_template_rows": null,
            "right": null,
            "justify_content": null,
            "_view_module": "@jupyter-widgets/base",
            "overflow": null,
            "_model_module_version": "1.2.0",
            "_view_count": null,
            "flex_flow": null,
            "width": null,
            "min_width": null,
            "border": null,
            "align_items": null,
            "bottom": null,
            "_model_module": "@jupyter-widgets/base",
            "top": null,
            "grid_column": null,
            "overflow_y": null,
            "overflow_x": null,
            "grid_auto_flow": null,
            "grid_area": null,
            "grid_template_columns": null,
            "flex": null,
            "_model_name": "LayoutModel",
            "justify_items": null,
            "grid_row": null,
            "max_height": null,
            "align_content": null,
            "visibility": null,
            "align_self": null,
            "height": null,
            "min_height": null,
            "padding": null,
            "grid_auto_rows": null,
            "grid_gap": null,
            "max_width": null,
            "order": null,
            "_view_module_version": "1.2.0",
            "grid_template_areas": null,
            "object_position": null,
            "object_fit": null,
            "grid_auto_columns": null,
            "margin": null,
            "display": null,
            "left": null
          }
        },
        "5d29620ffdaa4f2a81fd27f62f3e6d2d": {
          "model_module": "@jupyter-widgets/controls",
          "model_name": "FloatProgressModel",
          "state": {
            "_view_name": "ProgressView",
            "style": "IPY_MODEL_60f87c2f9bb24ae28d21606bcc90c989",
            "_dom_classes": [],
            "description": "Downloading: 100%",
            "_model_name": "FloatProgressModel",
            "bar_style": "success",
            "max": 445021143,
            "_view_module": "@jupyter-widgets/controls",
            "_model_module_version": "1.5.0",
            "value": 445021143,
            "_view_count": null,
            "_view_module_version": "1.5.0",
            "orientation": "horizontal",
            "min": 0,
            "description_tooltip": null,
            "_model_module": "@jupyter-widgets/controls",
            "layout": "IPY_MODEL_fb1693af207a44d1a04a40bc8c250c68"
          }
        },
        "29111141b4f147a0a682b8896d80c9bc": {
          "model_module": "@jupyter-widgets/controls",
          "model_name": "HTMLModel",
          "state": {
            "_view_name": "HTMLView",
            "style": "IPY_MODEL_6fb5772297cb4d58be869c038aa6e557",
            "_dom_classes": [],
            "description": "",
            "_model_name": "HTMLModel",
            "placeholder": "​",
            "_view_module": "@jupyter-widgets/controls",
            "_model_module_version": "1.5.0",
            "value": " 445M/445M [00:22&lt;00:00, 19.4MB/s]",
            "_view_count": null,
            "_view_module_version": "1.5.0",
            "description_tooltip": null,
            "_model_module": "@jupyter-widgets/controls",
            "layout": "IPY_MODEL_76d76d66c1d941d2a331f12b99c64532"
          }
        },
        "60f87c2f9bb24ae28d21606bcc90c989": {
          "model_module": "@jupyter-widgets/controls",
          "model_name": "ProgressStyleModel",
          "state": {
            "_view_name": "StyleView",
            "_model_name": "ProgressStyleModel",
            "description_width": "initial",
            "_view_module": "@jupyter-widgets/base",
            "_model_module_version": "1.5.0",
            "_view_count": null,
            "_view_module_version": "1.2.0",
            "bar_color": null,
            "_model_module": "@jupyter-widgets/controls"
          }
        },
        "fb1693af207a44d1a04a40bc8c250c68": {
          "model_module": "@jupyter-widgets/base",
          "model_name": "LayoutModel",
          "state": {
            "_view_name": "LayoutView",
            "grid_template_rows": null,
            "right": null,
            "justify_content": null,
            "_view_module": "@jupyter-widgets/base",
            "overflow": null,
            "_model_module_version": "1.2.0",
            "_view_count": null,
            "flex_flow": null,
            "width": null,
            "min_width": null,
            "border": null,
            "align_items": null,
            "bottom": null,
            "_model_module": "@jupyter-widgets/base",
            "top": null,
            "grid_column": null,
            "overflow_y": null,
            "overflow_x": null,
            "grid_auto_flow": null,
            "grid_area": null,
            "grid_template_columns": null,
            "flex": null,
            "_model_name": "LayoutModel",
            "justify_items": null,
            "grid_row": null,
            "max_height": null,
            "align_content": null,
            "visibility": null,
            "align_self": null,
            "height": null,
            "min_height": null,
            "padding": null,
            "grid_auto_rows": null,
            "grid_gap": null,
            "max_width": null,
            "order": null,
            "_view_module_version": "1.2.0",
            "grid_template_areas": null,
            "object_position": null,
            "object_fit": null,
            "grid_auto_columns": null,
            "margin": null,
            "display": null,
            "left": null
          }
        },
        "6fb5772297cb4d58be869c038aa6e557": {
          "model_module": "@jupyter-widgets/controls",
          "model_name": "DescriptionStyleModel",
          "state": {
            "_view_name": "StyleView",
            "_model_name": "DescriptionStyleModel",
            "description_width": "",
            "_view_module": "@jupyter-widgets/base",
            "_model_module_version": "1.5.0",
            "_view_count": null,
            "_view_module_version": "1.2.0",
            "_model_module": "@jupyter-widgets/controls"
          }
        },
        "76d76d66c1d941d2a331f12b99c64532": {
          "model_module": "@jupyter-widgets/base",
          "model_name": "LayoutModel",
          "state": {
            "_view_name": "LayoutView",
            "grid_template_rows": null,
            "right": null,
            "justify_content": null,
            "_view_module": "@jupyter-widgets/base",
            "overflow": null,
            "_model_module_version": "1.2.0",
            "_view_count": null,
            "flex_flow": null,
            "width": null,
            "min_width": null,
            "border": null,
            "align_items": null,
            "bottom": null,
            "_model_module": "@jupyter-widgets/base",
            "top": null,
            "grid_column": null,
            "overflow_y": null,
            "overflow_x": null,
            "grid_auto_flow": null,
            "grid_area": null,
            "grid_template_columns": null,
            "flex": null,
            "_model_name": "LayoutModel",
            "justify_items": null,
            "grid_row": null,
            "max_height": null,
            "align_content": null,
            "visibility": null,
            "align_self": null,
            "height": null,
            "min_height": null,
            "padding": null,
            "grid_auto_rows": null,
            "grid_gap": null,
            "max_width": null,
            "order": null,
            "_view_module_version": "1.2.0",
            "grid_template_areas": null,
            "object_position": null,
            "object_fit": null,
            "grid_auto_columns": null,
            "margin": null,
            "display": null,
            "left": null
          }
        }
      }
    }
  },
  "cells": [
    {
      "cell_type": "markdown",
      "metadata": {
        "id": "wDXQ1XUf5Ojv"
      },
      "source": [
        "# Sample Code for Google Colab"
      ]
    },
    {
      "cell_type": "markdown",
      "metadata": {
        "id": "T6hYmgBb5d_5"
      },
      "source": [
        "## Setting\n",
        "install modules  \n",
        "import modules  \n",
        "define function and paths.  "
      ]
    },
    {
      "cell_type": "code",
      "metadata": {
        "id": "9uO6XT7C9SS-",
        "outputId": "0649fc5e-34b1-49ba-e686-a4bf9ba90303",
        "colab": {
          "base_uri": "https://localhost:8080/",
          "height": 1000
        }
      },
      "source": [
        "%%bash\n",
        "# clone our repository.\n",
        "git clone https://github.com/ou-medinfo/medbertjp.git\n",
        "\n",
        "# install transformers\n",
        "pip install transformers\n",
        "\n",
        "# install a Japanese tokenizer and morphological analysis tools.\n",
        "apt-get install mecab\n",
        "pip install fugashi ipadic unidic\n",
        "python -m unidic download"
      ],
      "execution_count": 1,
      "outputs": [
        {
          "output_type": "stream",
          "text": [
            "Collecting transformers\n",
            "  Downloading https://files.pythonhosted.org/packages/2c/4e/4f1ede0fd7a36278844a277f8d53c21f88f37f3754abf76a5d6224f76d4a/transformers-3.4.0-py3-none-any.whl (1.3MB)\n",
            "Requirement already satisfied: requests in /usr/local/lib/python3.6/dist-packages (from transformers) (2.23.0)\n",
            "Requirement already satisfied: filelock in /usr/local/lib/python3.6/dist-packages (from transformers) (3.0.12)\n",
            "Requirement already satisfied: regex!=2019.12.17 in /usr/local/lib/python3.6/dist-packages (from transformers) (2019.12.20)\n",
            "Requirement already satisfied: tqdm>=4.27 in /usr/local/lib/python3.6/dist-packages (from transformers) (4.41.1)\n",
            "Requirement already satisfied: dataclasses; python_version < \"3.7\" in /usr/local/lib/python3.6/dist-packages (from transformers) (0.7)\n",
            "Collecting sentencepiece!=0.1.92\n",
            "  Downloading https://files.pythonhosted.org/packages/d4/a4/d0a884c4300004a78cca907a6ff9a5e9fe4f090f5d95ab341c53d28cbc58/sentencepiece-0.1.91-cp36-cp36m-manylinux1_x86_64.whl (1.1MB)\n",
            "Collecting tokenizers==0.9.2\n",
            "  Downloading https://files.pythonhosted.org/packages/7c/a5/78be1a55b2ac8d6a956f0a211d372726e2b1dd2666bb537fea9b03abd62c/tokenizers-0.9.2-cp36-cp36m-manylinux1_x86_64.whl (2.9MB)\n",
            "Collecting sacremoses\n",
            "  Downloading https://files.pythonhosted.org/packages/7d/34/09d19aff26edcc8eb2a01bed8e98f13a1537005d31e95233fd48216eed10/sacremoses-0.0.43.tar.gz (883kB)\n",
            "Requirement already satisfied: numpy in /usr/local/lib/python3.6/dist-packages (from transformers) (1.18.5)\n",
            "Requirement already satisfied: packaging in /usr/local/lib/python3.6/dist-packages (from transformers) (20.4)\n",
            "Requirement already satisfied: protobuf in /usr/local/lib/python3.6/dist-packages (from transformers) (3.12.4)\n",
            "Requirement already satisfied: idna<3,>=2.5 in /usr/local/lib/python3.6/dist-packages (from requests->transformers) (2.10)\n",
            "Requirement already satisfied: certifi>=2017.4.17 in /usr/local/lib/python3.6/dist-packages (from requests->transformers) (2020.6.20)\n",
            "Requirement already satisfied: chardet<4,>=3.0.2 in /usr/local/lib/python3.6/dist-packages (from requests->transformers) (3.0.4)\n",
            "Requirement already satisfied: urllib3!=1.25.0,!=1.25.1,<1.26,>=1.21.1 in /usr/local/lib/python3.6/dist-packages (from requests->transformers) (1.24.3)\n",
            "Requirement already satisfied: six in /usr/local/lib/python3.6/dist-packages (from sacremoses->transformers) (1.15.0)\n",
            "Requirement already satisfied: click in /usr/local/lib/python3.6/dist-packages (from sacremoses->transformers) (7.1.2)\n",
            "Requirement already satisfied: joblib in /usr/local/lib/python3.6/dist-packages (from sacremoses->transformers) (0.16.0)\n",
            "Requirement already satisfied: pyparsing>=2.0.2 in /usr/local/lib/python3.6/dist-packages (from packaging->transformers) (2.4.7)\n",
            "Requirement already satisfied: setuptools in /usr/local/lib/python3.6/dist-packages (from protobuf->transformers) (50.3.0)\n",
            "Building wheels for collected packages: sacremoses\n",
            "  Building wheel for sacremoses (setup.py): started\n",
            "  Building wheel for sacremoses (setup.py): finished with status 'done'\n",
            "  Created wheel for sacremoses: filename=sacremoses-0.0.43-cp36-none-any.whl size=893257 sha256=b09d5d22a558d9ddd3c696dc21d220f8edec9bbcd4b2dee2d45c39ae67ab2e2e\n",
            "  Stored in directory: /root/.cache/pip/wheels/29/3c/fd/7ce5c3f0666dab31a50123635e6fb5e19ceb42ce38d4e58f45\n",
            "Successfully built sacremoses\n",
            "Installing collected packages: sentencepiece, tokenizers, sacremoses, transformers\n",
            "Successfully installed sacremoses-0.0.43 sentencepiece-0.1.91 tokenizers-0.9.2 transformers-3.4.0\n",
            "Reading package lists...\n",
            "Building dependency tree...\n",
            "Reading state information...\n",
            "The following additional packages will be installed:\n",
            "  libmecab2 mecab-jumandic mecab-jumandic-utf8 mecab-utils\n",
            "The following NEW packages will be installed:\n",
            "  libmecab2 mecab mecab-jumandic mecab-jumandic-utf8 mecab-utils\n",
            "0 upgraded, 5 newly installed, 0 to remove and 21 not upgraded.\n",
            "Need to get 16.5 MB of archives.\n",
            "After this operation, 219 MB of additional disk space will be used.\n",
            "Get:1 http://archive.ubuntu.com/ubuntu bionic/universe amd64 libmecab2 amd64 0.996-5 [257 kB]\n",
            "Get:2 http://archive.ubuntu.com/ubuntu bionic/universe amd64 mecab-utils amd64 0.996-5 [4,856 B]\n",
            "Get:3 http://archive.ubuntu.com/ubuntu bionic/universe amd64 mecab-jumandic-utf8 all 7.0-20130310-4 [16.2 MB]\n",
            "Get:4 http://archive.ubuntu.com/ubuntu bionic/universe amd64 mecab-jumandic all 7.0-20130310-4 [2,212 B]\n",
            "Get:5 http://archive.ubuntu.com/ubuntu bionic/universe amd64 mecab amd64 0.996-5 [132 kB]\n",
            "Fetched 16.5 MB in 1s (12.0 MB/s)\n",
            "Selecting previously unselected package libmecab2:amd64.\r\n",
            "(Reading database ... \r(Reading database ... 5%\r(Reading database ... 10%\r(Reading database ... 15%\r(Reading database ... 20%\r(Reading database ... 25%\r(Reading database ... 30%\r(Reading database ... 35%\r(Reading database ... 40%\r(Reading database ... 45%\r(Reading database ... 50%\r(Reading database ... 55%\r(Reading database ... 60%\r(Reading database ... 65%\r(Reading database ... 70%\r(Reading database ... 75%\r(Reading database ... 80%\r(Reading database ... 85%\r(Reading database ... 90%\r(Reading database ... 95%\r(Reading database ... 100%\r(Reading database ... 144611 files and directories currently installed.)\r\n",
            "Preparing to unpack .../libmecab2_0.996-5_amd64.deb ...\r\n",
            "Unpacking libmecab2:amd64 (0.996-5) ...\r\n",
            "Selecting previously unselected package mecab-utils.\r\n",
            "Preparing to unpack .../mecab-utils_0.996-5_amd64.deb ...\r\n",
            "Unpacking mecab-utils (0.996-5) ...\r\n",
            "Selecting previously unselected package mecab-jumandic-utf8.\r\n",
            "Preparing to unpack .../mecab-jumandic-utf8_7.0-20130310-4_all.deb ...\r\n",
            "Unpacking mecab-jumandic-utf8 (7.0-20130310-4) ...\r\n",
            "Selecting previously unselected package mecab-jumandic.\r\n",
            "Preparing to unpack .../mecab-jumandic_7.0-20130310-4_all.deb ...\r\n",
            "Unpacking mecab-jumandic (7.0-20130310-4) ...\r\n",
            "Selecting previously unselected package mecab.\r\n",
            "Preparing to unpack .../mecab_0.996-5_amd64.deb ...\r\n",
            "Unpacking mecab (0.996-5) ...\r\n",
            "Setting up libmecab2:amd64 (0.996-5) ...\r\n",
            "Setting up mecab-utils (0.996-5) ...\r\n",
            "Setting up mecab-jumandic-utf8 (7.0-20130310-4) ...\r\n",
            "Compiling Juman dictionary for Mecab.\r\n",
            "reading /usr/share/mecab/dic/juman/unk.def ... 37\r\n",
            "emitting double-array:  10% |####                                       | \remitting double-array:  20% |########                                   | \remitting double-array:  30% |############                               | \remitting double-array:  40% |#################                          | \remitting double-array:  50% |#####################                      | \remitting double-array:  60% |#########################                  | \remitting double-array:  70% |##############################             | \remitting double-array:  80% |##################################         | \remitting double-array:  90% |######################################     | \remitting double-array: 100% |###########################################| \r\n",
            "reading /usr/share/mecab/dic/juman/Suffix.csv ... 2128\r\n",
            "reading /usr/share/mecab/dic/juman/Noun.suusi.csv ... 49\r\n",
            "reading /usr/share/mecab/dic/juman/Special.csv ... 158\r\n",
            "reading /usr/share/mecab/dic/juman/Noun.hukusi.csv ... 81\r\n",
            "reading /usr/share/mecab/dic/juman/Emoticon.csv ... 972\r\n",
            "reading /usr/share/mecab/dic/juman/AuxV.csv ... 593\r\n",
            "reading /usr/share/mecab/dic/juman/Demonstrative.csv ... 97\r\n",
            "reading /usr/share/mecab/dic/juman/Assert.csv ... 34\r\n",
            "reading /usr/share/mecab/dic/juman/Noun.keishiki.csv ... 8\r\n",
            "reading /usr/share/mecab/dic/juman/Noun.koyuu.csv ... 7964\r\n",
            "reading /usr/share/mecab/dic/juman/Prefix.csv ... 90\r\n",
            "reading /usr/share/mecab/dic/juman/Postp.csv ... 108\r\n",
            "reading /usr/share/mecab/dic/juman/Auto.csv ... 18931\r\n",
            "reading /usr/share/mecab/dic/juman/Wikipedia.csv ... 167709\r\n",
            "reading /usr/share/mecab/dic/juman/Rengo.csv ... 1118\r\n",
            "reading /usr/share/mecab/dic/juman/ContentW.csv ... 551145\r\n",
            "emitting double-array:   0% |                                           | \remitting double-array:   1% |                                           | \remitting double-array:   2% |                                           | \remitting double-array:   3% |#                                          | \remitting double-array:   4% |#                                          | \remitting double-array:   5% |##                                         | \remitting double-array:   6% |##                                         | \remitting double-array:   7% |###                                        | \remitting double-array:   8% |###                                        | \remitting double-array:   9% |###                                        | \remitting double-array:  10% |####                                       | \remitting double-array:  11% |####                                       | \remitting double-array:  12% |#####                                      | \remitting double-array:  13% |#####                                      | \remitting double-array:  14% |######                                     | \remitting double-array:  15% |######                                     | \remitting double-array:  16% |######                                     | \remitting double-array:  17% |#######                                    | \remitting double-array:  18% |#######                                    | \remitting double-array:  19% |########                                   | \remitting double-array:  20% |########                                   | \remitting double-array:  21% |#########                                  | \remitting double-array:  22% |#########                                  | \remitting double-array:  23% |#########                                  | \remitting double-array:  24% |##########                                 | \remitting double-array:  25% |##########                                 | \remitting double-array:  26% |###########                                | \remitting double-array:  27% |###########                                | \remitting double-array:  28% |############                               | \remitting double-array:  29% |############                               | \remitting double-array:  30% |############                               | \remitting double-array:  31% |#############                              | \remitting double-array:  32% |#############                              | \remitting double-array:  33% |##############                             | \remitting double-array:  34% |##############                             | \remitting double-array:  35% |###############                            | \remitting double-array:  36% |###############                            | \remitting double-array:  37% |###############                            | \remitting double-array:  38% |################                           | \remitting double-array:  39% |################                           | \remitting double-array:  40% |#################                          | \remitting double-array:  41% |#################                          | \remitting double-array:  42% |##################                         | \remitting double-array:  43% |##################                         | \remitting double-array:  44% |##################                         | \remitting double-array:  45% |###################                        | \remitting double-array:  46% |###################                        | \remitting double-array:  47% |####################                       | \remitting double-array:  48% |####################                       | \remitting double-array:  49% |#####################                      | \remitting double-array:  50% |#####################                      | \remitting double-array:  51% |#####################                      | \remitting double-array:  52% |######################                     | \remitting double-array:  53% |######################                     | \remitting double-array:  54% |#######################                    | \remitting double-array:  55% |#######################                    | \remitting double-array:  56% |########################                   | \remitting double-array:  57% |########################                   | \remitting double-array:  58% |########################                   | \remitting double-array:  59% |#########################                  | \remitting double-array:  60% |#########################                  | \remitting double-array:  61% |##########################                 | \remitting double-array:  62% |##########################                 | \remitting double-array:  63% |###########################                | \remitting double-array:  64% |###########################                | \remitting double-array:  65% |###########################                | \remitting double-array:  66% |############################               | \remitting double-array:  67% |############################               | \remitting double-array:  68% |#############################              | \remitting double-array:  69% |#############################              | \remitting double-array:  70% |##############################             | \remitting double-array:  71% |##############################             | \remitting double-array:  72% |##############################             | \remitting double-array:  73% |###############################            | \remitting double-array:  74% |###############################            | \remitting double-array:  75% |################################           | \remitting double-array:  76% |################################           | \remitting double-array:  77% |#################################          | \remitting double-array:  78% |#################################          | \remitting double-array:  79% |#################################          | \remitting double-array:  80% |##################################         | \remitting double-array:  81% |##################################         | \remitting double-array:  82% |###################################        | \remitting double-array:  83% |###################################        | \remitting double-array:  84% |####################################       | \remitting double-array:  85% |####################################       | \remitting double-array:  86% |####################################       | \remitting double-array:  87% |#####################################      | \remitting double-array:  88% |#####################################      | \remitting double-array:  89% |######################################     | \remitting double-array:  90% |######################################     | \remitting double-array:  91% |#######################################    | \remitting double-array:  92% |#######################################    | \remitting double-array:  93% |#######################################    | \remitting double-array:  94% |########################################   | \remitting double-array:  95% |########################################   | \remitting double-array:  96% |#########################################  | \remitting double-array:  97% |#########################################  | \remitting double-array:  98% |########################################## | \remitting double-array:  99% |########################################## | \remitting double-array: 100% |###########################################| \r\n",
            "reading /usr/share/mecab/dic/juman/matrix.def ... 1876x1876\r\n",
            "emitting matrix      :   0% |                                           | \remitting matrix      :   1% |                                           | \remitting matrix      :   2% |                                           | \remitting matrix      :   3% |#                                          | \remitting matrix      :   4% |#                                          | \remitting matrix      :   5% |##                                         | \remitting matrix      :   6% |##                                         | \remitting matrix      :   7% |###                                        | \remitting matrix      :   8% |###                                        | \remitting matrix      :   9% |###                                        | \remitting matrix      :  10% |####                                       | \remitting matrix      :  11% |####                                       | \remitting matrix      :  12% |#####                                      | \remitting matrix      :  13% |#####                                      | \remitting matrix      :  14% |######                                     | \remitting matrix      :  15% |######                                     | \remitting matrix      :  16% |######                                     | \remitting matrix      :  17% |#######                                    | \remitting matrix      :  18% |#######                                    | \remitting matrix      :  19% |########                                   | \remitting matrix      :  20% |########                                   | \remitting matrix      :  21% |#########                                  | \remitting matrix      :  22% |#########                                  | \remitting matrix      :  23% |#########                                  | \remitting matrix      :  24% |##########                                 | \remitting matrix      :  25% |##########                                 | \remitting matrix      :  26% |###########                                | \remitting matrix      :  27% |###########                                | \remitting matrix      :  28% |############                               | \remitting matrix      :  29% |############                               | \remitting matrix      :  30% |############                               | \remitting matrix      :  31% |#############                              | \remitting matrix      :  32% |#############                              | \remitting matrix      :  33% |##############                             | \remitting matrix      :  34% |##############                             | \remitting matrix      :  35% |###############                            | \remitting matrix      :  36% |###############                            | \remitting matrix      :  37% |###############                            | \remitting matrix      :  38% |################                           | \remitting matrix      :  39% |################                           | \remitting matrix      :  40% |#################                          | \remitting matrix      :  41% |#################                          | \remitting matrix      :  42% |##################                         | \remitting matrix      :  43% |##################                         | \remitting matrix      :  44% |##################                         | \remitting matrix      :  45% |###################                        | \remitting matrix      :  46% |###################                        | \remitting matrix      :  47% |####################                       | \remitting matrix      :  48% |####################                       | \remitting matrix      :  49% |#####################                      | \remitting matrix      :  50% |#####################                      | \remitting matrix      :  51% |#####################                      | \remitting matrix      :  52% |######################                     | \remitting matrix      :  53% |######################                     | \remitting matrix      :  54% |#######################                    | \remitting matrix      :  55% |#######################                    | \remitting matrix      :  56% |########################                   | \remitting matrix      :  57% |########################                   | \remitting matrix      :  58% |########################                   | \remitting matrix      :  59% |#########################                  | \remitting matrix      :  60% |#########################                  | \remitting matrix      :  61% |##########################                 | \remitting matrix      :  62% |##########################                 | \remitting matrix      :  63% |###########################                | \remitting matrix      :  64% |###########################                | \remitting matrix      :  65% |###########################                | \remitting matrix      :  66% |############################               | \remitting matrix      :  67% |############################               | \remitting matrix      :  68% |#############################              | \remitting matrix      :  69% |#############################              | \remitting matrix      :  70% |##############################             | \remitting matrix      :  71% |##############################             | \remitting matrix      :  72% |##############################             | \remitting matrix      :  73% |###############################            | \remitting matrix      :  74% |###############################            | \remitting matrix      :  75% |################################           | \remitting matrix      :  76% |################################           | \remitting matrix      :  77% |#################################          | \remitting matrix      :  78% |#################################          | \remitting matrix      :  79% |#################################          | \remitting matrix      :  80% |##################################         | \remitting matrix      :  81% |##################################         | \remitting matrix      :  82% |###################################        | \remitting matrix      :  83% |###################################        | \remitting matrix      :  84% |####################################       | \remitting matrix      :  85% |####################################       | \remitting matrix      :  86% |####################################       | \remitting matrix      :  87% |#####################################      | \remitting matrix      :  88% |#####################################      | \remitting matrix      :  89% |######################################     | \remitting matrix      :  90% |######################################     | \remitting matrix      :  91% |#######################################    | \remitting matrix      :  92% |#######################################    | \remitting matrix      :  93% |#######################################    | \remitting matrix      :  94% |########################################   | \remitting matrix      :  95% |########################################   | \remitting matrix      :  96% |#########################################  | \remitting matrix      :  97% |#########################################  | \remitting matrix      :  98% |########################################## | \remitting matrix      :  99% |########################################## | \remitting matrix      : 100% |###########################################| \r\n",
            "\r\n",
            "done!\r\n",
            "update-alternatives: using /var/lib/mecab/dic/juman-utf8 to provide /var/lib/mecab/dic/debian (mecab-dictionary) in auto mode\r\n",
            "Setting up mecab (0.996-5) ...\r\n",
            "Setting up mecab-jumandic (7.0-20130310-4) ...\r\n",
            "Processing triggers for man-db (2.8.3-2ubuntu0.1) ...\r\n",
            "Processing triggers for libc-bin (2.27-3ubuntu1.2) ...\r\n",
            "/sbin/ldconfig.real: /usr/local/lib/python3.6/dist-packages/ideep4py/lib/libmkldnn.so.0 is not a symbolic link\r\n",
            "\r\n",
            "Collecting fugashi\n",
            "  Downloading https://files.pythonhosted.org/packages/31/0a/fb7946e8206709ff128c9eff0a4a6db679a6dd7082e034ad5bb35703f6bf/fugashi-1.0.5-cp36-cp36m-manylinux1_x86_64.whl (476kB)\n",
            "Collecting ipadic\n",
            "  Downloading https://files.pythonhosted.org/packages/e7/4e/c459f94d62a0bef89f866857bc51b9105aff236b83928618315b41a26b7b/ipadic-1.0.0.tar.gz (13.4MB)\n",
            "Collecting unidic\n",
            "  Downloading https://files.pythonhosted.org/packages/86/04/c18832fd9959a78fc60eeaa9e7fb37ef31a250e8645cc2897eb1f07939ee/unidic-1.0.3.tar.gz\n",
            "Requirement already satisfied: requests<3.0.0,>=2.22.0 in /usr/local/lib/python3.6/dist-packages (from unidic) (2.23.0)\n",
            "Requirement already satisfied: tqdm<5.0.0,>=4.41.1 in /usr/local/lib/python3.6/dist-packages (from unidic) (4.41.1)\n",
            "Requirement already satisfied: wasabi<1.0.0,>=0.6.0 in /usr/local/lib/python3.6/dist-packages (from unidic) (0.8.0)\n",
            "Requirement already satisfied: plac<2.0.0,>=1.1.3 in /usr/local/lib/python3.6/dist-packages (from unidic) (1.1.3)\n",
            "Requirement already satisfied: idna<3,>=2.5 in /usr/local/lib/python3.6/dist-packages (from requests<3.0.0,>=2.22.0->unidic) (2.10)\n",
            "Requirement already satisfied: certifi>=2017.4.17 in /usr/local/lib/python3.6/dist-packages (from requests<3.0.0,>=2.22.0->unidic) (2020.6.20)\n",
            "Requirement already satisfied: urllib3!=1.25.0,!=1.25.1,<1.26,>=1.21.1 in /usr/local/lib/python3.6/dist-packages (from requests<3.0.0,>=2.22.0->unidic) (1.24.3)\n",
            "Requirement already satisfied: chardet<4,>=3.0.2 in /usr/local/lib/python3.6/dist-packages (from requests<3.0.0,>=2.22.0->unidic) (3.0.4)\n",
            "Building wheels for collected packages: ipadic, unidic\n",
            "  Building wheel for ipadic (setup.py): started\n",
            "  Building wheel for ipadic (setup.py): finished with status 'done'\n",
            "  Created wheel for ipadic: filename=ipadic-1.0.0-cp36-none-any.whl size=13556725 sha256=0d6707530eab4c5c5eecadc49ef537b61a8c7fefd5359d31efcea2c4cde7258c\n",
            "  Stored in directory: /root/.cache/pip/wheels/ff/00/d1/0c094a0ce58a77199a0c5801f0ecf510c80f0ecbec27f07d2c\n",
            "  Building wheel for unidic (setup.py): started\n",
            "  Building wheel for unidic (setup.py): finished with status 'done'\n",
            "  Created wheel for unidic: filename=unidic-1.0.3-cp36-none-any.whl size=5498 sha256=754def3b9dfb7d603049b0106c7c2fe1591366e9ee354dc039d53c1d33eafa3a\n",
            "  Stored in directory: /root/.cache/pip/wheels/d3/26/e2/fb76c79fd14391eb994eab021c9129c24814125298e1e5b96a\n",
            "Successfully built ipadic unidic\n",
            "Installing collected packages: fugashi, ipadic, unidic\n",
            "Successfully installed fugashi-1.0.5 ipadic-1.0.0 unidic-1.0.3\n",
            "download url: https://cotonoha-dic.s3-ap-northeast-1.amazonaws.com/unidic.zip\n",
            "Dictionary version: 2.3.0+2020-10-08\n",
            "Finished download.\n"
          ],
          "name": "stdout"
        },
        {
          "output_type": "stream",
          "text": [
            "Cloning into 'medbertjp'...\n",
            "Downloading UniDic v2.3.0+2020-10-08...\n",
            "\runidic.zip: 0.00B [00:00, ?B/s]\runidic.zip:   0%|          | 8.19k/608M [00:00<16:51:55, 10.0kB/s]\runidic.zip:   0%|          | 24.6k/608M [00:00<12:18:04, 13.7kB/s]\runidic.zip:   0%|          | 57.3k/608M [00:01<8:51:26, 19.1kB/s] \runidic.zip:   0%|          | 106k/608M [00:01<6:21:52, 26.5kB/s] \runidic.zip:   0%|          | 229k/608M [00:01<4:31:12, 37.4kB/s]\runidic.zip:   0%|          | 492k/608M [00:01<3:11:37, 52.9kB/s]\runidic.zip:   0%|          | 1.02M/608M [00:01<2:14:56, 75.0kB/s]\runidic.zip:   0%|          | 2.06M/608M [00:01<1:34:45, 107kB/s] \runidic.zip:   1%|          | 4.14M/608M [00:02<1:06:20, 152kB/s]\runidic.zip:   1%|          | 7.25M/608M [00:02<46:21, 216kB/s]  \runidic.zip:   2%|▏         | 10.3M/608M [00:02<32:26, 307kB/s]\runidic.zip:   2%|▏         | 13.3M/608M [00:02<22:44, 436kB/s]\runidic.zip:   3%|▎         | 16.5M/608M [00:02<15:59, 617kB/s]\runidic.zip:   3%|▎         | 19.5M/608M [00:02<11:17, 869kB/s]\runidic.zip:   4%|▎         | 22.4M/608M [00:03<08:01, 1.22MB/s]\runidic.zip:   4%|▍         | 25.5M/608M [00:03<05:44, 1.69MB/s]\runidic.zip:   5%|▍         | 28.6M/608M [00:03<04:08, 2.33MB/s]\runidic.zip:   5%|▌         | 31.7M/608M [00:03<03:02, 3.17MB/s]\runidic.zip:   6%|▌         | 34.8M/608M [00:03<02:15, 4.22MB/s]\runidic.zip:   6%|▌         | 37.9M/608M [00:03<01:43, 5.52MB/s]\runidic.zip:   7%|▋         | 41.0M/608M [00:04<01:20, 7.04MB/s]\runidic.zip:   7%|▋         | 44.1M/608M [00:04<01:04, 8.71MB/s]\runidic.zip:   8%|▊         | 47.1M/608M [00:04<00:54, 10.4MB/s]\runidic.zip:   8%|▊         | 50.3M/608M [00:04<00:46, 12.1MB/s]\runidic.zip:   9%|▉         | 53.4M/608M [00:04<00:40, 13.6MB/s]\runidic.zip:   9%|▉         | 56.4M/608M [00:04<00:37, 14.9MB/s]\runidic.zip:  10%|▉         | 59.6M/608M [00:04<00:34, 16.1MB/s]\runidic.zip:  10%|█         | 62.7M/608M [00:05<00:32, 17.0MB/s]\runidic.zip:  11%|█         | 65.8M/608M [00:05<00:30, 17.6MB/s]\runidic.zip:  11%|█▏        | 68.8M/608M [00:05<00:29, 18.0MB/s]\runidic.zip:  12%|█▏        | 71.9M/608M [00:05<00:29, 18.4MB/s]\runidic.zip:  12%|█▏        | 74.8M/608M [00:05<00:29, 18.2MB/s]\runidic.zip:  13%|█▎        | 77.9M/608M [00:05<00:28, 18.6MB/s]\runidic.zip:  13%|█▎        | 81.0M/608M [00:06<00:27, 18.9MB/s]\runidic.zip:  14%|█▍        | 84.0M/608M [00:06<00:27, 18.8MB/s]\runidic.zip:  14%|█▍        | 87.1M/608M [00:06<00:27, 19.0MB/s]\runidic.zip:  15%|█▍        | 90.3M/608M [00:06<00:27, 19.2MB/s]\runidic.zip:  15%|█▌        | 93.3M/608M [00:06<00:26, 19.2MB/s]\runidic.zip:  16%|█▌        | 96.5M/608M [00:06<00:26, 19.3MB/s]\runidic.zip:  16%|█▋        | 99.6M/608M [00:07<00:26, 19.4MB/s]\runidic.zip:  17%|█▋        | 103M/608M [00:07<00:26, 19.2MB/s] \runidic.zip:  17%|█▋        | 106M/608M [00:07<00:26, 19.0MB/s]\runidic.zip:  18%|█▊        | 109M/608M [00:07<00:26, 19.0MB/s]\runidic.zip:  18%|█▊        | 112M/608M [00:07<00:26, 18.9MB/s]\runidic.zip:  19%|█▉        | 115M/608M [00:07<00:25, 19.1MB/s]\runidic.zip:  19%|█▉        | 118M/608M [00:08<00:25, 19.2MB/s]\runidic.zip:  20%|█▉        | 121M/608M [00:08<00:25, 19.3MB/s]\runidic.zip:  20%|██        | 124M/608M [00:08<00:25, 19.3MB/s]\runidic.zip:  21%|██        | 127M/608M [00:08<00:24, 19.4MB/s]\runidic.zip:  21%|██▏       | 130M/608M [00:08<00:24, 19.5MB/s]\runidic.zip:  22%|██▏       | 133M/608M [00:08<00:24, 19.4MB/s]\runidic.zip:  22%|██▏       | 137M/608M [00:08<00:24, 19.4MB/s]\runidic.zip:  23%|██▎       | 140M/608M [00:09<00:24, 19.4MB/s]\runidic.zip:  23%|██▎       | 143M/608M [00:09<00:23, 19.4MB/s]\runidic.zip:  24%|██▍       | 146M/608M [00:09<00:23, 19.4MB/s]\runidic.zip:  24%|██▍       | 149M/608M [00:09<00:23, 19.5MB/s]\runidic.zip:  25%|██▌       | 152M/608M [00:09<00:23, 19.5MB/s]\runidic.zip:  26%|██▌       | 155M/608M [00:09<00:23, 19.5MB/s]\runidic.zip:  26%|██▌       | 158M/608M [00:10<00:23, 19.5MB/s]\runidic.zip:  27%|██▋       | 161M/608M [00:10<00:22, 19.5MB/s]\runidic.zip:  27%|██▋       | 165M/608M [00:10<00:22, 19.4MB/s]\runidic.zip:  28%|██▊       | 168M/608M [00:10<00:22, 19.4MB/s]\runidic.zip:  28%|██▊       | 171M/608M [00:10<00:22, 19.4MB/s]\runidic.zip:  29%|██▊       | 174M/608M [00:10<00:22, 19.4MB/s]\runidic.zip:  29%|██▉       | 177M/608M [00:11<00:22, 19.5MB/s]\runidic.zip:  30%|██▉       | 180M/608M [00:11<00:21, 19.5MB/s]\runidic.zip:  30%|███       | 183M/608M [00:11<00:21, 19.5MB/s]\runidic.zip:  31%|███       | 186M/608M [00:11<00:21, 19.4MB/s]\runidic.zip:  31%|███       | 189M/608M [00:11<00:21, 19.4MB/s]\runidic.zip:  32%|███▏      | 193M/608M [00:11<00:21, 19.5MB/s]\runidic.zip:  32%|███▏      | 196M/608M [00:12<00:21, 19.5MB/s]\runidic.zip:  33%|███▎      | 199M/608M [00:12<00:21, 19.3MB/s]\runidic.zip:  33%|███▎      | 202M/608M [00:12<00:21, 19.2MB/s]\runidic.zip:  34%|███▎      | 205M/608M [00:12<00:20, 19.3MB/s]\runidic.zip:  34%|███▍      | 208M/608M [00:12<00:20, 19.4MB/s]\runidic.zip:  35%|███▍      | 211M/608M [00:12<00:20, 19.3MB/s]\runidic.zip:  35%|███▌      | 214M/608M [00:12<00:20, 19.4MB/s]\runidic.zip:  36%|███▌      | 217M/608M [00:13<00:20, 19.5MB/s]\runidic.zip:  36%|███▌      | 220M/608M [00:13<00:19, 19.5MB/s]\runidic.zip:  37%|███▋      | 224M/608M [00:13<00:19, 19.4MB/s]\runidic.zip:  37%|███▋      | 227M/608M [00:13<00:19, 19.5MB/s]\runidic.zip:  38%|███▊      | 230M/608M [00:13<00:19, 19.5MB/s]\runidic.zip:  38%|███▊      | 233M/608M [00:13<00:19, 19.5MB/s]\runidic.zip:  39%|███▉      | 236M/608M [00:14<00:19, 19.5MB/s]\runidic.zip:  39%|███▉      | 239M/608M [00:14<00:18, 19.5MB/s]\runidic.zip:  40%|███▉      | 242M/608M [00:14<00:18, 19.5MB/s]\runidic.zip:  40%|████      | 245M/608M [00:14<00:18, 19.4MB/s]\runidic.zip:  41%|████      | 248M/608M [00:14<00:18, 19.5MB/s]\runidic.zip:  41%|████▏     | 252M/608M [00:14<00:18, 19.4MB/s]\runidic.zip:  42%|████▏     | 255M/608M [00:15<00:18, 19.5MB/s]\runidic.zip:  42%|████▏     | 258M/608M [00:15<00:17, 19.5MB/s]\runidic.zip:  43%|████▎     | 261M/608M [00:15<00:17, 19.5MB/s]\runidic.zip:  43%|████▎     | 264M/608M [00:15<00:17, 19.5MB/s]\runidic.zip:  44%|████▍     | 267M/608M [00:15<00:17, 19.5MB/s]\runidic.zip:  44%|████▍     | 270M/608M [00:15<00:17, 19.5MB/s]\runidic.zip:  45%|████▍     | 271M/608M [00:17<04:16, 1.31MB/s]\runidic.zip:  45%|████▍     | 273M/608M [00:17<03:04, 1.82MB/s]\runidic.zip:  45%|████▌     | 275M/608M [00:17<02:13, 2.49MB/s]\runidic.zip:  45%|████▌     | 276M/608M [00:17<01:46, 3.12MB/s]\runidic.zip:  46%|████▌     | 277M/608M [00:18<01:32, 3.58MB/s]\runidic.zip:  46%|████▌     | 280M/608M [00:18<01:07, 4.83MB/s]\runidic.zip:  46%|████▋     | 283M/608M [00:18<00:52, 6.18MB/s]\runidic.zip:  47%|████▋     | 286M/608M [00:18<00:41, 7.72MB/s]\runidic.zip:  47%|████▋     | 289M/608M [00:18<00:32, 9.69MB/s]\runidic.zip:  48%|████▊     | 290M/608M [00:18<00:32, 9.78MB/s]\runidic.zip:  48%|████▊     | 292M/608M [00:18<00:27, 11.7MB/s]\runidic.zip:  48%|████▊     | 295M/608M [00:19<00:23, 13.2MB/s]\runidic.zip:  49%|████▉     | 297M/608M [00:19<00:23, 13.0MB/s]\runidic.zip:  49%|████▉     | 299M/608M [00:19<00:21, 14.6MB/s]\runidic.zip:  50%|████▉     | 302M/608M [00:19<00:19, 16.0MB/s]\runidic.zip:  50%|████▉     | 304M/608M [00:19<00:18, 16.9MB/s]\runidic.zip:  50%|█████     | 306M/608M [00:19<00:19, 15.7MB/s]\runidic.zip:  51%|█████     | 308M/608M [00:19<00:16, 17.8MB/s]\runidic.zip:  51%|█████     | 311M/608M [00:19<00:16, 18.3MB/s]\runidic.zip:  51%|█████▏    | 313M/608M [00:20<00:15, 18.6MB/s]\runidic.zip:  52%|█████▏    | 315M/608M [00:20<00:17, 17.2MB/s]\runidic.zip:  52%|█████▏    | 318M/608M [00:20<00:15, 19.0MB/s]\runidic.zip:  53%|█████▎    | 320M/608M [00:20<00:14, 19.3MB/s]\runidic.zip:  53%|█████▎    | 322M/608M [00:20<00:15, 18.5MB/s]\runidic.zip:  53%|█████▎    | 324M/608M [00:20<00:15, 17.8MB/s]\runidic.zip:  54%|█████▍    | 327M/608M [00:20<00:14, 19.5MB/s]\runidic.zip:  54%|█████▍    | 330M/608M [00:20<00:14, 19.8MB/s]\runidic.zip:  54%|█████▍    | 331M/608M [00:20<00:14, 18.6MB/s]\runidic.zip:  55%|█████▍    | 334M/608M [00:21<00:15, 17.9MB/s]\runidic.zip:  55%|█████▌    | 336M/608M [00:21<00:13, 19.5MB/s]\runidic.zip:  56%|█████▌    | 339M/608M [00:21<00:12, 21.2MB/s]\runidic.zip:  56%|█████▌    | 340M/608M [00:21<00:18, 14.4MB/s]\runidic.zip:  56%|█████▋    | 343M/608M [00:21<00:16, 16.5MB/s]\runidic.zip:  57%|█████▋    | 345M/608M [00:21<00:14, 18.6MB/s]\runidic.zip:  57%|█████▋    | 346M/608M [00:21<00:19, 13.3MB/s]\runidic.zip:  57%|█████▋    | 349M/608M [00:21<00:16, 15.5MB/s]\runidic.zip:  58%|█████▊    | 351M/608M [00:21<00:14, 17.6MB/s]\runidic.zip:  58%|█████▊    | 352M/608M [00:22<00:19, 13.3MB/s]\runidic.zip:  58%|█████▊    | 355M/608M [00:22<00:16, 15.5MB/s]\runidic.zip:  59%|█████▉    | 358M/608M [00:22<00:14, 17.5MB/s]\runidic.zip:  59%|█████▉    | 359M/608M [00:22<00:18, 13.3MB/s]\runidic.zip:  59%|█████▉    | 361M/608M [00:22<00:15, 15.6MB/s]\runidic.zip:  60%|█████▉    | 364M/608M [00:22<00:13, 17.6MB/s]\runidic.zip:  60%|█████▉    | 365M/608M [00:22<00:18, 13.2MB/s]\runidic.zip:  60%|██████    | 368M/608M [00:22<00:15, 15.5MB/s]\runidic.zip:  61%|██████    | 370M/608M [00:22<00:13, 17.5MB/s]\runidic.zip:  61%|██████    | 371M/608M [00:23<00:17, 13.3MB/s]\runidic.zip:  61%|██████▏   | 374M/608M [00:23<00:15, 15.5MB/s]\runidic.zip:  62%|██████▏   | 376M/608M [00:23<00:13, 17.5MB/s]\runidic.zip:  62%|██████▏   | 377M/608M [00:23<00:17, 13.5MB/s]\runidic.zip:  62%|██████▏   | 380M/608M [00:23<00:14, 15.7MB/s]\runidic.zip:  63%|██████▎   | 382M/608M [00:23<00:13, 17.1MB/s]\runidic.zip:  63%|██████▎   | 384M/608M [00:23<00:15, 14.8MB/s]\runidic.zip:  64%|██████▎   | 386M/608M [00:23<00:13, 16.9MB/s]\runidic.zip:  64%|██████▍   | 389M/608M [00:23<00:12, 18.1MB/s]\runidic.zip:  64%|██████▍   | 390M/608M [00:23<00:14, 15.3MB/s]\runidic.zip:  65%|██████▍   | 393M/608M [00:24<00:12, 17.4MB/s]\runidic.zip:  65%|██████▍   | 395M/608M [00:24<00:11, 18.5MB/s]\runidic.zip:  65%|██████▌   | 396M/608M [00:24<00:13, 15.6MB/s]\runidic.zip:  66%|██████▌   | 399M/608M [00:24<00:11, 17.6MB/s]\runidic.zip:  66%|██████▌   | 401M/608M [00:24<00:11, 18.7MB/s]\runidic.zip:  66%|██████▌   | 402M/608M [00:24<00:13, 15.6MB/s]\runidic.zip:  67%|██████▋   | 405M/608M [00:24<00:11, 17.5MB/s]\runidic.zip:  67%|██████▋   | 408M/608M [00:24<00:10, 18.8MB/s]\runidic.zip:  67%|██████▋   | 409M/608M [00:24<00:12, 15.5MB/s]\runidic.zip:  68%|██████▊   | 411M/608M [00:25<00:11, 17.4MB/s]\runidic.zip:  68%|██████▊   | 414M/608M [00:25<00:10, 18.8MB/s]\runidic.zip:  68%|██████▊   | 415M/608M [00:25<00:12, 15.4MB/s]\runidic.zip:  69%|██████▊   | 417M/608M [00:25<00:11, 17.1MB/s]\runidic.zip:  69%|██████▉   | 420M/608M [00:25<00:09, 18.9MB/s]\runidic.zip:  69%|██████▉   | 421M/608M [00:25<00:12, 15.4MB/s]\runidic.zip:  70%|██████▉   | 424M/608M [00:25<00:10, 17.0MB/s]\runidic.zip:  70%|███████   | 426M/608M [00:25<00:09, 18.8MB/s]\runidic.zip:  70%|███████   | 427M/608M [00:25<00:11, 15.4MB/s]\runidic.zip:  71%|███████   | 430M/608M [00:26<00:10, 17.0MB/s]\runidic.zip:  71%|███████   | 433M/608M [00:26<00:09, 18.8MB/s]\runidic.zip:  71%|███████▏  | 434M/608M [00:26<00:11, 15.4MB/s]\runidic.zip:  72%|███████▏  | 436M/608M [00:26<00:10, 16.9MB/s]\runidic.zip:  72%|███████▏  | 439M/608M [00:26<00:08, 18.9MB/s]\runidic.zip:  72%|███████▏  | 440M/608M [00:26<00:10, 15.4MB/s]\runidic.zip:  73%|███████▎  | 442M/608M [00:26<00:09, 16.9MB/s]\runidic.zip:  73%|███████▎  | 445M/608M [00:26<00:08, 18.9MB/s]\runidic.zip:  73%|███████▎  | 446M/608M [00:26<00:10, 15.4MB/s]\runidic.zip:  74%|███████▍  | 449M/608M [00:26<00:09, 16.9MB/s]\runidic.zip:  74%|███████▍  | 451M/608M [00:27<00:08, 18.9MB/s]\runidic.zip:  74%|███████▍  | 452M/608M [00:27<00:10, 15.0MB/s]\runidic.zip:  75%|███████▍  | 455M/608M [00:27<00:09, 16.7MB/s]\runidic.zip:  75%|███████▌  | 458M/608M [00:27<00:08, 18.7MB/s]\runidic.zip:  75%|███████▌  | 459M/608M [00:27<00:10, 14.4MB/s]\runidic.zip:  76%|███████▌  | 461M/608M [00:27<00:09, 16.2MB/s]\runidic.zip:  76%|███████▋  | 464M/608M [00:27<00:07, 18.3MB/s]\runidic.zip:  76%|███████▋  | 465M/608M [00:27<00:10, 14.1MB/s]\runidic.zip:  77%|███████▋  | 467M/608M [00:27<00:08, 16.0MB/s]\runidic.zip:  77%|███████▋  | 470M/608M [00:28<00:07, 18.0MB/s]\runidic.zip:  77%|███████▋  | 471M/608M [00:28<00:09, 14.0MB/s]\runidic.zip:  78%|███████▊  | 474M/608M [00:28<00:08, 15.9MB/s]\runidic.zip:  78%|███████▊  | 476M/608M [00:28<00:07, 17.9MB/s]\runidic.zip:  78%|███████▊  | 477M/608M [00:28<00:09, 14.4MB/s]\runidic.zip:  79%|███████▉  | 480M/608M [00:28<00:07, 16.3MB/s]\runidic.zip:  79%|███████▉  | 483M/608M [00:28<00:06, 18.2MB/s]\runidic.zip:  80%|███████▉  | 484M/608M [00:28<00:08, 14.6MB/s]\runidic.zip:  80%|███████▉  | 486M/608M [00:28<00:07, 16.4MB/s]\runidic.zip:  80%|████████  | 489M/608M [00:29<00:06, 18.3MB/s]\runidic.zip:  81%|████████  | 490M/608M [00:29<00:08, 14.7MB/s]\runidic.zip:  81%|████████  | 492M/608M [00:29<00:07, 16.5MB/s]\runidic.zip:  81%|████████▏ | 495M/608M [00:29<00:06, 18.4MB/s]\runidic.zip:  82%|████████▏ | 496M/608M [00:29<00:07, 14.5MB/s]\runidic.zip:  82%|████████▏ | 499M/608M [00:29<00:06, 16.4MB/s]\runidic.zip:  82%|████████▏ | 501M/608M [00:29<00:05, 18.4MB/s]\runidic.zip:  83%|████████▎ | 502M/608M [00:29<00:07, 14.3MB/s]\runidic.zip:  83%|████████▎ | 505M/608M [00:29<00:06, 16.3MB/s]\runidic.zip:  83%|████████▎ | 508M/608M [00:29<00:05, 18.2MB/s]\runidic.zip:  84%|████████▎ | 509M/608M [00:30<00:06, 14.3MB/s]\runidic.zip:  84%|████████▍ | 511M/608M [00:30<00:05, 16.3MB/s]\runidic.zip:  84%|████████▍ | 514M/608M [00:30<00:05, 18.2MB/s]\runidic.zip:  85%|████████▍ | 515M/608M [00:30<00:06, 14.3MB/s]\runidic.zip:  85%|████████▌ | 517M/608M [00:30<00:05, 16.3MB/s]\runidic.zip:  86%|████████▌ | 520M/608M [00:30<00:04, 18.2MB/s]\runidic.zip:  86%|████████▌ | 521M/608M [00:30<00:06, 14.3MB/s]\runidic.zip:  86%|████████▌ | 524M/608M [00:30<00:05, 16.2MB/s]\runidic.zip:  87%|████████▋ | 526M/608M [00:30<00:04, 18.3MB/s]\runidic.zip:  87%|████████▋ | 527M/608M [00:31<00:05, 14.2MB/s]\runidic.zip:  87%|████████▋ | 530M/608M [00:31<00:04, 16.1MB/s]\runidic.zip:  88%|████████▊ | 533M/608M [00:31<00:04, 18.2MB/s]\runidic.zip:  88%|████████▊ | 534M/608M [00:31<00:05, 14.2MB/s]\runidic.zip:  88%|████████▊ | 536M/608M [00:31<00:04, 16.1MB/s]\runidic.zip:  89%|████████▊ | 539M/608M [00:31<00:03, 18.4MB/s]\runidic.zip:  89%|████████▉ | 540M/608M [00:31<00:04, 14.5MB/s]\runidic.zip:  89%|████████▉ | 542M/608M [00:31<00:04, 16.4MB/s]\runidic.zip:  90%|████████▉ | 545M/608M [00:31<00:03, 18.6MB/s]\runidic.zip:  90%|████████▉ | 546M/608M [00:31<00:04, 14.3MB/s]\runidic.zip:  90%|█████████ | 549M/608M [00:32<00:03, 16.3MB/s]\runidic.zip:  91%|█████████ | 551M/608M [00:32<00:03, 17.7MB/s]\runidic.zip:  91%|█████████ | 552M/608M [00:32<00:03, 16.1MB/s]\runidic.zip:  91%|█████████ | 555M/608M [00:32<00:02, 17.9MB/s]\runidic.zip:  92%|█████████▏| 557M/608M [00:32<00:02, 18.9MB/s]\runidic.zip:  92%|█████████▏| 559M/608M [00:32<00:02, 16.8MB/s]\runidic.zip:  92%|█████████▏| 561M/608M [00:32<00:02, 18.6MB/s]\runidic.zip:  93%|█████████▎| 563M/608M [00:32<00:02, 19.5MB/s]\runidic.zip:  93%|█████████▎| 565M/608M [00:32<00:02, 17.1MB/s]\runidic.zip:  93%|█████████▎| 567M/608M [00:33<00:02, 18.8MB/s]\runidic.zip:  94%|█████████▎| 570M/608M [00:33<00:01, 19.6MB/s]\runidic.zip:  94%|█████████▍| 571M/608M [00:33<00:02, 17.0MB/s]\runidic.zip:  94%|█████████▍| 574M/608M [00:33<00:01, 18.8MB/s]\runidic.zip:  95%|█████████▍| 576M/608M [00:33<00:01, 19.6MB/s]\runidic.zip:  95%|█████████▍| 577M/608M [00:33<00:01, 16.9MB/s]\runidic.zip:  95%|█████████▌| 580M/608M [00:33<00:01, 18.8MB/s]\runidic.zip:  96%|█████████▌| 582M/608M [00:33<00:01, 19.6MB/s]\runidic.zip:  96%|█████████▌| 584M/608M [00:33<00:01, 16.9MB/s]\runidic.zip:  96%|█████████▋| 586M/608M [00:34<00:01, 18.8MB/s]\runidic.zip:  97%|█████████▋| 588M/608M [00:34<00:01, 19.6MB/s]\runidic.zip:  97%|█████████▋| 590M/608M [00:34<00:01, 16.9MB/s]\runidic.zip:  97%|█████████▋| 592M/608M [00:34<00:00, 18.8MB/s]\runidic.zip:  98%|█████████▊| 595M/608M [00:34<00:00, 19.6MB/s]\runidic.zip:  98%|█████████▊| 596M/608M [00:34<00:00, 16.6MB/s]\runidic.zip:  98%|█████████▊| 599M/608M [00:34<00:00, 18.7MB/s]\runidic.zip:  99%|█████████▉| 601M/608M [00:34<00:00, 19.5MB/s]\runidic.zip:  99%|█████████▉| 602M/608M [00:34<00:00, 16.6MB/s]\runidic.zip:  99%|█████████▉| 605M/608M [00:34<00:00, 18.6MB/s]\runidic.zip: 100%|█████████▉| 607M/608M [00:35<00:00, 19.2MB/s]\runidic.zip: 100%|██████████| 608M/608M [00:35<00:00, 17.3MB/s]\n",
            "Downloaded UniDic v2.3.0+2020-10-08 to /usr/local/lib/python3.6/dist-packages/unidic/dicdir\n"
          ],
          "name": "stderr"
        }
      ]
    },
    {
      "cell_type": "code",
      "metadata": {
        "id": "BJS5AKb5zAbv"
      },
      "source": [
        "import random\n",
        "import torch\n",
        "from medbertjp.tokenization_jp_mod import BertJapaneseTokenizer\n",
        "from transformers.modeling_bert import BertForMaskedLM"
      ],
      "execution_count": 2,
      "outputs": []
    },
    {
      "cell_type": "code",
      "metadata": {
        "id": "L9VDmuq94YXE"
      },
      "source": [
        "def prediction_masked_sentence(sentence, tokenizer, model):\n",
        "    mask_token_id = tokenizer.mask_token_id\n",
        "    \n",
        "    input_ids = tokenizer.encode(text, return_tensors='pt')\n",
        "    print(' '.join(tokenizer.convert_ids_to_tokens(input_ids.tolist()[0])))\n",
        "    masked_index = random.randint(1, len(input_ids[0]) - 2)\n",
        "    input_ids[0][masked_index] = mask_token_id\n",
        "    print(' '.join(tokenizer.convert_ids_to_tokens(input_ids.tolist()[0])))\n",
        "    \n",
        "    result = model(input_ids)\n",
        "    topk = torch.nn.Softmax(dim=1)(result[0][:, masked_index]).topk(5)\n",
        "    scores = topk.values.tolist()[0]\n",
        "    pred_ids = topk.indices.tolist()[0]\n",
        "    for i, pred_id in enumerate(pred_ids):\n",
        "        output_ids = input_ids.tolist()[0]\n",
        "        output_ids[masked_index] = pred_id\n",
        "        \n",
        "        pred_sentence = tokenizer.convert_ids_to_tokens(output_ids)\n",
        "        pred_sentence = [token if n != masked_index else '【' + token + '】'\n",
        "                         for n, token in enumerate(pred_sentence)]\n",
        "        print('{:.1f} %'.format(scores[i] * 100).rjust(7), ' '.join(pred_sentence))\n",
        "        \n",
        "    return result"
      ],
      "execution_count": 3,
      "outputs": []
    },
    {
      "cell_type": "code",
      "metadata": {
        "id": "RZNqUQDNznjH"
      },
      "source": [
        "text = '慢性膵炎では，糖尿病性ケトアシドーシス(DKA)の合併は比較的稀である．'\n",
        "\n",
        "# Model path\n",
        "PathToBertJpMecabUnidic = './medBERTjp_L12_H768_A12_WWM_mecab-unidic'\n",
        "PathToBertJpMecabIpadic = './medBERTjp_L12_H768_A12_WWM_mecab-ipadic'\n",
        "PathToBertJpSentencepiece = './medBERTjp_L12_H768_A12_sentencepiece'"
      ],
      "execution_count": 4,
      "outputs": []
    },
    {
      "cell_type": "markdown",
      "metadata": {
        "id": "cl1HVWJV6P-D"
      },
      "source": [
        "##  MeCab-IPAdic-tokenized Japanese BERT model\n",
        "For general sentences."
      ]
    },
    {
      "cell_type": "code",
      "metadata": {
        "id": "bHvK3L9a6rmJ",
        "outputId": "bbae054e-eed1-460c-9bb2-2a9cee3c4b45",
        "colab": {
          "base_uri": "https://localhost:8080/",
          "height": 243,
          "referenced_widgets": [
            "005aa1f1104346a7bb3b57192b9b0105",
            "8e1aca05113d4588bfaa3ce7f586b839",
            "c6f6cd235f734792a625e98d09fe0951",
            "8a2fd61838774eb38dca8369afb0826e",
            "f02bf4ffd20c4af583afe9158163b3be",
            "b20a8a3dec8349b1bc2b1b8e445feadb",
            "81957b2ad0194d838953c43f94cb2251",
            "4ab1cd7bf2924e07a6ebea44d1111687",
            "ea61a24ecd0344219f02bd194c4f5e66",
            "4b31c0a28d3e4a89887b50c57164d791",
            "97314ad03ef44219a7f3f7aeddbb4296",
            "240c4293ad86466f9e5955d27d83c340",
            "c44efe8809d7447383c8105f6990e3e3",
            "72c0f1f17f09408f9d92cc582ba5c4d1",
            "453489df76a948b7baf36d462597c126",
            "dbabdb51639f419fb0fb39888ac11be9",
            "38833835411949709c856a94a66a3327",
            "f6f82f152bb04ccdbe97d3f98cae5237",
            "5d29620ffdaa4f2a81fd27f62f3e6d2d",
            "29111141b4f147a0a682b8896d80c9bc",
            "60f87c2f9bb24ae28d21606bcc90c989",
            "fb1693af207a44d1a04a40bc8c250c68",
            "6fb5772297cb4d58be869c038aa6e557",
            "76d76d66c1d941d2a331f12b99c64532"
          ]
        }
      },
      "source": [
        "tokenizer = BertJapaneseTokenizer.from_pretrained('cl-tohoku/bert-base-japanese-whole-word-masking',\n",
        "                                                  word_tokenizer_type='mecab',\n",
        "                                                  mecab_kwargs={\n",
        "                                                     \"mecab_dic\": 'ipadic',\n",
        "                                                 })\n",
        "model = BertForMaskedLM.from_pretrained('cl-tohoku/bert-base-japanese-whole-word-masking')"
      ],
      "execution_count": 5,
      "outputs": [
        {
          "output_type": "display_data",
          "data": {
            "application/vnd.jupyter.widget-view+json": {
              "model_id": "005aa1f1104346a7bb3b57192b9b0105",
              "version_minor": 0,
              "version_major": 2
            },
            "text/plain": [
              "HBox(children=(FloatProgress(value=0.0, description='Downloading', max=257706.0, style=ProgressStyle(descripti…"
            ]
          },
          "metadata": {
            "tags": []
          }
        },
        {
          "output_type": "stream",
          "text": [
            "\n"
          ],
          "name": "stdout"
        },
        {
          "output_type": "display_data",
          "data": {
            "application/vnd.jupyter.widget-view+json": {
              "model_id": "ea61a24ecd0344219f02bd194c4f5e66",
              "version_minor": 0,
              "version_major": 2
            },
            "text/plain": [
              "HBox(children=(FloatProgress(value=0.0, description='Downloading', max=433.0, style=ProgressStyle(description_…"
            ]
          },
          "metadata": {
            "tags": []
          }
        },
        {
          "output_type": "stream",
          "text": [
            "\n"
          ],
          "name": "stdout"
        },
        {
          "output_type": "display_data",
          "data": {
            "application/vnd.jupyter.widget-view+json": {
              "model_id": "38833835411949709c856a94a66a3327",
              "version_minor": 0,
              "version_major": 2
            },
            "text/plain": [
              "HBox(children=(FloatProgress(value=0.0, description='Downloading', max=445021143.0, style=ProgressStyle(descri…"
            ]
          },
          "metadata": {
            "tags": []
          }
        },
        {
          "output_type": "stream",
          "text": [
            "\n"
          ],
          "name": "stdout"
        },
        {
          "output_type": "stream",
          "text": [
            "Some weights of the model checkpoint at cl-tohoku/bert-base-japanese-whole-word-masking were not used when initializing BertForMaskedLM: ['cls.seq_relationship.weight', 'cls.seq_relationship.bias']\n",
            "- This IS expected if you are initializing BertForMaskedLM from the checkpoint of a model trained on another task or with another architecture (e.g. initializing a BertForSequenceClassification model from a BertForPretraining model).\n",
            "- This IS NOT expected if you are initializing BertForMaskedLM from the checkpoint of a model that you expect to be exactly identical (initializing a BertForSequenceClassification model from a BertForSequenceClassification model).\n"
          ],
          "name": "stderr"
        }
      ]
    },
    {
      "cell_type": "code",
      "metadata": {
        "id": "eLAY5fyB7URm",
        "outputId": "949941d9-614d-4bb3-a42b-9dbba0d5bb9f",
        "colab": {
          "base_uri": "https://localhost:8080/",
          "height": 165
        }
      },
      "source": [
        "# An Example of Masked Language Modeling.\n",
        "result = prediction_masked_sentence(text, tokenizer, model)"
      ],
      "execution_count": 6,
      "outputs": [
        {
          "output_type": "stream",
          "text": [
            "[CLS] 慢性 [UNK] で は , 糖尿 病 性 ケ ##ト ##アシ ##ドー ##シス ( D ##KA ) の 合併 は 比較的 稀 で ある . [SEP]\n",
            "[CLS] 慢性 [UNK] で は , 糖尿 病 性 [MASK] ##ト ##アシ ##ドー ##シス ( D ##KA ) の 合併 は 比較的 稀 で ある . [SEP]\n",
            " 50.7 % [CLS] 慢性 [UNK] で は , 糖尿 病 性 【ケ】 ##ト ##アシ ##ドー ##シス ( D ##KA ) の 合併 は 比較的 稀 で ある . [SEP]\n",
            "  7.9 % [CLS] 慢性 [UNK] で は , 糖尿 病 性 【網】 ##ト ##アシ ##ドー ##シス ( D ##KA ) の 合併 は 比較的 稀 で ある . [SEP]\n",
            "  6.1 % [CLS] 慢性 [UNK] で は , 糖尿 病 性 【アセ】 ##ト ##アシ ##ドー ##シス ( D ##KA ) の 合併 は 比較的 稀 で ある . [SEP]\n",
            "  4.9 % [CLS] 慢性 [UNK] で は , 糖尿 病 性 【コリン】 ##ト ##アシ ##ドー ##シス ( D ##KA ) の 合併 は 比較的 稀 で ある . [SEP]\n",
            "  3.4 % [CLS] 慢性 [UNK] で は , 糖尿 病 性 【コレ】 ##ト ##アシ ##ドー ##シス ( D ##KA ) の 合併 は 比較的 稀 で ある . [SEP]\n"
          ],
          "name": "stdout"
        }
      ]
    },
    {
      "cell_type": "markdown",
      "metadata": {
        "id": "YJhLA7co4nxO"
      },
      "source": [
        "## medBERTjp - SentencePiece\n",
        "For medical sentences."
      ]
    },
    {
      "cell_type": "code",
      "metadata": {
        "id": "lBw2rYlN3qdY"
      },
      "source": [
        "%%bash\n",
        "wget https://github.com/ou-medinfo/medbertjp/releases/download/v0.1-sp/medBERTjp_L12_H768_A12_sentencepiece.zip\n",
        "unzip ./medBERTjp_L12_H768_A12_sentencepiece.zip"
      ],
      "execution_count": null,
      "outputs": []
    },
    {
      "cell_type": "code",
      "metadata": {
        "id": "NxHnN8eG3YSY",
        "outputId": "0e827d4c-3cc6-4399-b5b6-208b34441463",
        "colab": {
          "base_uri": "https://localhost:8080/",
          "height": 128
        }
      },
      "source": [
        "model_path = PathToBertJpSentencepiece\n",
        "tokenizer = BertJapaneseTokenizer.from_pretrained(model_path,\n",
        "                                                  word_tokenizer_type='sp',\n",
        "                                                 )\n",
        "model = BertForMaskedLM.from_pretrained(model_path)"
      ],
      "execution_count": 8,
      "outputs": [
        {
          "output_type": "stream",
          "text": [
            "medBERTjp_L12_H768_A12_sentencepiece/vocab.model\n",
            "Loaded a trained SentencePiece model.\n"
          ],
          "name": "stdout"
        },
        {
          "output_type": "stream",
          "text": [
            "Some weights of the model checkpoint at ./medBERTjp_L12_H768_A12_sentencepiece were not used when initializing BertForMaskedLM: ['cls.seq_relationship.weight', 'cls.seq_relationship.bias']\n",
            "- This IS expected if you are initializing BertForMaskedLM from the checkpoint of a model trained on another task or with another architecture (e.g. initializing a BertForSequenceClassification model from a BertForPretraining model).\n",
            "- This IS NOT expected if you are initializing BertForMaskedLM from the checkpoint of a model that you expect to be exactly identical (initializing a BertForSequenceClassification model from a BertForSequenceClassification model).\n"
          ],
          "name": "stderr"
        }
      ]
    },
    {
      "cell_type": "code",
      "metadata": {
        "id": "aWYZHpmE4Uj6",
        "outputId": "ef582050-5dd4-47e9-a1a3-1db3ba0d2f7d",
        "colab": {
          "base_uri": "https://localhost:8080/",
          "height": 145
        }
      },
      "source": [
        "# An Example of Masked Language Modeling.\n",
        "result = prediction_masked_sentence(text, tokenizer, model)"
      ],
      "execution_count": 9,
      "outputs": [
        {
          "output_type": "stream",
          "text": [
            "[CLS] ▁ 慢性膵炎 では , 糖尿病性ケトアシドーシス ( D KA ) の合併 は比較的 稀である . [SEP]\n",
            "[CLS] ▁ 慢性膵炎 では , 糖尿病性ケトアシドーシス ( D KA ) の合併 は比較的 [MASK] . [SEP]\n",
            " 39.1 % [CLS] ▁ 慢性膵炎 では , 糖尿病性ケトアシドーシス ( D KA ) の合併 は比較的 【少ない】 . [SEP]\n",
            " 24.5 % [CLS] ▁ 慢性膵炎 では , 糖尿病性ケトアシドーシス ( D KA ) の合併 は比較的 【稀である】 . [SEP]\n",
            " 15.2 % [CLS] ▁ 慢性膵炎 では , 糖尿病性ケトアシドーシス ( D KA ) の合併 は比較的 【多い】 . [SEP]\n",
            "  8.7 % [CLS] ▁ 慢性膵炎 では , 糖尿病性ケトアシドーシス ( D KA ) の合併 は比較的 【高い】 . [SEP]\n",
            "  3.4 % [CLS] ▁ 慢性膵炎 では , 糖尿病性ケトアシドーシス ( D KA ) の合併 は比較的 【まれである】 . [SEP]\n"
          ],
          "name": "stdout"
        }
      ]
    },
    {
      "cell_type": "markdown",
      "metadata": {
        "id": "V-kJnXlO72Wb"
      },
      "source": [
        "## medBERTjp - MeCab with IPAdic\n",
        "For medical sentences."
      ]
    },
    {
      "cell_type": "code",
      "metadata": {
        "id": "-m4luEY672Wg"
      },
      "source": [
        "%%bash\n",
        "wget https://github.com/ou-medinfo/medbertjp/releases/download/v0.1-mi/medBERTjp_L12_H768_A12_WWM_mecab-ipadic.zip\n",
        "unzip ./medBERTjp_L12_H768_A12_WWM_mecab-ipadic.zip"
      ],
      "execution_count": null,
      "outputs": []
    },
    {
      "cell_type": "code",
      "metadata": {
        "id": "T_FDAsqM72Wu",
        "outputId": "15438772-0ec9-47e0-dab6-48afb1c33a2d",
        "colab": {
          "base_uri": "https://localhost:8080/",
          "height": 92
        }
      },
      "source": [
        "model_path = PathToBertJpMecabIpadic\n",
        "tokenizer = BertJapaneseTokenizer.from_pretrained(model_path, \n",
        "                                                 mecab_kwargs={\n",
        "                                                     \"mecab_dic\": 'ipadic',\n",
        "                                                 })\n",
        "model = BertForMaskedLM.from_pretrained(model_path)"
      ],
      "execution_count": 11,
      "outputs": [
        {
          "output_type": "stream",
          "text": [
            "Some weights of the model checkpoint at ./medBERTjp_L12_H768_A12_WWM_mecab-ipadic were not used when initializing BertForMaskedLM: ['cls.seq_relationship.weight', 'cls.seq_relationship.bias']\n",
            "- This IS expected if you are initializing BertForMaskedLM from the checkpoint of a model trained on another task or with another architecture (e.g. initializing a BertForSequenceClassification model from a BertForPretraining model).\n",
            "- This IS NOT expected if you are initializing BertForMaskedLM from the checkpoint of a model that you expect to be exactly identical (initializing a BertForSequenceClassification model from a BertForSequenceClassification model).\n"
          ],
          "name": "stderr"
        }
      ]
    },
    {
      "cell_type": "code",
      "metadata": {
        "id": "o8NGT_K572W3",
        "outputId": "7337e0d7-b123-43c2-e6a5-4daabe5a4a53",
        "colab": {
          "base_uri": "https://localhost:8080/",
          "height": 165
        }
      },
      "source": [
        "# An Example of Masked Language Modeling.\n",
        "result = prediction_masked_sentence(text, tokenizer, model)"
      ],
      "execution_count": 12,
      "outputs": [
        {
          "output_type": "stream",
          "text": [
            "[CLS] 慢性 膵炎 で は , 糖尿 病 性 ケトアシドーシス ( D ##KA ) の 合併 は 比較的 稀 で ある . [SEP]\n",
            "[CLS] 慢性 膵炎 [MASK] は , 糖尿 病 性 ケトアシドーシス ( D ##KA ) の 合併 は 比較的 稀 で ある . [SEP]\n",
            " 81.3 % [CLS] 慢性 膵炎 【で】 は , 糖尿 病 性 ケトアシドーシス ( D ##KA ) の 合併 は 比較的 稀 で ある . [SEP]\n",
            " 11.3 % [CLS] 慢性 膵炎 【において】 は , 糖尿 病 性 ケトアシドーシス ( D ##KA ) の 合併 は 比較的 稀 で ある . [SEP]\n",
            "  1.9 % [CLS] 慢性 膵炎 【に関して】 は , 糖尿 病 性 ケトアシドーシス ( D ##KA ) の 合併 は 比較的 稀 で ある . [SEP]\n",
            "  1.8 % [CLS] 慢性 膵炎 【に】 は , 糖尿 病 性 ケトアシドーシス ( D ##KA ) の 合併 は 比較的 稀 で ある . [SEP]\n",
            "  0.8 % [CLS] 慢性 膵炎 【以外】 は , 糖尿 病 性 ケトアシドーシス ( D ##KA ) の 合併 は 比較的 稀 で ある . [SEP]\n"
          ],
          "name": "stdout"
        }
      ]
    },
    {
      "cell_type": "markdown",
      "metadata": {
        "id": "mp587HAw85ar"
      },
      "source": [
        "## medBERTjp - MeCab with Unidic\n",
        "is not available now, but will be uploaded soon.\n"
      ]
    },
    {
      "cell_type": "code",
      "metadata": {
        "id": "RJl0m16w-6rA"
      },
      "source": [
        "# model_path = PathToBertJpMecabUnidic\n",
        "# tokenizer = BertJapaneseTokenizer.from_pretrained(model_path, \n",
        "#                                                  mecab_kwargs={\n",
        "#                                                      \"mecab_dic\": 'unidic',\n",
        "#                                                  })\n",
        "# model = BertForMaskedLM.from_pretrained(model_path)"
      ],
      "execution_count": 13,
      "outputs": []
    },
    {
      "cell_type": "code",
      "metadata": {
        "id": "Iq-mC5Zk-6rR"
      },
      "source": [
        "# # An Example of Masked Language Modeling.\n",
        "# result = prediction_masked_sentence(text, tokenizer, model)"
      ],
      "execution_count": 14,
      "outputs": []
    }
  ]
}