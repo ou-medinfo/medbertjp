{
  "nbformat": 4,
  "nbformat_minor": 0,
  "metadata": {
    "colab": {
      "name": "example_google_colab.ipynb",
      "provenance": [],
      "collapsed_sections": [],
      "toc_visible": true
    },
    "kernelspec": {
      "name": "python3",
      "display_name": "Python 3"
    },
    "widgets": {
      "application/vnd.jupyter.widget-state+json": {
        "dedc112e859e44a6bede86d49bc189c2": {
          "model_module": "@jupyter-widgets/controls",
          "model_name": "HBoxModel",
          "state": {
            "_view_name": "HBoxView",
            "_dom_classes": [],
            "_model_name": "HBoxModel",
            "_view_module": "@jupyter-widgets/controls",
            "_model_module_version": "1.5.0",
            "_view_count": null,
            "_view_module_version": "1.5.0",
            "box_style": "",
            "layout": "IPY_MODEL_cec158ecb9b443f0b425146f6f24802b",
            "_model_module": "@jupyter-widgets/controls",
            "children": [
              "IPY_MODEL_cf13d9aabcfd4ce1a3d8fba98ae9c9fb",
              "IPY_MODEL_0981fba80a3b433cbc58772fce784937"
            ]
          }
        },
        "cec158ecb9b443f0b425146f6f24802b": {
          "model_module": "@jupyter-widgets/base",
          "model_name": "LayoutModel",
          "state": {
            "_view_name": "LayoutView",
            "grid_template_rows": null,
            "right": null,
            "justify_content": null,
            "_view_module": "@jupyter-widgets/base",
            "overflow": null,
            "_model_module_version": "1.2.0",
            "_view_count": null,
            "flex_flow": null,
            "width": null,
            "min_width": null,
            "border": null,
            "align_items": null,
            "bottom": null,
            "_model_module": "@jupyter-widgets/base",
            "top": null,
            "grid_column": null,
            "overflow_y": null,
            "overflow_x": null,
            "grid_auto_flow": null,
            "grid_area": null,
            "grid_template_columns": null,
            "flex": null,
            "_model_name": "LayoutModel",
            "justify_items": null,
            "grid_row": null,
            "max_height": null,
            "align_content": null,
            "visibility": null,
            "align_self": null,
            "height": null,
            "min_height": null,
            "padding": null,
            "grid_auto_rows": null,
            "grid_gap": null,
            "max_width": null,
            "order": null,
            "_view_module_version": "1.2.0",
            "grid_template_areas": null,
            "object_position": null,
            "object_fit": null,
            "grid_auto_columns": null,
            "margin": null,
            "display": null,
            "left": null
          }
        },
        "cf13d9aabcfd4ce1a3d8fba98ae9c9fb": {
          "model_module": "@jupyter-widgets/controls",
          "model_name": "FloatProgressModel",
          "state": {
            "_view_name": "ProgressView",
            "style": "IPY_MODEL_0d3d960a973a4343b8370eacf881124d",
            "_dom_classes": [],
            "description": "Downloading: 100%",
            "_model_name": "FloatProgressModel",
            "bar_style": "success",
            "max": 257706,
            "_view_module": "@jupyter-widgets/controls",
            "_model_module_version": "1.5.0",
            "value": 257706,
            "_view_count": null,
            "_view_module_version": "1.5.0",
            "orientation": "horizontal",
            "min": 0,
            "description_tooltip": null,
            "_model_module": "@jupyter-widgets/controls",
            "layout": "IPY_MODEL_f630c9d5b390408a936167225a0caa83"
          }
        },
        "0981fba80a3b433cbc58772fce784937": {
          "model_module": "@jupyter-widgets/controls",
          "model_name": "HTMLModel",
          "state": {
            "_view_name": "HTMLView",
            "style": "IPY_MODEL_14b5b8c7c3f04fb28d8e6ab7d6751936",
            "_dom_classes": [],
            "description": "",
            "_model_name": "HTMLModel",
            "placeholder": "​",
            "_view_module": "@jupyter-widgets/controls",
            "_model_module_version": "1.5.0",
            "value": " 258k/258k [00:00&lt;00:00, 2.36MB/s]",
            "_view_count": null,
            "_view_module_version": "1.5.0",
            "description_tooltip": null,
            "_model_module": "@jupyter-widgets/controls",
            "layout": "IPY_MODEL_7f31a7a429764892900d4c1d390d69a3"
          }
        },
        "0d3d960a973a4343b8370eacf881124d": {
          "model_module": "@jupyter-widgets/controls",
          "model_name": "ProgressStyleModel",
          "state": {
            "_view_name": "StyleView",
            "_model_name": "ProgressStyleModel",
            "description_width": "initial",
            "_view_module": "@jupyter-widgets/base",
            "_model_module_version": "1.5.0",
            "_view_count": null,
            "_view_module_version": "1.2.0",
            "bar_color": null,
            "_model_module": "@jupyter-widgets/controls"
          }
        },
        "f630c9d5b390408a936167225a0caa83": {
          "model_module": "@jupyter-widgets/base",
          "model_name": "LayoutModel",
          "state": {
            "_view_name": "LayoutView",
            "grid_template_rows": null,
            "right": null,
            "justify_content": null,
            "_view_module": "@jupyter-widgets/base",
            "overflow": null,
            "_model_module_version": "1.2.0",
            "_view_count": null,
            "flex_flow": null,
            "width": null,
            "min_width": null,
            "border": null,
            "align_items": null,
            "bottom": null,
            "_model_module": "@jupyter-widgets/base",
            "top": null,
            "grid_column": null,
            "overflow_y": null,
            "overflow_x": null,
            "grid_auto_flow": null,
            "grid_area": null,
            "grid_template_columns": null,
            "flex": null,
            "_model_name": "LayoutModel",
            "justify_items": null,
            "grid_row": null,
            "max_height": null,
            "align_content": null,
            "visibility": null,
            "align_self": null,
            "height": null,
            "min_height": null,
            "padding": null,
            "grid_auto_rows": null,
            "grid_gap": null,
            "max_width": null,
            "order": null,
            "_view_module_version": "1.2.0",
            "grid_template_areas": null,
            "object_position": null,
            "object_fit": null,
            "grid_auto_columns": null,
            "margin": null,
            "display": null,
            "left": null
          }
        },
        "14b5b8c7c3f04fb28d8e6ab7d6751936": {
          "model_module": "@jupyter-widgets/controls",
          "model_name": "DescriptionStyleModel",
          "state": {
            "_view_name": "StyleView",
            "_model_name": "DescriptionStyleModel",
            "description_width": "",
            "_view_module": "@jupyter-widgets/base",
            "_model_module_version": "1.5.0",
            "_view_count": null,
            "_view_module_version": "1.2.0",
            "_model_module": "@jupyter-widgets/controls"
          }
        },
        "7f31a7a429764892900d4c1d390d69a3": {
          "model_module": "@jupyter-widgets/base",
          "model_name": "LayoutModel",
          "state": {
            "_view_name": "LayoutView",
            "grid_template_rows": null,
            "right": null,
            "justify_content": null,
            "_view_module": "@jupyter-widgets/base",
            "overflow": null,
            "_model_module_version": "1.2.0",
            "_view_count": null,
            "flex_flow": null,
            "width": null,
            "min_width": null,
            "border": null,
            "align_items": null,
            "bottom": null,
            "_model_module": "@jupyter-widgets/base",
            "top": null,
            "grid_column": null,
            "overflow_y": null,
            "overflow_x": null,
            "grid_auto_flow": null,
            "grid_area": null,
            "grid_template_columns": null,
            "flex": null,
            "_model_name": "LayoutModel",
            "justify_items": null,
            "grid_row": null,
            "max_height": null,
            "align_content": null,
            "visibility": null,
            "align_self": null,
            "height": null,
            "min_height": null,
            "padding": null,
            "grid_auto_rows": null,
            "grid_gap": null,
            "max_width": null,
            "order": null,
            "_view_module_version": "1.2.0",
            "grid_template_areas": null,
            "object_position": null,
            "object_fit": null,
            "grid_auto_columns": null,
            "margin": null,
            "display": null,
            "left": null
          }
        },
        "0879f1359af34c6c941ddcb7dd67c84d": {
          "model_module": "@jupyter-widgets/controls",
          "model_name": "HBoxModel",
          "state": {
            "_view_name": "HBoxView",
            "_dom_classes": [],
            "_model_name": "HBoxModel",
            "_view_module": "@jupyter-widgets/controls",
            "_model_module_version": "1.5.0",
            "_view_count": null,
            "_view_module_version": "1.5.0",
            "box_style": "",
            "layout": "IPY_MODEL_1838d542a13a455fb46f2659ce3dea32",
            "_model_module": "@jupyter-widgets/controls",
            "children": [
              "IPY_MODEL_ae4821c0979f4bc7b2075579bf60f20a",
              "IPY_MODEL_f6f3d792de0e4675aacdc5eb09861b48"
            ]
          }
        },
        "1838d542a13a455fb46f2659ce3dea32": {
          "model_module": "@jupyter-widgets/base",
          "model_name": "LayoutModel",
          "state": {
            "_view_name": "LayoutView",
            "grid_template_rows": null,
            "right": null,
            "justify_content": null,
            "_view_module": "@jupyter-widgets/base",
            "overflow": null,
            "_model_module_version": "1.2.0",
            "_view_count": null,
            "flex_flow": null,
            "width": null,
            "min_width": null,
            "border": null,
            "align_items": null,
            "bottom": null,
            "_model_module": "@jupyter-widgets/base",
            "top": null,
            "grid_column": null,
            "overflow_y": null,
            "overflow_x": null,
            "grid_auto_flow": null,
            "grid_area": null,
            "grid_template_columns": null,
            "flex": null,
            "_model_name": "LayoutModel",
            "justify_items": null,
            "grid_row": null,
            "max_height": null,
            "align_content": null,
            "visibility": null,
            "align_self": null,
            "height": null,
            "min_height": null,
            "padding": null,
            "grid_auto_rows": null,
            "grid_gap": null,
            "max_width": null,
            "order": null,
            "_view_module_version": "1.2.0",
            "grid_template_areas": null,
            "object_position": null,
            "object_fit": null,
            "grid_auto_columns": null,
            "margin": null,
            "display": null,
            "left": null
          }
        },
        "ae4821c0979f4bc7b2075579bf60f20a": {
          "model_module": "@jupyter-widgets/controls",
          "model_name": "FloatProgressModel",
          "state": {
            "_view_name": "ProgressView",
            "style": "IPY_MODEL_b404389a0c564a738d811cd4b2af1942",
            "_dom_classes": [],
            "description": "Downloading: 100%",
            "_model_name": "FloatProgressModel",
            "bar_style": "success",
            "max": 433,
            "_view_module": "@jupyter-widgets/controls",
            "_model_module_version": "1.5.0",
            "value": 433,
            "_view_count": null,
            "_view_module_version": "1.5.0",
            "orientation": "horizontal",
            "min": 0,
            "description_tooltip": null,
            "_model_module": "@jupyter-widgets/controls",
            "layout": "IPY_MODEL_37de3fd8bdd84d72ba9bb9be2bd597eb"
          }
        },
        "f6f3d792de0e4675aacdc5eb09861b48": {
          "model_module": "@jupyter-widgets/controls",
          "model_name": "HTMLModel",
          "state": {
            "_view_name": "HTMLView",
            "style": "IPY_MODEL_269b252983b6486f8b9db791ec79348d",
            "_dom_classes": [],
            "description": "",
            "_model_name": "HTMLModel",
            "placeholder": "​",
            "_view_module": "@jupyter-widgets/controls",
            "_model_module_version": "1.5.0",
            "value": " 433/433 [00:00&lt;00:00, 1.67kB/s]",
            "_view_count": null,
            "_view_module_version": "1.5.0",
            "description_tooltip": null,
            "_model_module": "@jupyter-widgets/controls",
            "layout": "IPY_MODEL_20c26929aa644f9a8e733148d23ca10d"
          }
        },
        "b404389a0c564a738d811cd4b2af1942": {
          "model_module": "@jupyter-widgets/controls",
          "model_name": "ProgressStyleModel",
          "state": {
            "_view_name": "StyleView",
            "_model_name": "ProgressStyleModel",
            "description_width": "initial",
            "_view_module": "@jupyter-widgets/base",
            "_model_module_version": "1.5.0",
            "_view_count": null,
            "_view_module_version": "1.2.0",
            "bar_color": null,
            "_model_module": "@jupyter-widgets/controls"
          }
        },
        "37de3fd8bdd84d72ba9bb9be2bd597eb": {
          "model_module": "@jupyter-widgets/base",
          "model_name": "LayoutModel",
          "state": {
            "_view_name": "LayoutView",
            "grid_template_rows": null,
            "right": null,
            "justify_content": null,
            "_view_module": "@jupyter-widgets/base",
            "overflow": null,
            "_model_module_version": "1.2.0",
            "_view_count": null,
            "flex_flow": null,
            "width": null,
            "min_width": null,
            "border": null,
            "align_items": null,
            "bottom": null,
            "_model_module": "@jupyter-widgets/base",
            "top": null,
            "grid_column": null,
            "overflow_y": null,
            "overflow_x": null,
            "grid_auto_flow": null,
            "grid_area": null,
            "grid_template_columns": null,
            "flex": null,
            "_model_name": "LayoutModel",
            "justify_items": null,
            "grid_row": null,
            "max_height": null,
            "align_content": null,
            "visibility": null,
            "align_self": null,
            "height": null,
            "min_height": null,
            "padding": null,
            "grid_auto_rows": null,
            "grid_gap": null,
            "max_width": null,
            "order": null,
            "_view_module_version": "1.2.0",
            "grid_template_areas": null,
            "object_position": null,
            "object_fit": null,
            "grid_auto_columns": null,
            "margin": null,
            "display": null,
            "left": null
          }
        },
        "269b252983b6486f8b9db791ec79348d": {
          "model_module": "@jupyter-widgets/controls",
          "model_name": "DescriptionStyleModel",
          "state": {
            "_view_name": "StyleView",
            "_model_name": "DescriptionStyleModel",
            "description_width": "",
            "_view_module": "@jupyter-widgets/base",
            "_model_module_version": "1.5.0",
            "_view_count": null,
            "_view_module_version": "1.2.0",
            "_model_module": "@jupyter-widgets/controls"
          }
        },
        "20c26929aa644f9a8e733148d23ca10d": {
          "model_module": "@jupyter-widgets/base",
          "model_name": "LayoutModel",
          "state": {
            "_view_name": "LayoutView",
            "grid_template_rows": null,
            "right": null,
            "justify_content": null,
            "_view_module": "@jupyter-widgets/base",
            "overflow": null,
            "_model_module_version": "1.2.0",
            "_view_count": null,
            "flex_flow": null,
            "width": null,
            "min_width": null,
            "border": null,
            "align_items": null,
            "bottom": null,
            "_model_module": "@jupyter-widgets/base",
            "top": null,
            "grid_column": null,
            "overflow_y": null,
            "overflow_x": null,
            "grid_auto_flow": null,
            "grid_area": null,
            "grid_template_columns": null,
            "flex": null,
            "_model_name": "LayoutModel",
            "justify_items": null,
            "grid_row": null,
            "max_height": null,
            "align_content": null,
            "visibility": null,
            "align_self": null,
            "height": null,
            "min_height": null,
            "padding": null,
            "grid_auto_rows": null,
            "grid_gap": null,
            "max_width": null,
            "order": null,
            "_view_module_version": "1.2.0",
            "grid_template_areas": null,
            "object_position": null,
            "object_fit": null,
            "grid_auto_columns": null,
            "margin": null,
            "display": null,
            "left": null
          }
        },
        "9a1f87176a8542f882b3733f9a76b972": {
          "model_module": "@jupyter-widgets/controls",
          "model_name": "HBoxModel",
          "state": {
            "_view_name": "HBoxView",
            "_dom_classes": [],
            "_model_name": "HBoxModel",
            "_view_module": "@jupyter-widgets/controls",
            "_model_module_version": "1.5.0",
            "_view_count": null,
            "_view_module_version": "1.5.0",
            "box_style": "",
            "layout": "IPY_MODEL_9ae27ed5b1bb4568864924fb9d1cbbc0",
            "_model_module": "@jupyter-widgets/controls",
            "children": [
              "IPY_MODEL_cc28f3e68c1f4433bf3404f0ff78df56",
              "IPY_MODEL_ed1093702740464fb1a4f985d9a234b0"
            ]
          }
        },
        "9ae27ed5b1bb4568864924fb9d1cbbc0": {
          "model_module": "@jupyter-widgets/base",
          "model_name": "LayoutModel",
          "state": {
            "_view_name": "LayoutView",
            "grid_template_rows": null,
            "right": null,
            "justify_content": null,
            "_view_module": "@jupyter-widgets/base",
            "overflow": null,
            "_model_module_version": "1.2.0",
            "_view_count": null,
            "flex_flow": null,
            "width": null,
            "min_width": null,
            "border": null,
            "align_items": null,
            "bottom": null,
            "_model_module": "@jupyter-widgets/base",
            "top": null,
            "grid_column": null,
            "overflow_y": null,
            "overflow_x": null,
            "grid_auto_flow": null,
            "grid_area": null,
            "grid_template_columns": null,
            "flex": null,
            "_model_name": "LayoutModel",
            "justify_items": null,
            "grid_row": null,
            "max_height": null,
            "align_content": null,
            "visibility": null,
            "align_self": null,
            "height": null,
            "min_height": null,
            "padding": null,
            "grid_auto_rows": null,
            "grid_gap": null,
            "max_width": null,
            "order": null,
            "_view_module_version": "1.2.0",
            "grid_template_areas": null,
            "object_position": null,
            "object_fit": null,
            "grid_auto_columns": null,
            "margin": null,
            "display": null,
            "left": null
          }
        },
        "cc28f3e68c1f4433bf3404f0ff78df56": {
          "model_module": "@jupyter-widgets/controls",
          "model_name": "FloatProgressModel",
          "state": {
            "_view_name": "ProgressView",
            "style": "IPY_MODEL_e1472e0ca6b3455b84854c57ed13c11b",
            "_dom_classes": [],
            "description": "Downloading: 100%",
            "_model_name": "FloatProgressModel",
            "bar_style": "success",
            "max": 445021143,
            "_view_module": "@jupyter-widgets/controls",
            "_model_module_version": "1.5.0",
            "value": 445021143,
            "_view_count": null,
            "_view_module_version": "1.5.0",
            "orientation": "horizontal",
            "min": 0,
            "description_tooltip": null,
            "_model_module": "@jupyter-widgets/controls",
            "layout": "IPY_MODEL_7a97f94407cc48e99a23ef18d6bd812e"
          }
        },
        "ed1093702740464fb1a4f985d9a234b0": {
          "model_module": "@jupyter-widgets/controls",
          "model_name": "HTMLModel",
          "state": {
            "_view_name": "HTMLView",
            "style": "IPY_MODEL_e8bfd128824846b787dbe149a519ed0c",
            "_dom_classes": [],
            "description": "",
            "_model_name": "HTMLModel",
            "placeholder": "​",
            "_view_module": "@jupyter-widgets/controls",
            "_model_module_version": "1.5.0",
            "value": " 445M/445M [00:22&lt;00:00, 20.1MB/s]",
            "_view_count": null,
            "_view_module_version": "1.5.0",
            "description_tooltip": null,
            "_model_module": "@jupyter-widgets/controls",
            "layout": "IPY_MODEL_643f82e27695420f86e942af0f20698a"
          }
        },
        "e1472e0ca6b3455b84854c57ed13c11b": {
          "model_module": "@jupyter-widgets/controls",
          "model_name": "ProgressStyleModel",
          "state": {
            "_view_name": "StyleView",
            "_model_name": "ProgressStyleModel",
            "description_width": "initial",
            "_view_module": "@jupyter-widgets/base",
            "_model_module_version": "1.5.0",
            "_view_count": null,
            "_view_module_version": "1.2.0",
            "bar_color": null,
            "_model_module": "@jupyter-widgets/controls"
          }
        },
        "7a97f94407cc48e99a23ef18d6bd812e": {
          "model_module": "@jupyter-widgets/base",
          "model_name": "LayoutModel",
          "state": {
            "_view_name": "LayoutView",
            "grid_template_rows": null,
            "right": null,
            "justify_content": null,
            "_view_module": "@jupyter-widgets/base",
            "overflow": null,
            "_model_module_version": "1.2.0",
            "_view_count": null,
            "flex_flow": null,
            "width": null,
            "min_width": null,
            "border": null,
            "align_items": null,
            "bottom": null,
            "_model_module": "@jupyter-widgets/base",
            "top": null,
            "grid_column": null,
            "overflow_y": null,
            "overflow_x": null,
            "grid_auto_flow": null,
            "grid_area": null,
            "grid_template_columns": null,
            "flex": null,
            "_model_name": "LayoutModel",
            "justify_items": null,
            "grid_row": null,
            "max_height": null,
            "align_content": null,
            "visibility": null,
            "align_self": null,
            "height": null,
            "min_height": null,
            "padding": null,
            "grid_auto_rows": null,
            "grid_gap": null,
            "max_width": null,
            "order": null,
            "_view_module_version": "1.2.0",
            "grid_template_areas": null,
            "object_position": null,
            "object_fit": null,
            "grid_auto_columns": null,
            "margin": null,
            "display": null,
            "left": null
          }
        },
        "e8bfd128824846b787dbe149a519ed0c": {
          "model_module": "@jupyter-widgets/controls",
          "model_name": "DescriptionStyleModel",
          "state": {
            "_view_name": "StyleView",
            "_model_name": "DescriptionStyleModel",
            "description_width": "",
            "_view_module": "@jupyter-widgets/base",
            "_model_module_version": "1.5.0",
            "_view_count": null,
            "_view_module_version": "1.2.0",
            "_model_module": "@jupyter-widgets/controls"
          }
        },
        "643f82e27695420f86e942af0f20698a": {
          "model_module": "@jupyter-widgets/base",
          "model_name": "LayoutModel",
          "state": {
            "_view_name": "LayoutView",
            "grid_template_rows": null,
            "right": null,
            "justify_content": null,
            "_view_module": "@jupyter-widgets/base",
            "overflow": null,
            "_model_module_version": "1.2.0",
            "_view_count": null,
            "flex_flow": null,
            "width": null,
            "min_width": null,
            "border": null,
            "align_items": null,
            "bottom": null,
            "_model_module": "@jupyter-widgets/base",
            "top": null,
            "grid_column": null,
            "overflow_y": null,
            "overflow_x": null,
            "grid_auto_flow": null,
            "grid_area": null,
            "grid_template_columns": null,
            "flex": null,
            "_model_name": "LayoutModel",
            "justify_items": null,
            "grid_row": null,
            "max_height": null,
            "align_content": null,
            "visibility": null,
            "align_self": null,
            "height": null,
            "min_height": null,
            "padding": null,
            "grid_auto_rows": null,
            "grid_gap": null,
            "max_width": null,
            "order": null,
            "_view_module_version": "1.2.0",
            "grid_template_areas": null,
            "object_position": null,
            "object_fit": null,
            "grid_auto_columns": null,
            "margin": null,
            "display": null,
            "left": null
          }
        }
      }
    }
  },
  "cells": [
    {
      "cell_type": "markdown",
      "metadata": {
        "id": "wDXQ1XUf5Ojv"
      },
      "source": [
        "# Sample Code for Google Colab"
      ]
    },
    {
      "cell_type": "markdown",
      "metadata": {
        "id": "T6hYmgBb5d_5"
      },
      "source": [
        "## Setting\n",
        "install modules  \n",
        "import modules  \n",
        "define function and paths.  "
      ]
    },
    {
      "cell_type": "code",
      "metadata": {
        "id": "9uO6XT7C9SS-",
        "outputId": "05203bf5-ad47-44e3-df87-96e44c75cb7c",
        "colab": {
          "base_uri": "https://localhost:8080/"
        }
      },
      "source": [
        "%%bash\n",
        "# clone our repository.\n",
        "git clone https://github.com/ou-medinfo/medbertjp.git\n",
        "\n",
        "# install transformers\n",
        "pip install transformers\n",
        "\n",
        "# install a Japanese tokenizer and morphological analysis tools.\n",
        "# apt-get install mecab    # included in fugashi\n",
        "pip install fugashi ipadic unidic\n",
        "python -m unidic download"
      ],
      "execution_count": 1,
      "outputs": [
        {
          "output_type": "stream",
          "text": [
            "Collecting transformers\n",
            "  Downloading https://files.pythonhosted.org/packages/2c/4e/4f1ede0fd7a36278844a277f8d53c21f88f37f3754abf76a5d6224f76d4a/transformers-3.4.0-py3-none-any.whl (1.3MB)\n",
            "Requirement already satisfied: packaging in /usr/local/lib/python3.6/dist-packages (from transformers) (20.4)\n",
            "Requirement already satisfied: numpy in /usr/local/lib/python3.6/dist-packages (from transformers) (1.18.5)\n",
            "Requirement already satisfied: requests in /usr/local/lib/python3.6/dist-packages (from transformers) (2.23.0)\n",
            "Requirement already satisfied: regex!=2019.12.17 in /usr/local/lib/python3.6/dist-packages (from transformers) (2019.12.20)\n",
            "Collecting sacremoses\n",
            "  Downloading https://files.pythonhosted.org/packages/7d/34/09d19aff26edcc8eb2a01bed8e98f13a1537005d31e95233fd48216eed10/sacremoses-0.0.43.tar.gz (883kB)\n",
            "Collecting sentencepiece!=0.1.92\n",
            "  Downloading https://files.pythonhosted.org/packages/e5/2d/6d4ca4bef9a67070fa1cac508606328329152b1df10bdf31fb6e4e727894/sentencepiece-0.1.94-cp36-cp36m-manylinux2014_x86_64.whl (1.1MB)\n",
            "Collecting tokenizers==0.9.2\n",
            "  Downloading https://files.pythonhosted.org/packages/7c/a5/78be1a55b2ac8d6a956f0a211d372726e2b1dd2666bb537fea9b03abd62c/tokenizers-0.9.2-cp36-cp36m-manylinux1_x86_64.whl (2.9MB)\n",
            "Requirement already satisfied: protobuf in /usr/local/lib/python3.6/dist-packages (from transformers) (3.12.4)\n",
            "Requirement already satisfied: dataclasses; python_version < \"3.7\" in /usr/local/lib/python3.6/dist-packages (from transformers) (0.7)\n",
            "Requirement already satisfied: filelock in /usr/local/lib/python3.6/dist-packages (from transformers) (3.0.12)\n",
            "Requirement already satisfied: tqdm>=4.27 in /usr/local/lib/python3.6/dist-packages (from transformers) (4.41.1)\n",
            "Requirement already satisfied: six in /usr/local/lib/python3.6/dist-packages (from packaging->transformers) (1.15.0)\n",
            "Requirement already satisfied: pyparsing>=2.0.2 in /usr/local/lib/python3.6/dist-packages (from packaging->transformers) (2.4.7)\n",
            "Requirement already satisfied: certifi>=2017.4.17 in /usr/local/lib/python3.6/dist-packages (from requests->transformers) (2020.6.20)\n",
            "Requirement already satisfied: urllib3!=1.25.0,!=1.25.1,<1.26,>=1.21.1 in /usr/local/lib/python3.6/dist-packages (from requests->transformers) (1.24.3)\n",
            "Requirement already satisfied: chardet<4,>=3.0.2 in /usr/local/lib/python3.6/dist-packages (from requests->transformers) (3.0.4)\n",
            "Requirement already satisfied: idna<3,>=2.5 in /usr/local/lib/python3.6/dist-packages (from requests->transformers) (2.10)\n",
            "Requirement already satisfied: click in /usr/local/lib/python3.6/dist-packages (from sacremoses->transformers) (7.1.2)\n",
            "Requirement already satisfied: joblib in /usr/local/lib/python3.6/dist-packages (from sacremoses->transformers) (0.17.0)\n",
            "Requirement already satisfied: setuptools in /usr/local/lib/python3.6/dist-packages (from protobuf->transformers) (50.3.2)\n",
            "Building wheels for collected packages: sacremoses\n",
            "  Building wheel for sacremoses (setup.py): started\n",
            "  Building wheel for sacremoses (setup.py): finished with status 'done'\n",
            "  Created wheel for sacremoses: filename=sacremoses-0.0.43-cp36-none-any.whl size=893257 sha256=046d825c82f651a4f1ecd6a39937d6d6c798305a0a48b4e2d854290f9b3a3ea4\n",
            "  Stored in directory: /root/.cache/pip/wheels/29/3c/fd/7ce5c3f0666dab31a50123635e6fb5e19ceb42ce38d4e58f45\n",
            "Successfully built sacremoses\n",
            "Installing collected packages: sacremoses, sentencepiece, tokenizers, transformers\n",
            "Successfully installed sacremoses-0.0.43 sentencepiece-0.1.94 tokenizers-0.9.2 transformers-3.4.0\n",
            "Collecting fugashi\n",
            "  Downloading https://files.pythonhosted.org/packages/31/0a/fb7946e8206709ff128c9eff0a4a6db679a6dd7082e034ad5bb35703f6bf/fugashi-1.0.5-cp36-cp36m-manylinux1_x86_64.whl (476kB)\n",
            "Collecting ipadic\n",
            "  Downloading https://files.pythonhosted.org/packages/e7/4e/c459f94d62a0bef89f866857bc51b9105aff236b83928618315b41a26b7b/ipadic-1.0.0.tar.gz (13.4MB)\n",
            "Collecting unidic\n",
            "  Downloading https://files.pythonhosted.org/packages/86/04/c18832fd9959a78fc60eeaa9e7fb37ef31a250e8645cc2897eb1f07939ee/unidic-1.0.3.tar.gz\n",
            "Requirement already satisfied: requests<3.0.0,>=2.22.0 in /usr/local/lib/python3.6/dist-packages (from unidic) (2.23.0)\n",
            "Requirement already satisfied: tqdm<5.0.0,>=4.41.1 in /usr/local/lib/python3.6/dist-packages (from unidic) (4.41.1)\n",
            "Requirement already satisfied: wasabi<1.0.0,>=0.6.0 in /usr/local/lib/python3.6/dist-packages (from unidic) (0.8.0)\n",
            "Requirement already satisfied: plac<2.0.0,>=1.1.3 in /usr/local/lib/python3.6/dist-packages (from unidic) (1.1.3)\n",
            "Requirement already satisfied: chardet<4,>=3.0.2 in /usr/local/lib/python3.6/dist-packages (from requests<3.0.0,>=2.22.0->unidic) (3.0.4)\n",
            "Requirement already satisfied: certifi>=2017.4.17 in /usr/local/lib/python3.6/dist-packages (from requests<3.0.0,>=2.22.0->unidic) (2020.6.20)\n",
            "Requirement already satisfied: urllib3!=1.25.0,!=1.25.1,<1.26,>=1.21.1 in /usr/local/lib/python3.6/dist-packages (from requests<3.0.0,>=2.22.0->unidic) (1.24.3)\n",
            "Requirement already satisfied: idna<3,>=2.5 in /usr/local/lib/python3.6/dist-packages (from requests<3.0.0,>=2.22.0->unidic) (2.10)\n",
            "Building wheels for collected packages: ipadic, unidic\n",
            "  Building wheel for ipadic (setup.py): started\n",
            "  Building wheel for ipadic (setup.py): finished with status 'done'\n",
            "  Created wheel for ipadic: filename=ipadic-1.0.0-cp36-none-any.whl size=13556725 sha256=52f2efa802b230c8cdfd98f1801f26340de42361633fc72824112170879fb281\n",
            "  Stored in directory: /root/.cache/pip/wheels/ff/00/d1/0c094a0ce58a77199a0c5801f0ecf510c80f0ecbec27f07d2c\n",
            "  Building wheel for unidic (setup.py): started\n",
            "  Building wheel for unidic (setup.py): finished with status 'done'\n",
            "  Created wheel for unidic: filename=unidic-1.0.3-cp36-none-any.whl size=5498 sha256=87cc55a1494ba29cf06411b125a2ac9fa6e1d74b3ac6e63dd2f6f7baf3db8774\n",
            "  Stored in directory: /root/.cache/pip/wheels/d3/26/e2/fb76c79fd14391eb994eab021c9129c24814125298e1e5b96a\n",
            "Successfully built ipadic unidic\n",
            "Installing collected packages: fugashi, ipadic, unidic\n",
            "Successfully installed fugashi-1.0.5 ipadic-1.0.0 unidic-1.0.3\n",
            "download url: https://cotonoha-dic.s3-ap-northeast-1.amazonaws.com/unidic.zip\n",
            "Dictionary version: 2.3.0+2020-10-08\n",
            "Finished download.\n"
          ],
          "name": "stdout"
        },
        {
          "output_type": "stream",
          "text": [
            "Cloning into 'medbertjp'...\n",
            "Downloading UniDic v2.3.0+2020-10-08...\n",
            "\runidic.zip: 0.00B [00:00, ?B/s]\runidic.zip:   0%|          | 8.19k/608M [00:00<20:31:10, 8.23kB/s]\runidic.zip:   0%|          | 41.0k/608M [00:01<14:36:49, 11.6kB/s]\runidic.zip:   0%|          | 106k/608M [00:01<10:21:13, 16.3kB/s] \runidic.zip:   0%|          | 246k/608M [00:01<7:18:17, 23.1kB/s] \runidic.zip:   0%|          | 508k/608M [00:01<5:08:33, 32.8kB/s]\runidic.zip:   0%|          | 1.03M/608M [00:01<3:36:44, 46.7kB/s]\runidic.zip:   0%|          | 2.07M/608M [00:01<2:31:55, 66.5kB/s]\runidic.zip:   1%|          | 4.19M/608M [00:02<1:46:12, 94.8kB/s]\runidic.zip:   1%|          | 7.25M/608M [00:02<1:14:07, 135kB/s] \runidic.zip:   2%|▏         | 10.4M/608M [00:02<51:46, 192kB/s]  \runidic.zip:   2%|▏         | 13.5M/608M [00:02<36:12, 274kB/s]\runidic.zip:   3%|▎         | 16.5M/608M [00:02<25:22, 389kB/s]\runidic.zip:   3%|▎         | 19.7M/608M [00:02<17:49, 550kB/s]\runidic.zip:   4%|▎         | 22.8M/608M [00:03<12:33, 777kB/s]\runidic.zip:   4%|▍         | 25.9M/608M [00:03<08:53, 1.09MB/s]\runidic.zip:   5%|▍         | 28.9M/608M [00:03<06:21, 1.52MB/s]\runidic.zip:   5%|▌         | 31.9M/608M [00:03<04:34, 2.10MB/s]\runidic.zip:   6%|▌         | 35.0M/608M [00:03<03:20, 2.86MB/s]\runidic.zip:   6%|▋         | 38.1M/608M [00:03<02:28, 3.84MB/s]\runidic.zip:   7%|▋         | 41.3M/608M [00:04<01:52, 5.06MB/s]\runidic.zip:   7%|▋         | 44.4M/608M [00:04<01:26, 6.50MB/s]\runidic.zip:   8%|▊         | 46.9M/608M [00:04<01:11, 7.86MB/s]\runidic.zip:   8%|▊         | 50.0M/608M [00:04<00:58, 9.54MB/s]\runidic.zip:   9%|▊         | 53.0M/608M [00:04<00:49, 11.2MB/s]\runidic.zip:   9%|▉         | 56.1M/608M [00:04<00:43, 12.8MB/s]\runidic.zip:  10%|▉         | 59.3M/608M [00:05<00:38, 14.2MB/s]\runidic.zip:  10%|█         | 62.4M/608M [00:05<00:35, 15.4MB/s]\runidic.zip:  11%|█         | 65.3M/608M [00:05<00:33, 16.2MB/s]\runidic.zip:  11%|█         | 68.3M/608M [00:05<00:32, 16.8MB/s]\runidic.zip:  12%|█▏        | 71.5M/608M [00:05<00:30, 17.5MB/s]\runidic.zip:  12%|█▏        | 74.6M/608M [00:05<00:29, 17.9MB/s]\runidic.zip:  13%|█▎        | 77.7M/608M [00:06<00:28, 18.3MB/s]\runidic.zip:  13%|█▎        | 80.8M/608M [00:06<00:28, 18.6MB/s]\runidic.zip:  14%|█▍        | 83.8M/608M [00:06<00:28, 18.6MB/s]\runidic.zip:  14%|█▍        | 87.0M/608M [00:06<00:27, 18.8MB/s]\runidic.zip:  15%|█▍        | 90.1M/608M [00:06<00:27, 18.9MB/s]\runidic.zip:  15%|█▌        | 93.2M/608M [00:06<00:27, 19.0MB/s]\runidic.zip:  16%|█▌        | 96.2M/608M [00:06<00:27, 19.0MB/s]\runidic.zip:  16%|█▋        | 99.3M/608M [00:07<00:26, 19.0MB/s]\runidic.zip:  17%|█▋        | 102M/608M [00:07<00:26, 18.9MB/s] \runidic.zip:  17%|█▋        | 105M/608M [00:07<00:26, 19.0MB/s]\runidic.zip:  18%|█▊        | 108M/608M [00:07<00:27, 18.5MB/s]\runidic.zip:  18%|█▊        | 111M/608M [00:07<00:26, 18.6MB/s]\runidic.zip:  19%|█▉        | 114M/608M [00:07<00:26, 18.8MB/s]\runidic.zip:  19%|█▉        | 117M/608M [00:08<00:26, 18.7MB/s]\runidic.zip:  20%|█▉        | 120M/608M [00:08<00:26, 18.7MB/s]\runidic.zip:  20%|██        | 124M/608M [00:08<00:25, 18.9MB/s]\runidic.zip:  21%|██        | 127M/608M [00:08<00:25, 19.0MB/s]\runidic.zip:  21%|██▏       | 130M/608M [00:08<00:25, 19.0MB/s]\runidic.zip:  22%|██▏       | 133M/608M [00:08<00:25, 19.0MB/s]\runidic.zip:  22%|██▏       | 136M/608M [00:09<00:24, 19.1MB/s]\runidic.zip:  23%|██▎       | 139M/608M [00:09<00:24, 19.1MB/s]\runidic.zip:  23%|██▎       | 142M/608M [00:09<00:24, 19.2MB/s]\runidic.zip:  24%|██▍       | 145M/608M [00:09<00:24, 19.2MB/s]\runidic.zip:  24%|██▍       | 149M/608M [00:09<00:23, 19.2MB/s]\runidic.zip:  25%|██▍       | 152M/608M [00:09<00:23, 19.2MB/s]\runidic.zip:  25%|██▌       | 155M/608M [00:10<00:23, 19.3MB/s]\runidic.zip:  26%|██▌       | 158M/608M [00:10<00:23, 19.3MB/s]\runidic.zip:  26%|██▋       | 161M/608M [00:10<00:23, 19.3MB/s]\runidic.zip:  27%|██▋       | 164M/608M [00:10<00:23, 18.8MB/s]\runidic.zip:  27%|██▋       | 167M/608M [00:10<00:23, 18.7MB/s]\runidic.zip:  28%|██▊       | 170M/608M [00:10<00:23, 18.3MB/s]\runidic.zip:  28%|██▊       | 173M/608M [00:11<00:23, 18.4MB/s]\runidic.zip:  29%|██▉       | 176M/608M [00:11<00:23, 18.7MB/s]\runidic.zip:  29%|██▉       | 179M/608M [00:11<00:22, 18.7MB/s]\runidic.zip:  30%|██▉       | 182M/608M [00:11<00:23, 18.4MB/s]\runidic.zip:  30%|███       | 185M/608M [00:11<00:22, 18.7MB/s]\runidic.zip:  31%|███       | 188M/608M [00:11<00:22, 18.7MB/s]\runidic.zip:  31%|███▏      | 191M/608M [00:12<00:22, 18.8MB/s]\runidic.zip:  32%|███▏      | 194M/608M [00:12<00:21, 19.0MB/s]\runidic.zip:  32%|███▏      | 197M/608M [00:12<00:21, 19.0MB/s]\runidic.zip:  33%|███▎      | 200M/608M [00:12<00:21, 19.1MB/s]\runidic.zip:  33%|███▎      | 204M/608M [00:12<00:21, 19.2MB/s]\runidic.zip:  34%|███▍      | 207M/608M [00:12<00:20, 19.2MB/s]\runidic.zip:  35%|███▍      | 210M/608M [00:12<00:20, 19.2MB/s]\runidic.zip:  35%|███▌      | 213M/608M [00:13<00:20, 19.2MB/s]\runidic.zip:  36%|███▌      | 216M/608M [00:13<00:20, 19.2MB/s]\runidic.zip:  36%|███▌      | 219M/608M [00:13<00:20, 19.2MB/s]\runidic.zip:  37%|███▋      | 222M/608M [00:13<00:20, 19.2MB/s]\runidic.zip:  37%|███▋      | 225M/608M [00:13<00:20, 19.0MB/s]\runidic.zip:  38%|███▊      | 228M/608M [00:13<00:19, 19.1MB/s]\runidic.zip:  38%|███▊      | 232M/608M [00:14<00:19, 19.1MB/s]\runidic.zip:  39%|███▊      | 235M/608M [00:14<00:19, 19.0MB/s]\runidic.zip:  39%|███▉      | 238M/608M [00:14<00:19, 19.0MB/s]\runidic.zip:  40%|███▉      | 241M/608M [00:14<00:19, 19.1MB/s]\runidic.zip:  40%|████      | 244M/608M [00:14<00:19, 18.7MB/s]\runidic.zip:  41%|████      | 247M/608M [00:14<00:19, 18.6MB/s]\runidic.zip:  41%|████      | 250M/608M [00:15<00:19, 18.7MB/s]\runidic.zip:  42%|████▏     | 253M/608M [00:15<00:18, 18.9MB/s]\runidic.zip:  42%|████▏     | 256M/608M [00:15<00:18, 19.0MB/s]\runidic.zip:  43%|████▎     | 259M/608M [00:15<00:18, 19.1MB/s]\runidic.zip:  43%|████▎     | 262M/608M [00:15<00:18, 19.1MB/s]\runidic.zip:  44%|████▎     | 265M/608M [00:15<00:17, 19.2MB/s]\runidic.zip:  44%|████▍     | 268M/608M [00:16<00:17, 19.2MB/s]\runidic.zip:  45%|████▍     | 272M/608M [00:16<00:17, 19.2MB/s]\runidic.zip:  45%|████▌     | 275M/608M [00:16<00:17, 19.2MB/s]\runidic.zip:  46%|████▌     | 278M/608M [00:16<00:17, 19.2MB/s]\runidic.zip:  46%|████▌     | 281M/608M [00:16<00:17, 19.0MB/s]\runidic.zip:  47%|████▋     | 284M/608M [00:16<00:16, 19.1MB/s]\runidic.zip:  47%|████▋     | 287M/608M [00:17<00:16, 19.0MB/s]\runidic.zip:  48%|████▊     | 290M/608M [00:17<00:16, 19.1MB/s]\runidic.zip:  48%|████▊     | 293M/608M [00:17<00:16, 19.1MB/s]\runidic.zip:  49%|████▊     | 296M/608M [00:17<00:16, 19.2MB/s]\runidic.zip:  49%|████▉     | 300M/608M [00:17<00:16, 19.2MB/s]\runidic.zip:  50%|████▉     | 303M/608M [00:17<00:15, 19.1MB/s]\runidic.zip:  50%|█████     | 306M/608M [00:18<00:16, 18.8MB/s]\runidic.zip:  51%|█████     | 309M/608M [00:18<00:15, 18.8MB/s]\runidic.zip:  51%|█████     | 312M/608M [00:18<00:15, 18.9MB/s]\runidic.zip:  52%|█████▏    | 315M/608M [00:18<00:15, 19.0MB/s]\runidic.zip:  52%|█████▏    | 318M/608M [00:18<00:15, 19.1MB/s]\runidic.zip:  53%|█████▎    | 321M/608M [00:18<00:14, 19.2MB/s]\runidic.zip:  53%|█████▎    | 324M/608M [00:18<00:14, 19.1MB/s]\runidic.zip:  54%|█████▍    | 327M/608M [00:19<00:14, 19.2MB/s]\runidic.zip:  54%|█████▍    | 330M/608M [00:19<00:14, 19.2MB/s]\runidic.zip:  55%|█████▍    | 334M/608M [00:19<00:14, 19.2MB/s]\runidic.zip:  55%|█████▌    | 337M/608M [00:19<00:14, 19.3MB/s]\runidic.zip:  56%|█████▌    | 340M/608M [00:19<00:13, 19.2MB/s]\runidic.zip:  56%|█████▋    | 343M/608M [00:19<00:13, 19.2MB/s]\runidic.zip:  57%|█████▋    | 346M/608M [00:20<00:13, 19.3MB/s]\runidic.zip:  57%|█████▋    | 349M/608M [00:20<00:13, 19.3MB/s]\runidic.zip:  58%|█████▊    | 352M/608M [00:20<00:13, 19.2MB/s]\runidic.zip:  58%|█████▊    | 355M/608M [00:20<00:13, 19.2MB/s]\runidic.zip:  59%|█████▉    | 358M/608M [00:20<00:13, 18.6MB/s]\runidic.zip:  59%|█████▉    | 361M/608M [00:20<00:13, 18.8MB/s]\runidic.zip:  60%|█████▉    | 364M/608M [00:21<00:12, 18.9MB/s]\runidic.zip:  60%|██████    | 368M/608M [00:21<00:12, 19.1MB/s]\runidic.zip:  61%|██████    | 371M/608M [00:21<00:12, 19.1MB/s]\runidic.zip:  61%|██████▏   | 374M/608M [00:21<00:12, 19.1MB/s]\runidic.zip:  62%|██████▏   | 377M/608M [00:21<00:12, 19.0MB/s]\runidic.zip:  62%|██████▏   | 380M/608M [00:21<00:11, 19.0MB/s]\runidic.zip:  63%|██████▎   | 383M/608M [00:22<00:11, 19.1MB/s]\runidic.zip:  63%|██████▎   | 386M/608M [00:22<00:11, 19.1MB/s]\runidic.zip:  64%|██████▍   | 389M/608M [00:22<00:11, 19.2MB/s]\runidic.zip:  65%|██████▍   | 392M/608M [00:22<00:11, 19.2MB/s]\runidic.zip:  65%|██████▌   | 395M/608M [00:22<00:11, 19.1MB/s]\runidic.zip:  66%|██████▌   | 399M/608M [00:22<00:10, 19.2MB/s]\runidic.zip:  66%|██████▌   | 402M/608M [00:23<00:10, 19.2MB/s]\runidic.zip:  67%|██████▋   | 405M/608M [00:23<00:10, 19.2MB/s]\runidic.zip:  67%|██████▋   | 408M/608M [00:23<00:10, 19.2MB/s]\runidic.zip:  68%|██████▊   | 411M/608M [00:23<00:10, 19.2MB/s]\runidic.zip:  68%|██████▊   | 414M/608M [00:23<00:10, 19.2MB/s]\runidic.zip:  69%|██████▊   | 417M/608M [00:23<00:09, 19.3MB/s]\runidic.zip:  69%|██████▉   | 420M/608M [00:24<00:09, 19.3MB/s]\runidic.zip:  70%|██████▉   | 423M/608M [00:24<00:09, 19.2MB/s]\runidic.zip:  70%|███████   | 426M/608M [00:24<00:09, 19.0MB/s]\runidic.zip:  71%|███████   | 430M/608M [00:24<00:09, 19.0MB/s]\runidic.zip:  71%|███████   | 433M/608M [00:24<00:09, 19.1MB/s]\runidic.zip:  72%|███████▏  | 436M/608M [00:24<00:08, 19.2MB/s]\runidic.zip:  72%|███████▏  | 439M/608M [00:24<00:08, 19.2MB/s]\runidic.zip:  73%|███████▎  | 442M/608M [00:25<00:08, 19.2MB/s]\runidic.zip:  73%|███████▎  | 445M/608M [00:25<00:08, 19.2MB/s]\runidic.zip:  74%|███████▎  | 448M/608M [00:25<00:08, 19.3MB/s]\runidic.zip:  74%|███████▍  | 451M/608M [00:25<00:08, 19.3MB/s]\runidic.zip:  75%|███████▍  | 455M/608M [00:25<00:07, 19.3MB/s]\runidic.zip:  75%|███████▌  | 458M/608M [00:25<00:07, 19.3MB/s]\runidic.zip:  76%|███████▌  | 461M/608M [00:26<00:07, 19.3MB/s]\runidic.zip:  76%|███████▌  | 462M/608M [00:27<00:48, 2.99MB/s]\runidic.zip:  76%|███████▋  | 465M/608M [00:27<00:35, 4.00MB/s]\runidic.zip:  77%|███████▋  | 468M/608M [00:27<00:26, 5.31MB/s]\runidic.zip:  77%|███████▋  | 471M/608M [00:27<00:20, 6.71MB/s]\runidic.zip:  78%|███████▊  | 474M/608M [00:27<00:16, 8.16MB/s]\runidic.zip:  78%|███████▊  | 477M/608M [00:28<00:13, 9.87MB/s]\runidic.zip:  79%|███████▉  | 480M/608M [00:28<00:11, 11.4MB/s]\runidic.zip:  79%|███████▉  | 482M/608M [00:28<00:09, 12.6MB/s]\runidic.zip:  80%|███████▉  | 485M/608M [00:28<00:08, 13.9MB/s]\runidic.zip:  80%|████████  | 488M/608M [00:28<00:07, 15.2MB/s]\runidic.zip:  81%|████████  | 491M/608M [00:28<00:06, 17.7MB/s]\runidic.zip:  81%|████████  | 492M/608M [00:28<00:08, 13.8MB/s]\runidic.zip:  81%|████████▏ | 495M/608M [00:29<00:07, 15.2MB/s]\runidic.zip:  82%|████████▏ | 498M/608M [00:29<00:06, 16.1MB/s]\runidic.zip:  82%|████████▏ | 500M/608M [00:29<00:06, 15.6MB/s]\runidic.zip:  83%|████████▎ | 503M/608M [00:29<00:06, 16.3MB/s]\runidic.zip:  83%|████████▎ | 506M/608M [00:29<00:06, 17.0MB/s]\runidic.zip:  84%|████████▎ | 509M/608M [00:29<00:05, 17.4MB/s]\runidic.zip:  84%|████████▍ | 512M/608M [00:30<00:05, 17.9MB/s]\runidic.zip:  85%|████████▍ | 515M/608M [00:30<00:05, 18.2MB/s]\runidic.zip:  85%|████████▌ | 518M/608M [00:30<00:04, 18.3MB/s]\runidic.zip:  86%|████████▌ | 521M/608M [00:30<00:04, 18.6MB/s]\runidic.zip:  86%|████████▌ | 524M/608M [00:30<00:04, 18.7MB/s]\runidic.zip:  87%|████████▋ | 527M/608M [00:30<00:04, 18.9MB/s]\runidic.zip:  87%|████████▋ | 531M/608M [00:31<00:04, 19.0MB/s]\runidic.zip:  88%|████████▊ | 534M/608M [00:31<00:03, 19.1MB/s]\runidic.zip:  88%|████████▊ | 537M/608M [00:31<00:03, 19.2MB/s]\runidic.zip:  89%|████████▉ | 540M/608M [00:31<00:03, 19.1MB/s]\runidic.zip:  89%|████████▉ | 543M/608M [00:31<00:03, 19.1MB/s]\runidic.zip:  90%|████████▉ | 546M/608M [00:31<00:03, 19.2MB/s]\runidic.zip:  90%|█████████ | 549M/608M [00:32<00:03, 19.2MB/s]\runidic.zip:  91%|█████████ | 552M/608M [00:32<00:02, 19.3MB/s]\runidic.zip:  91%|█████████▏| 556M/608M [00:32<00:02, 19.3MB/s]\runidic.zip:  92%|█████████▏| 559M/608M [00:32<00:02, 19.3MB/s]\runidic.zip:  92%|█████████▏| 562M/608M [00:32<00:02, 19.3MB/s]\runidic.zip:  93%|█████████▎| 565M/608M [00:32<00:02, 19.2MB/s]\runidic.zip:  93%|█████████▎| 568M/608M [00:32<00:02, 19.2MB/s]\runidic.zip:  94%|█████████▍| 571M/608M [00:33<00:01, 19.3MB/s]\runidic.zip:  94%|█████████▍| 574M/608M [00:33<00:01, 19.2MB/s]\runidic.zip:  95%|█████████▍| 577M/608M [00:33<00:01, 19.2MB/s]\runidic.zip:  95%|█████████▌| 580M/608M [00:33<00:01, 19.1MB/s]\runidic.zip:  96%|█████████▌| 584M/608M [00:33<00:01, 19.2MB/s]\runidic.zip:  96%|█████████▋| 587M/608M [00:33<00:01, 19.2MB/s]\runidic.zip:  97%|█████████▋| 590M/608M [00:34<00:00, 19.2MB/s]\runidic.zip:  97%|█████████▋| 593M/608M [00:34<00:00, 19.2MB/s]\runidic.zip:  98%|█████████▊| 596M/608M [00:34<00:00, 19.2MB/s]\runidic.zip:  99%|█████████▊| 599M/608M [00:34<00:00, 19.2MB/s]\runidic.zip:  99%|█████████▉| 602M/608M [00:34<00:00, 19.1MB/s]\runidic.zip: 100%|█████████▉| 605M/608M [00:34<00:00, 19.0MB/s]\runidic.zip: 100%|██████████| 608M/608M [00:35<00:00, 17.4MB/s]\n",
            "Downloaded UniDic v2.3.0+2020-10-08 to /usr/local/lib/python3.6/dist-packages/unidic/dicdir\n"
          ],
          "name": "stderr"
        }
      ]
    },
    {
      "cell_type": "code",
      "metadata": {
        "id": "BJS5AKb5zAbv"
      },
      "source": [
        "import random\n",
        "import torch\n",
        "from medbertjp.tokenization_jp_mod import BertJapaneseTokenizer\n",
        "from transformers.modeling_bert import BertForMaskedLM"
      ],
      "execution_count": 2,
      "outputs": []
    },
    {
      "cell_type": "code",
      "metadata": {
        "id": "L9VDmuq94YXE"
      },
      "source": [
        "def prediction_masked_sentence(sentence, tokenizer, model):\n",
        "    mask_token_id = tokenizer.mask_token_id\n",
        "    \n",
        "    input_ids = tokenizer.encode(text, return_tensors='pt')\n",
        "    print(' '.join(tokenizer.convert_ids_to_tokens(input_ids.tolist()[0])))\n",
        "    masked_index = random.randint(1, len(input_ids[0]) - 2)\n",
        "    input_ids[0][masked_index] = mask_token_id\n",
        "    print(' '.join(tokenizer.convert_ids_to_tokens(input_ids.tolist()[0])))\n",
        "    \n",
        "    result = model(input_ids)\n",
        "    topk = torch.nn.Softmax(dim=1)(result[0][:, masked_index]).topk(5)\n",
        "    scores = topk.values.tolist()[0]\n",
        "    pred_ids = topk.indices.tolist()[0]\n",
        "    for i, pred_id in enumerate(pred_ids):\n",
        "        output_ids = input_ids.tolist()[0]\n",
        "        output_ids[masked_index] = pred_id\n",
        "        \n",
        "        pred_sentence = tokenizer.convert_ids_to_tokens(output_ids)\n",
        "        pred_sentence = [token if n != masked_index else '【' + token + '】'\n",
        "                         for n, token in enumerate(pred_sentence)]\n",
        "        print('{:.1f} %'.format(scores[i] * 100).rjust(7), ' '.join(pred_sentence))\n",
        "        \n",
        "    return result"
      ],
      "execution_count": 3,
      "outputs": []
    },
    {
      "cell_type": "code",
      "metadata": {
        "id": "RZNqUQDNznjH"
      },
      "source": [
        "text = '慢性膵炎では，糖尿病性ケトアシドーシス(DKA)の合併は比較的稀である．'\n",
        "\n",
        "# Model path\n",
        "PathToBertJpMecabUnidic = './medBERTjp_L12_H768_A12_WWM_mecab-unidic'\n",
        "PathToBertJpMecabIpadic = './medBERTjp_L12_H768_A12_WWM_mecab-ipadic'\n",
        "PathToBertJpSentencepiece = './medBERTjp_L12_H768_A12_sentencepiece'"
      ],
      "execution_count": 4,
      "outputs": []
    },
    {
      "cell_type": "markdown",
      "metadata": {
        "id": "cl1HVWJV6P-D"
      },
      "source": [
        "##  MeCab-IPAdic-tokenized Japanese BERT model\n",
        "For general sentences."
      ]
    },
    {
      "cell_type": "code",
      "metadata": {
        "id": "bHvK3L9a6rmJ",
        "outputId": "ef24814b-0b2c-4443-8ee6-4063a343a81e",
        "colab": {
          "base_uri": "https://localhost:8080/",
          "height": 243,
          "referenced_widgets": [
            "dedc112e859e44a6bede86d49bc189c2",
            "cec158ecb9b443f0b425146f6f24802b",
            "cf13d9aabcfd4ce1a3d8fba98ae9c9fb",
            "0981fba80a3b433cbc58772fce784937",
            "0d3d960a973a4343b8370eacf881124d",
            "f630c9d5b390408a936167225a0caa83",
            "14b5b8c7c3f04fb28d8e6ab7d6751936",
            "7f31a7a429764892900d4c1d390d69a3",
            "0879f1359af34c6c941ddcb7dd67c84d",
            "1838d542a13a455fb46f2659ce3dea32",
            "ae4821c0979f4bc7b2075579bf60f20a",
            "f6f3d792de0e4675aacdc5eb09861b48",
            "b404389a0c564a738d811cd4b2af1942",
            "37de3fd8bdd84d72ba9bb9be2bd597eb",
            "269b252983b6486f8b9db791ec79348d",
            "20c26929aa644f9a8e733148d23ca10d",
            "9a1f87176a8542f882b3733f9a76b972",
            "9ae27ed5b1bb4568864924fb9d1cbbc0",
            "cc28f3e68c1f4433bf3404f0ff78df56",
            "ed1093702740464fb1a4f985d9a234b0",
            "e1472e0ca6b3455b84854c57ed13c11b",
            "7a97f94407cc48e99a23ef18d6bd812e",
            "e8bfd128824846b787dbe149a519ed0c",
            "643f82e27695420f86e942af0f20698a"
          ]
        }
      },
      "source": [
        "tokenizer = BertJapaneseTokenizer.from_pretrained('cl-tohoku/bert-base-japanese-whole-word-masking',\n",
        "                                                  word_tokenizer_type='mecab',\n",
        "                                                  mecab_kwargs={\n",
        "                                                     \"mecab_dic\": 'ipadic',\n",
        "                                                 })\n",
        "model = BertForMaskedLM.from_pretrained('cl-tohoku/bert-base-japanese-whole-word-masking')"
      ],
      "execution_count": 5,
      "outputs": [
        {
          "output_type": "display_data",
          "data": {
            "application/vnd.jupyter.widget-view+json": {
              "model_id": "dedc112e859e44a6bede86d49bc189c2",
              "version_minor": 0,
              "version_major": 2
            },
            "text/plain": [
              "HBox(children=(FloatProgress(value=0.0, description='Downloading', max=257706.0, style=ProgressStyle(descripti…"
            ]
          },
          "metadata": {
            "tags": []
          }
        },
        {
          "output_type": "stream",
          "text": [
            "\n"
          ],
          "name": "stdout"
        },
        {
          "output_type": "display_data",
          "data": {
            "application/vnd.jupyter.widget-view+json": {
              "model_id": "0879f1359af34c6c941ddcb7dd67c84d",
              "version_minor": 0,
              "version_major": 2
            },
            "text/plain": [
              "HBox(children=(FloatProgress(value=0.0, description='Downloading', max=433.0, style=ProgressStyle(description_…"
            ]
          },
          "metadata": {
            "tags": []
          }
        },
        {
          "output_type": "stream",
          "text": [
            "\n"
          ],
          "name": "stdout"
        },
        {
          "output_type": "display_data",
          "data": {
            "application/vnd.jupyter.widget-view+json": {
              "model_id": "9a1f87176a8542f882b3733f9a76b972",
              "version_minor": 0,
              "version_major": 2
            },
            "text/plain": [
              "HBox(children=(FloatProgress(value=0.0, description='Downloading', max=445021143.0, style=ProgressStyle(descri…"
            ]
          },
          "metadata": {
            "tags": []
          }
        },
        {
          "output_type": "stream",
          "text": [
            "\n"
          ],
          "name": "stdout"
        },
        {
          "output_type": "stream",
          "text": [
            "Some weights of the model checkpoint at cl-tohoku/bert-base-japanese-whole-word-masking were not used when initializing BertForMaskedLM: ['cls.seq_relationship.weight', 'cls.seq_relationship.bias']\n",
            "- This IS expected if you are initializing BertForMaskedLM from the checkpoint of a model trained on another task or with another architecture (e.g. initializing a BertForSequenceClassification model from a BertForPretraining model).\n",
            "- This IS NOT expected if you are initializing BertForMaskedLM from the checkpoint of a model that you expect to be exactly identical (initializing a BertForSequenceClassification model from a BertForSequenceClassification model).\n"
          ],
          "name": "stderr"
        }
      ]
    },
    {
      "cell_type": "code",
      "metadata": {
        "id": "eLAY5fyB7URm",
        "outputId": "d6e8250f-978d-4625-b1b8-405e0d762ee3",
        "colab": {
          "base_uri": "https://localhost:8080/"
        }
      },
      "source": [
        "# An Example of Masked Language Modeling.\n",
        "result = prediction_masked_sentence(text, tokenizer, model)"
      ],
      "execution_count": 6,
      "outputs": [
        {
          "output_type": "stream",
          "text": [
            "[CLS] 慢性 [UNK] で は , 糖尿 病 性 ケ ##ト ##アシ ##ドー ##シス ( D ##KA ) の 合併 は 比較的 稀 で ある . [SEP]\n",
            "[CLS] 慢性 [UNK] で は , 糖尿 病 性 ケ ##ト ##アシ ##ドー ##シス ( D ##KA [MASK] の 合併 は 比較的 稀 で ある . [SEP]\n",
            " 95.5 % [CLS] 慢性 [UNK] で は , 糖尿 病 性 ケ ##ト ##アシ ##ドー ##シス ( D ##KA 【)】 の 合併 は 比較的 稀 で ある . [SEP]\n",
            "  2.9 % [CLS] 慢性 [UNK] で は , 糖尿 病 性 ケ ##ト ##アシ ##ドー ##シス ( D ##KA 【と】 の 合併 は 比較的 稀 で ある . [SEP]\n",
            "  0.7 % [CLS] 慢性 [UNK] で は , 糖尿 病 性 ケ ##ト ##アシ ##ドー ##シス ( D ##KA 【##)】 の 合併 は 比較的 稀 で ある . [SEP]\n",
            "  0.2 % [CLS] 慢性 [UNK] で は , 糖尿 病 性 ケ ##ト ##アシ ##ドー ##シス ( D ##KA 【へ】 の 合併 は 比較的 稀 で ある . [SEP]\n",
            "  0.1 % [CLS] 慢性 [UNK] で は , 糖尿 病 性 ケ ##ト ##アシ ##ドー ##シス ( D ##KA 【))】 の 合併 は 比較的 稀 で ある . [SEP]\n"
          ],
          "name": "stdout"
        }
      ]
    },
    {
      "cell_type": "markdown",
      "metadata": {
        "id": "YJhLA7co4nxO"
      },
      "source": [
        "## medBERTjp - SentencePiece\n",
        "For medical sentences."
      ]
    },
    {
      "cell_type": "code",
      "metadata": {
        "id": "lBw2rYlN3qdY"
      },
      "source": [
        "%%bash\n",
        "wget https://github.com/ou-medinfo/medbertjp/releases/download/v0.1-sp/medBERTjp_L12_H768_A12_sentencepiece.zip\n",
        "unzip ./medBERTjp_L12_H768_A12_sentencepiece.zip"
      ],
      "execution_count": null,
      "outputs": []
    },
    {
      "cell_type": "code",
      "metadata": {
        "id": "NxHnN8eG3YSY",
        "outputId": "3d101500-4e39-4806-9f4a-b1cfed66310d",
        "colab": {
          "base_uri": "https://localhost:8080/"
        }
      },
      "source": [
        "model_path = PathToBertJpSentencepiece\n",
        "tokenizer = BertJapaneseTokenizer.from_pretrained(model_path,\n",
        "                                                  word_tokenizer_type='sp',\n",
        "                                                 )\n",
        "model = BertForMaskedLM.from_pretrained(model_path)"
      ],
      "execution_count": 8,
      "outputs": [
        {
          "output_type": "stream",
          "text": [
            "medBERTjp_L12_H768_A12_sentencepiece/vocab.model\n",
            "Loaded a trained SentencePiece model.\n"
          ],
          "name": "stdout"
        },
        {
          "output_type": "stream",
          "text": [
            "Some weights of the model checkpoint at ./medBERTjp_L12_H768_A12_sentencepiece were not used when initializing BertForMaskedLM: ['cls.seq_relationship.weight', 'cls.seq_relationship.bias']\n",
            "- This IS expected if you are initializing BertForMaskedLM from the checkpoint of a model trained on another task or with another architecture (e.g. initializing a BertForSequenceClassification model from a BertForPretraining model).\n",
            "- This IS NOT expected if you are initializing BertForMaskedLM from the checkpoint of a model that you expect to be exactly identical (initializing a BertForSequenceClassification model from a BertForSequenceClassification model).\n"
          ],
          "name": "stderr"
        }
      ]
    },
    {
      "cell_type": "code",
      "metadata": {
        "id": "aWYZHpmE4Uj6",
        "outputId": "ddf20a4a-4dac-47c0-fba7-e1fb22ec312f",
        "colab": {
          "base_uri": "https://localhost:8080/"
        }
      },
      "source": [
        "# An Example of Masked Language Modeling.\n",
        "result = prediction_masked_sentence(text, tokenizer, model)"
      ],
      "execution_count": 9,
      "outputs": [
        {
          "output_type": "stream",
          "text": [
            "[CLS] ▁ 慢性膵炎 では , 糖尿病性ケトアシドーシス ( D KA ) の合併 は比較的 稀である . [SEP]\n",
            "[CLS] ▁ 慢性膵炎 では , 糖尿病性ケトアシドーシス ( D KA ) [MASK] は比較的 稀である . [SEP]\n",
            " 32.9 % [CLS] ▁ 慢性膵炎 では , 糖尿病性ケトアシドーシス ( D KA ) 【の合併】 は比較的 稀である . [SEP]\n",
            " 19.1 % [CLS] ▁ 慢性膵炎 では , 糖尿病性ケトアシドーシス ( D KA ) 【になること】 は比較的 稀である . [SEP]\n",
            "  8.3 % [CLS] ▁ 慢性膵炎 では , 糖尿病性ケトアシドーシス ( D KA ) 【で】 は比較的 稀である . [SEP]\n",
            "  7.7 % [CLS] ▁ 慢性膵炎 では , 糖尿病性ケトアシドーシス ( D KA ) 【の発生】 は比較的 稀である . [SEP]\n",
            "  5.3 % [CLS] ▁ 慢性膵炎 では , 糖尿病性ケトアシドーシス ( D KA ) 【となること】 は比較的 稀である . [SEP]\n"
          ],
          "name": "stdout"
        }
      ]
    },
    {
      "cell_type": "markdown",
      "metadata": {
        "id": "V-kJnXlO72Wb"
      },
      "source": [
        "## medBERTjp - MeCab with IPAdic\n",
        "For medical sentences."
      ]
    },
    {
      "cell_type": "code",
      "metadata": {
        "id": "-m4luEY672Wg"
      },
      "source": [
        "%%bash\n",
        "wget https://github.com/ou-medinfo/medbertjp/releases/download/v0.1-mi/medBERTjp_L12_H768_A12_WWM_mecab-ipadic.zip\n",
        "unzip ./medBERTjp_L12_H768_A12_WWM_mecab-ipadic.zip"
      ],
      "execution_count": null,
      "outputs": []
    },
    {
      "cell_type": "code",
      "metadata": {
        "id": "T_FDAsqM72Wu",
        "outputId": "755bcda7-4606-4c1b-96a6-785dff10015f",
        "colab": {
          "base_uri": "https://localhost:8080/"
        }
      },
      "source": [
        "model_path = PathToBertJpMecabIpadic\n",
        "tokenizer = BertJapaneseTokenizer.from_pretrained(model_path, \n",
        "                                                 mecab_kwargs={\n",
        "                                                     \"mecab_dic\": 'ipadic',\n",
        "                                                 })\n",
        "model = BertForMaskedLM.from_pretrained(model_path)"
      ],
      "execution_count": 11,
      "outputs": [
        {
          "output_type": "stream",
          "text": [
            "Some weights of the model checkpoint at ./medBERTjp_L12_H768_A12_WWM_mecab-ipadic were not used when initializing BertForMaskedLM: ['cls.seq_relationship.weight', 'cls.seq_relationship.bias']\n",
            "- This IS expected if you are initializing BertForMaskedLM from the checkpoint of a model trained on another task or with another architecture (e.g. initializing a BertForSequenceClassification model from a BertForPretraining model).\n",
            "- This IS NOT expected if you are initializing BertForMaskedLM from the checkpoint of a model that you expect to be exactly identical (initializing a BertForSequenceClassification model from a BertForSequenceClassification model).\n"
          ],
          "name": "stderr"
        }
      ]
    },
    {
      "cell_type": "code",
      "metadata": {
        "id": "o8NGT_K572W3",
        "outputId": "ce8ba658-5797-4222-dc41-e392629451a4",
        "colab": {
          "base_uri": "https://localhost:8080/"
        }
      },
      "source": [
        "# An Example of Masked Language Modeling.\n",
        "result = prediction_masked_sentence(text, tokenizer, model)"
      ],
      "execution_count": 12,
      "outputs": [
        {
          "output_type": "stream",
          "text": [
            "[CLS] 慢性 膵炎 で は , 糖尿 病 性 ケトアシドーシス ( D ##KA ) の 合併 は 比較的 稀 で ある . [SEP]\n",
            "[CLS] 慢性 膵炎 で は , 糖尿 病 性 [MASK] ( D ##KA ) の 合併 は 比較的 稀 で ある . [SEP]\n",
            " 99.6 % [CLS] 慢性 膵炎 で は , 糖尿 病 性 【ケトアシドーシス】 ( D ##KA ) の 合併 は 比較的 稀 で ある . [SEP]\n",
            "  0.2 % [CLS] 慢性 膵炎 で は , 糖尿 病 性 【アシドーシス】 ( D ##KA ) の 合併 は 比較的 稀 で ある . [SEP]\n",
            "  0.2 % [CLS] 慢性 膵炎 で は , 糖尿 病 性 【膵炎】 ( D ##KA ) の 合併 は 比較的 稀 で ある . [SEP]\n",
            "  0.0 % [CLS] 慢性 膵炎 で は , 糖尿 病 性 【昏睡】 ( D ##KA ) の 合併 は 比較的 稀 で ある . [SEP]\n",
            "  0.0 % [CLS] 慢性 膵炎 で は , 糖尿 病 性 【脳症】 ( D ##KA ) の 合併 は 比較的 稀 で ある . [SEP]\n"
          ],
          "name": "stdout"
        }
      ]
    },
    {
      "cell_type": "markdown",
      "metadata": {
        "id": "mp587HAw85ar"
      },
      "source": [
        "## medBERTjp - MeCab with Unidic\n",
        "For medical sentences.\n"
      ]
    },
    {
      "cell_type": "code",
      "metadata": {
        "id": "ZJMSnxwsElJ3"
      },
      "source": [
        "%%bash\n",
        "wget https://github.com/ou-medinfo/medbertjp/releases/download/v0.1-mu/medBERTjp_L12_H768_A12_WWM_mecab-unidic.zip\n",
        "unzip ./medBERTjp_L12_H768_A12_WWM_mecab-unidic.zip"
      ],
      "execution_count": null,
      "outputs": []
    },
    {
      "cell_type": "code",
      "metadata": {
        "id": "RJl0m16w-6rA",
        "outputId": "b0451c5d-3e56-4313-94a8-066e632a406a",
        "colab": {
          "base_uri": "https://localhost:8080/"
        }
      },
      "source": [
        "model_path = PathToBertJpMecabUnidic\n",
        "tokenizer = BertJapaneseTokenizer.from_pretrained(model_path, \n",
        "                                                 mecab_kwargs={\n",
        "                                                     \"mecab_dic\": 'unidic',\n",
        "                                                 })\n",
        "model = BertForMaskedLM.from_pretrained(model_path)"
      ],
      "execution_count": 14,
      "outputs": [
        {
          "output_type": "stream",
          "text": [
            "Some weights of the model checkpoint at ./medBERTjp_L12_H768_A12_WWM_mecab-unidic were not used when initializing BertForMaskedLM: ['cls.seq_relationship.weight', 'cls.seq_relationship.bias']\n",
            "- This IS expected if you are initializing BertForMaskedLM from the checkpoint of a model trained on another task or with another architecture (e.g. initializing a BertForSequenceClassification model from a BertForPretraining model).\n",
            "- This IS NOT expected if you are initializing BertForMaskedLM from the checkpoint of a model that you expect to be exactly identical (initializing a BertForSequenceClassification model from a BertForSequenceClassification model).\n"
          ],
          "name": "stderr"
        }
      ]
    },
    {
      "cell_type": "code",
      "metadata": {
        "id": "Iq-mC5Zk-6rR",
        "outputId": "9b0ee0f0-9b34-4d4f-f087-a440a44f4c25",
        "colab": {
          "base_uri": "https://localhost:8080/"
        }
      },
      "source": [
        "# An Example of Masked Language Modeling.\n",
        "result = prediction_masked_sentence(text, tokenizer, model)"
      ],
      "execution_count": 15,
      "outputs": [
        {
          "output_type": "stream",
          "text": [
            "[CLS] 慢性 膵炎 で は , 糖尿 病性 ケトアシドーシス ( D ##KA ) の 合併 は 比較 的 稀 で ある . [SEP]\n",
            "[CLS] 慢性 膵炎 で は , 糖尿 [MASK] ケトアシドーシス ( D ##KA ) の 合併 は 比較 的 稀 で ある . [SEP]\n",
            " 80.3 % [CLS] 慢性 膵炎 で は , 糖尿 【病性】 ケトアシドーシス ( D ##KA ) の 合併 は 比較 的 稀 で ある . [SEP]\n",
            " 19.4 % [CLS] 慢性 膵炎 で は , 糖尿 【病】 ケトアシドーシス ( D ##KA ) の 合併 は 比較 的 稀 で ある . [SEP]\n",
            "  0.1 % [CLS] 慢性 膵炎 で は , 糖尿 【性】 ケトアシドーシス ( D ##KA ) の 合併 は 比較 的 稀 で ある . [SEP]\n",
            "  0.0 % [CLS] 慢性 膵炎 で は , 糖尿 【車】 ケトアシドーシス ( D ##KA ) の 合併 は 比較 的 稀 で ある . [SEP]\n",
            "  0.0 % [CLS] 慢性 膵炎 で は , 糖尿 【体】 ケトアシドーシス ( D ##KA ) の 合併 は 比較 的 稀 で ある . [SEP]\n"
          ],
          "name": "stdout"
        }
      ]
    }
  ]
}