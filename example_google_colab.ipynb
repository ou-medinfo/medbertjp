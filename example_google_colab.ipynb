{
  "nbformat": 4,
  "nbformat_minor": 0,
  "metadata": {
    "colab": {
      "name": "example_google_colab.ipynb",
      "provenance": [],
      "collapsed_sections": [],
      "toc_visible": true
    },
    "kernelspec": {
      "name": "python3",
      "display_name": "Python 3"
    },
    "widgets": {
      "application/vnd.jupyter.widget-state+json": {
        "eb06e21011304330ab1edf9bde708d2a": {
          "model_module": "@jupyter-widgets/controls",
          "model_name": "HBoxModel",
          "state": {
            "_view_name": "HBoxView",
            "_dom_classes": [],
            "_model_name": "HBoxModel",
            "_view_module": "@jupyter-widgets/controls",
            "_model_module_version": "1.5.0",
            "_view_count": null,
            "_view_module_version": "1.5.0",
            "box_style": "",
            "layout": "IPY_MODEL_632a30877437480e93bffa2968ba897d",
            "_model_module": "@jupyter-widgets/controls",
            "children": [
              "IPY_MODEL_c2f37a6e2d254feea3b216b195d5cbdb",
              "IPY_MODEL_e271e4162bb64257af38fd96431b573a"
            ]
          }
        },
        "632a30877437480e93bffa2968ba897d": {
          "model_module": "@jupyter-widgets/base",
          "model_name": "LayoutModel",
          "state": {
            "_view_name": "LayoutView",
            "grid_template_rows": null,
            "right": null,
            "justify_content": null,
            "_view_module": "@jupyter-widgets/base",
            "overflow": null,
            "_model_module_version": "1.2.0",
            "_view_count": null,
            "flex_flow": null,
            "width": null,
            "min_width": null,
            "border": null,
            "align_items": null,
            "bottom": null,
            "_model_module": "@jupyter-widgets/base",
            "top": null,
            "grid_column": null,
            "overflow_y": null,
            "overflow_x": null,
            "grid_auto_flow": null,
            "grid_area": null,
            "grid_template_columns": null,
            "flex": null,
            "_model_name": "LayoutModel",
            "justify_items": null,
            "grid_row": null,
            "max_height": null,
            "align_content": null,
            "visibility": null,
            "align_self": null,
            "height": null,
            "min_height": null,
            "padding": null,
            "grid_auto_rows": null,
            "grid_gap": null,
            "max_width": null,
            "order": null,
            "_view_module_version": "1.2.0",
            "grid_template_areas": null,
            "object_position": null,
            "object_fit": null,
            "grid_auto_columns": null,
            "margin": null,
            "display": null,
            "left": null
          }
        },
        "c2f37a6e2d254feea3b216b195d5cbdb": {
          "model_module": "@jupyter-widgets/controls",
          "model_name": "FloatProgressModel",
          "state": {
            "_view_name": "ProgressView",
            "style": "IPY_MODEL_b11dd311ee074ccd9a2dcc36e0a8b6a7",
            "_dom_classes": [],
            "description": "Downloading: 100%",
            "_model_name": "FloatProgressModel",
            "bar_style": "success",
            "max": 257706,
            "_view_module": "@jupyter-widgets/controls",
            "_model_module_version": "1.5.0",
            "value": 257706,
            "_view_count": null,
            "_view_module_version": "1.5.0",
            "orientation": "horizontal",
            "min": 0,
            "description_tooltip": null,
            "_model_module": "@jupyter-widgets/controls",
            "layout": "IPY_MODEL_96ca611b0842443bbe25a0d6a77153b9"
          }
        },
        "e271e4162bb64257af38fd96431b573a": {
          "model_module": "@jupyter-widgets/controls",
          "model_name": "HTMLModel",
          "state": {
            "_view_name": "HTMLView",
            "style": "IPY_MODEL_78eb2f518d514cdea33c40512bee7b60",
            "_dom_classes": [],
            "description": "",
            "_model_name": "HTMLModel",
            "placeholder": "​",
            "_view_module": "@jupyter-widgets/controls",
            "_model_module_version": "1.5.0",
            "value": " 258k/258k [00:00&lt;00:00, 2.19MB/s]",
            "_view_count": null,
            "_view_module_version": "1.5.0",
            "description_tooltip": null,
            "_model_module": "@jupyter-widgets/controls",
            "layout": "IPY_MODEL_aee3d787a7574802a7cb328e6a0217ef"
          }
        },
        "b11dd311ee074ccd9a2dcc36e0a8b6a7": {
          "model_module": "@jupyter-widgets/controls",
          "model_name": "ProgressStyleModel",
          "state": {
            "_view_name": "StyleView",
            "_model_name": "ProgressStyleModel",
            "description_width": "initial",
            "_view_module": "@jupyter-widgets/base",
            "_model_module_version": "1.5.0",
            "_view_count": null,
            "_view_module_version": "1.2.0",
            "bar_color": null,
            "_model_module": "@jupyter-widgets/controls"
          }
        },
        "96ca611b0842443bbe25a0d6a77153b9": {
          "model_module": "@jupyter-widgets/base",
          "model_name": "LayoutModel",
          "state": {
            "_view_name": "LayoutView",
            "grid_template_rows": null,
            "right": null,
            "justify_content": null,
            "_view_module": "@jupyter-widgets/base",
            "overflow": null,
            "_model_module_version": "1.2.0",
            "_view_count": null,
            "flex_flow": null,
            "width": null,
            "min_width": null,
            "border": null,
            "align_items": null,
            "bottom": null,
            "_model_module": "@jupyter-widgets/base",
            "top": null,
            "grid_column": null,
            "overflow_y": null,
            "overflow_x": null,
            "grid_auto_flow": null,
            "grid_area": null,
            "grid_template_columns": null,
            "flex": null,
            "_model_name": "LayoutModel",
            "justify_items": null,
            "grid_row": null,
            "max_height": null,
            "align_content": null,
            "visibility": null,
            "align_self": null,
            "height": null,
            "min_height": null,
            "padding": null,
            "grid_auto_rows": null,
            "grid_gap": null,
            "max_width": null,
            "order": null,
            "_view_module_version": "1.2.0",
            "grid_template_areas": null,
            "object_position": null,
            "object_fit": null,
            "grid_auto_columns": null,
            "margin": null,
            "display": null,
            "left": null
          }
        },
        "78eb2f518d514cdea33c40512bee7b60": {
          "model_module": "@jupyter-widgets/controls",
          "model_name": "DescriptionStyleModel",
          "state": {
            "_view_name": "StyleView",
            "_model_name": "DescriptionStyleModel",
            "description_width": "",
            "_view_module": "@jupyter-widgets/base",
            "_model_module_version": "1.5.0",
            "_view_count": null,
            "_view_module_version": "1.2.0",
            "_model_module": "@jupyter-widgets/controls"
          }
        },
        "aee3d787a7574802a7cb328e6a0217ef": {
          "model_module": "@jupyter-widgets/base",
          "model_name": "LayoutModel",
          "state": {
            "_view_name": "LayoutView",
            "grid_template_rows": null,
            "right": null,
            "justify_content": null,
            "_view_module": "@jupyter-widgets/base",
            "overflow": null,
            "_model_module_version": "1.2.0",
            "_view_count": null,
            "flex_flow": null,
            "width": null,
            "min_width": null,
            "border": null,
            "align_items": null,
            "bottom": null,
            "_model_module": "@jupyter-widgets/base",
            "top": null,
            "grid_column": null,
            "overflow_y": null,
            "overflow_x": null,
            "grid_auto_flow": null,
            "grid_area": null,
            "grid_template_columns": null,
            "flex": null,
            "_model_name": "LayoutModel",
            "justify_items": null,
            "grid_row": null,
            "max_height": null,
            "align_content": null,
            "visibility": null,
            "align_self": null,
            "height": null,
            "min_height": null,
            "padding": null,
            "grid_auto_rows": null,
            "grid_gap": null,
            "max_width": null,
            "order": null,
            "_view_module_version": "1.2.0",
            "grid_template_areas": null,
            "object_position": null,
            "object_fit": null,
            "grid_auto_columns": null,
            "margin": null,
            "display": null,
            "left": null
          }
        },
        "12140ac5a7934691bf5913d2f2de2e54": {
          "model_module": "@jupyter-widgets/controls",
          "model_name": "HBoxModel",
          "state": {
            "_view_name": "HBoxView",
            "_dom_classes": [],
            "_model_name": "HBoxModel",
            "_view_module": "@jupyter-widgets/controls",
            "_model_module_version": "1.5.0",
            "_view_count": null,
            "_view_module_version": "1.5.0",
            "box_style": "",
            "layout": "IPY_MODEL_1fe037cd4e4045138f5af99760e10325",
            "_model_module": "@jupyter-widgets/controls",
            "children": [
              "IPY_MODEL_bb0900305edb4667b03193c836898018",
              "IPY_MODEL_71d628bd10974218829c9b2f81cbcdcb"
            ]
          }
        },
        "1fe037cd4e4045138f5af99760e10325": {
          "model_module": "@jupyter-widgets/base",
          "model_name": "LayoutModel",
          "state": {
            "_view_name": "LayoutView",
            "grid_template_rows": null,
            "right": null,
            "justify_content": null,
            "_view_module": "@jupyter-widgets/base",
            "overflow": null,
            "_model_module_version": "1.2.0",
            "_view_count": null,
            "flex_flow": null,
            "width": null,
            "min_width": null,
            "border": null,
            "align_items": null,
            "bottom": null,
            "_model_module": "@jupyter-widgets/base",
            "top": null,
            "grid_column": null,
            "overflow_y": null,
            "overflow_x": null,
            "grid_auto_flow": null,
            "grid_area": null,
            "grid_template_columns": null,
            "flex": null,
            "_model_name": "LayoutModel",
            "justify_items": null,
            "grid_row": null,
            "max_height": null,
            "align_content": null,
            "visibility": null,
            "align_self": null,
            "height": null,
            "min_height": null,
            "padding": null,
            "grid_auto_rows": null,
            "grid_gap": null,
            "max_width": null,
            "order": null,
            "_view_module_version": "1.2.0",
            "grid_template_areas": null,
            "object_position": null,
            "object_fit": null,
            "grid_auto_columns": null,
            "margin": null,
            "display": null,
            "left": null
          }
        },
        "bb0900305edb4667b03193c836898018": {
          "model_module": "@jupyter-widgets/controls",
          "model_name": "FloatProgressModel",
          "state": {
            "_view_name": "ProgressView",
            "style": "IPY_MODEL_94831bbc4812458aa51088be6fadb39b",
            "_dom_classes": [],
            "description": "Downloading: 100%",
            "_model_name": "FloatProgressModel",
            "bar_style": "success",
            "max": 433,
            "_view_module": "@jupyter-widgets/controls",
            "_model_module_version": "1.5.0",
            "value": 433,
            "_view_count": null,
            "_view_module_version": "1.5.0",
            "orientation": "horizontal",
            "min": 0,
            "description_tooltip": null,
            "_model_module": "@jupyter-widgets/controls",
            "layout": "IPY_MODEL_25fccc812f5749778915b550550034a1"
          }
        },
        "71d628bd10974218829c9b2f81cbcdcb": {
          "model_module": "@jupyter-widgets/controls",
          "model_name": "HTMLModel",
          "state": {
            "_view_name": "HTMLView",
            "style": "IPY_MODEL_707300f532c7479c9621ce4ae4190b87",
            "_dom_classes": [],
            "description": "",
            "_model_name": "HTMLModel",
            "placeholder": "​",
            "_view_module": "@jupyter-widgets/controls",
            "_model_module_version": "1.5.0",
            "value": " 433/433 [00:00&lt;00:00, 1.55kB/s]",
            "_view_count": null,
            "_view_module_version": "1.5.0",
            "description_tooltip": null,
            "_model_module": "@jupyter-widgets/controls",
            "layout": "IPY_MODEL_1993cbf214884c65b532b4435e3fccb2"
          }
        },
        "94831bbc4812458aa51088be6fadb39b": {
          "model_module": "@jupyter-widgets/controls",
          "model_name": "ProgressStyleModel",
          "state": {
            "_view_name": "StyleView",
            "_model_name": "ProgressStyleModel",
            "description_width": "initial",
            "_view_module": "@jupyter-widgets/base",
            "_model_module_version": "1.5.0",
            "_view_count": null,
            "_view_module_version": "1.2.0",
            "bar_color": null,
            "_model_module": "@jupyter-widgets/controls"
          }
        },
        "25fccc812f5749778915b550550034a1": {
          "model_module": "@jupyter-widgets/base",
          "model_name": "LayoutModel",
          "state": {
            "_view_name": "LayoutView",
            "grid_template_rows": null,
            "right": null,
            "justify_content": null,
            "_view_module": "@jupyter-widgets/base",
            "overflow": null,
            "_model_module_version": "1.2.0",
            "_view_count": null,
            "flex_flow": null,
            "width": null,
            "min_width": null,
            "border": null,
            "align_items": null,
            "bottom": null,
            "_model_module": "@jupyter-widgets/base",
            "top": null,
            "grid_column": null,
            "overflow_y": null,
            "overflow_x": null,
            "grid_auto_flow": null,
            "grid_area": null,
            "grid_template_columns": null,
            "flex": null,
            "_model_name": "LayoutModel",
            "justify_items": null,
            "grid_row": null,
            "max_height": null,
            "align_content": null,
            "visibility": null,
            "align_self": null,
            "height": null,
            "min_height": null,
            "padding": null,
            "grid_auto_rows": null,
            "grid_gap": null,
            "max_width": null,
            "order": null,
            "_view_module_version": "1.2.0",
            "grid_template_areas": null,
            "object_position": null,
            "object_fit": null,
            "grid_auto_columns": null,
            "margin": null,
            "display": null,
            "left": null
          }
        },
        "707300f532c7479c9621ce4ae4190b87": {
          "model_module": "@jupyter-widgets/controls",
          "model_name": "DescriptionStyleModel",
          "state": {
            "_view_name": "StyleView",
            "_model_name": "DescriptionStyleModel",
            "description_width": "",
            "_view_module": "@jupyter-widgets/base",
            "_model_module_version": "1.5.0",
            "_view_count": null,
            "_view_module_version": "1.2.0",
            "_model_module": "@jupyter-widgets/controls"
          }
        },
        "1993cbf214884c65b532b4435e3fccb2": {
          "model_module": "@jupyter-widgets/base",
          "model_name": "LayoutModel",
          "state": {
            "_view_name": "LayoutView",
            "grid_template_rows": null,
            "right": null,
            "justify_content": null,
            "_view_module": "@jupyter-widgets/base",
            "overflow": null,
            "_model_module_version": "1.2.0",
            "_view_count": null,
            "flex_flow": null,
            "width": null,
            "min_width": null,
            "border": null,
            "align_items": null,
            "bottom": null,
            "_model_module": "@jupyter-widgets/base",
            "top": null,
            "grid_column": null,
            "overflow_y": null,
            "overflow_x": null,
            "grid_auto_flow": null,
            "grid_area": null,
            "grid_template_columns": null,
            "flex": null,
            "_model_name": "LayoutModel",
            "justify_items": null,
            "grid_row": null,
            "max_height": null,
            "align_content": null,
            "visibility": null,
            "align_self": null,
            "height": null,
            "min_height": null,
            "padding": null,
            "grid_auto_rows": null,
            "grid_gap": null,
            "max_width": null,
            "order": null,
            "_view_module_version": "1.2.0",
            "grid_template_areas": null,
            "object_position": null,
            "object_fit": null,
            "grid_auto_columns": null,
            "margin": null,
            "display": null,
            "left": null
          }
        },
        "0ddf1c949bd64afc9e18d7acb00d2679": {
          "model_module": "@jupyter-widgets/controls",
          "model_name": "HBoxModel",
          "state": {
            "_view_name": "HBoxView",
            "_dom_classes": [],
            "_model_name": "HBoxModel",
            "_view_module": "@jupyter-widgets/controls",
            "_model_module_version": "1.5.0",
            "_view_count": null,
            "_view_module_version": "1.5.0",
            "box_style": "",
            "layout": "IPY_MODEL_f01f30349349494d8e5c0c28283aba89",
            "_model_module": "@jupyter-widgets/controls",
            "children": [
              "IPY_MODEL_e2fe9b01098441a8a302b9050ebd1b79",
              "IPY_MODEL_81a793b97cec485ab4ba2be40724b2a1"
            ]
          }
        },
        "f01f30349349494d8e5c0c28283aba89": {
          "model_module": "@jupyter-widgets/base",
          "model_name": "LayoutModel",
          "state": {
            "_view_name": "LayoutView",
            "grid_template_rows": null,
            "right": null,
            "justify_content": null,
            "_view_module": "@jupyter-widgets/base",
            "overflow": null,
            "_model_module_version": "1.2.0",
            "_view_count": null,
            "flex_flow": null,
            "width": null,
            "min_width": null,
            "border": null,
            "align_items": null,
            "bottom": null,
            "_model_module": "@jupyter-widgets/base",
            "top": null,
            "grid_column": null,
            "overflow_y": null,
            "overflow_x": null,
            "grid_auto_flow": null,
            "grid_area": null,
            "grid_template_columns": null,
            "flex": null,
            "_model_name": "LayoutModel",
            "justify_items": null,
            "grid_row": null,
            "max_height": null,
            "align_content": null,
            "visibility": null,
            "align_self": null,
            "height": null,
            "min_height": null,
            "padding": null,
            "grid_auto_rows": null,
            "grid_gap": null,
            "max_width": null,
            "order": null,
            "_view_module_version": "1.2.0",
            "grid_template_areas": null,
            "object_position": null,
            "object_fit": null,
            "grid_auto_columns": null,
            "margin": null,
            "display": null,
            "left": null
          }
        },
        "e2fe9b01098441a8a302b9050ebd1b79": {
          "model_module": "@jupyter-widgets/controls",
          "model_name": "FloatProgressModel",
          "state": {
            "_view_name": "ProgressView",
            "style": "IPY_MODEL_a059e2ea48a64b4584a4e9855ec63f0d",
            "_dom_classes": [],
            "description": "Downloading: 100%",
            "_model_name": "FloatProgressModel",
            "bar_style": "success",
            "max": 445021143,
            "_view_module": "@jupyter-widgets/controls",
            "_model_module_version": "1.5.0",
            "value": 445021143,
            "_view_count": null,
            "_view_module_version": "1.5.0",
            "orientation": "horizontal",
            "min": 0,
            "description_tooltip": null,
            "_model_module": "@jupyter-widgets/controls",
            "layout": "IPY_MODEL_6c0d303c8e334533b5620e3f49b43f9a"
          }
        },
        "81a793b97cec485ab4ba2be40724b2a1": {
          "model_module": "@jupyter-widgets/controls",
          "model_name": "HTMLModel",
          "state": {
            "_view_name": "HTMLView",
            "style": "IPY_MODEL_4ca0ee2f547f4e94b0ae9b34498464d3",
            "_dom_classes": [],
            "description": "",
            "_model_name": "HTMLModel",
            "placeholder": "​",
            "_view_module": "@jupyter-widgets/controls",
            "_model_module_version": "1.5.0",
            "value": " 445M/445M [00:20&lt;00:00, 22.0MB/s]",
            "_view_count": null,
            "_view_module_version": "1.5.0",
            "description_tooltip": null,
            "_model_module": "@jupyter-widgets/controls",
            "layout": "IPY_MODEL_aea5ef07151f497f8b91178fa8cd5894"
          }
        },
        "a059e2ea48a64b4584a4e9855ec63f0d": {
          "model_module": "@jupyter-widgets/controls",
          "model_name": "ProgressStyleModel",
          "state": {
            "_view_name": "StyleView",
            "_model_name": "ProgressStyleModel",
            "description_width": "initial",
            "_view_module": "@jupyter-widgets/base",
            "_model_module_version": "1.5.0",
            "_view_count": null,
            "_view_module_version": "1.2.0",
            "bar_color": null,
            "_model_module": "@jupyter-widgets/controls"
          }
        },
        "6c0d303c8e334533b5620e3f49b43f9a": {
          "model_module": "@jupyter-widgets/base",
          "model_name": "LayoutModel",
          "state": {
            "_view_name": "LayoutView",
            "grid_template_rows": null,
            "right": null,
            "justify_content": null,
            "_view_module": "@jupyter-widgets/base",
            "overflow": null,
            "_model_module_version": "1.2.0",
            "_view_count": null,
            "flex_flow": null,
            "width": null,
            "min_width": null,
            "border": null,
            "align_items": null,
            "bottom": null,
            "_model_module": "@jupyter-widgets/base",
            "top": null,
            "grid_column": null,
            "overflow_y": null,
            "overflow_x": null,
            "grid_auto_flow": null,
            "grid_area": null,
            "grid_template_columns": null,
            "flex": null,
            "_model_name": "LayoutModel",
            "justify_items": null,
            "grid_row": null,
            "max_height": null,
            "align_content": null,
            "visibility": null,
            "align_self": null,
            "height": null,
            "min_height": null,
            "padding": null,
            "grid_auto_rows": null,
            "grid_gap": null,
            "max_width": null,
            "order": null,
            "_view_module_version": "1.2.0",
            "grid_template_areas": null,
            "object_position": null,
            "object_fit": null,
            "grid_auto_columns": null,
            "margin": null,
            "display": null,
            "left": null
          }
        },
        "4ca0ee2f547f4e94b0ae9b34498464d3": {
          "model_module": "@jupyter-widgets/controls",
          "model_name": "DescriptionStyleModel",
          "state": {
            "_view_name": "StyleView",
            "_model_name": "DescriptionStyleModel",
            "description_width": "",
            "_view_module": "@jupyter-widgets/base",
            "_model_module_version": "1.5.0",
            "_view_count": null,
            "_view_module_version": "1.2.0",
            "_model_module": "@jupyter-widgets/controls"
          }
        },
        "aea5ef07151f497f8b91178fa8cd5894": {
          "model_module": "@jupyter-widgets/base",
          "model_name": "LayoutModel",
          "state": {
            "_view_name": "LayoutView",
            "grid_template_rows": null,
            "right": null,
            "justify_content": null,
            "_view_module": "@jupyter-widgets/base",
            "overflow": null,
            "_model_module_version": "1.2.0",
            "_view_count": null,
            "flex_flow": null,
            "width": null,
            "min_width": null,
            "border": null,
            "align_items": null,
            "bottom": null,
            "_model_module": "@jupyter-widgets/base",
            "top": null,
            "grid_column": null,
            "overflow_y": null,
            "overflow_x": null,
            "grid_auto_flow": null,
            "grid_area": null,
            "grid_template_columns": null,
            "flex": null,
            "_model_name": "LayoutModel",
            "justify_items": null,
            "grid_row": null,
            "max_height": null,
            "align_content": null,
            "visibility": null,
            "align_self": null,
            "height": null,
            "min_height": null,
            "padding": null,
            "grid_auto_rows": null,
            "grid_gap": null,
            "max_width": null,
            "order": null,
            "_view_module_version": "1.2.0",
            "grid_template_areas": null,
            "object_position": null,
            "object_fit": null,
            "grid_auto_columns": null,
            "margin": null,
            "display": null,
            "left": null
          }
        }
      }
    }
  },
  "cells": [
    {
      "cell_type": "markdown",
      "metadata": {
        "id": "wDXQ1XUf5Ojv"
      },
      "source": [
        "# Sample Code for Google Colab"
      ]
    },
    {
      "cell_type": "markdown",
      "metadata": {
        "id": "T6hYmgBb5d_5"
      },
      "source": [
        "## Setting\n",
        "install modules  \n",
        "import modules  \n",
        "define function and paths.  "
      ]
    },
    {
      "cell_type": "code",
      "metadata": {
        "id": "9uO6XT7C9SS-",
        "outputId": "e4d4302e-4593-445a-8e0c-c795fd260716",
        "colab": {
          "base_uri": "https://localhost:8080/",
          "height": 1000
        }
      },
      "source": [
        "%%bash\n",
        "# clone our repository.\n",
        "git clone https://github.com/ou-medinfo/medbertjp.git\n",
        "\n",
        "# install transformers\n",
        "pip install transformers\n",
        "\n",
        "# install a Japanese tokenizer and morphological analysis tools.\n",
        "# apt-get install mecab    # included in fugashi\n",
        "pip install fugashi ipadic unidic\n",
        "python -m unidic download"
      ],
      "execution_count": 1,
      "outputs": [
        {
          "output_type": "stream",
          "text": [
            "Collecting transformers\n",
            "  Downloading https://files.pythonhosted.org/packages/2c/4e/4f1ede0fd7a36278844a277f8d53c21f88f37f3754abf76a5d6224f76d4a/transformers-3.4.0-py3-none-any.whl (1.3MB)\n",
            "Requirement already satisfied: filelock in /usr/local/lib/python3.6/dist-packages (from transformers) (3.0.12)\n",
            "Collecting sacremoses\n",
            "  Downloading https://files.pythonhosted.org/packages/7d/34/09d19aff26edcc8eb2a01bed8e98f13a1537005d31e95233fd48216eed10/sacremoses-0.0.43.tar.gz (883kB)\n",
            "Requirement already satisfied: tqdm>=4.27 in /usr/local/lib/python3.6/dist-packages (from transformers) (4.41.1)\n",
            "Collecting sentencepiece!=0.1.92\n",
            "  Downloading https://files.pythonhosted.org/packages/d4/a4/d0a884c4300004a78cca907a6ff9a5e9fe4f090f5d95ab341c53d28cbc58/sentencepiece-0.1.91-cp36-cp36m-manylinux1_x86_64.whl (1.1MB)\n",
            "Requirement already satisfied: protobuf in /usr/local/lib/python3.6/dist-packages (from transformers) (3.12.4)\n",
            "Requirement already satisfied: requests in /usr/local/lib/python3.6/dist-packages (from transformers) (2.23.0)\n",
            "Collecting tokenizers==0.9.2\n",
            "  Downloading https://files.pythonhosted.org/packages/7c/a5/78be1a55b2ac8d6a956f0a211d372726e2b1dd2666bb537fea9b03abd62c/tokenizers-0.9.2-cp36-cp36m-manylinux1_x86_64.whl (2.9MB)\n",
            "Requirement already satisfied: packaging in /usr/local/lib/python3.6/dist-packages (from transformers) (20.4)\n",
            "Requirement already satisfied: dataclasses; python_version < \"3.7\" in /usr/local/lib/python3.6/dist-packages (from transformers) (0.7)\n",
            "Requirement already satisfied: regex!=2019.12.17 in /usr/local/lib/python3.6/dist-packages (from transformers) (2019.12.20)\n",
            "Requirement already satisfied: numpy in /usr/local/lib/python3.6/dist-packages (from transformers) (1.18.5)\n",
            "Requirement already satisfied: six in /usr/local/lib/python3.6/dist-packages (from sacremoses->transformers) (1.15.0)\n",
            "Requirement already satisfied: click in /usr/local/lib/python3.6/dist-packages (from sacremoses->transformers) (7.1.2)\n",
            "Requirement already satisfied: joblib in /usr/local/lib/python3.6/dist-packages (from sacremoses->transformers) (0.16.0)\n",
            "Requirement already satisfied: setuptools in /usr/local/lib/python3.6/dist-packages (from protobuf->transformers) (50.3.0)\n",
            "Requirement already satisfied: certifi>=2017.4.17 in /usr/local/lib/python3.6/dist-packages (from requests->transformers) (2020.6.20)\n",
            "Requirement already satisfied: urllib3!=1.25.0,!=1.25.1,<1.26,>=1.21.1 in /usr/local/lib/python3.6/dist-packages (from requests->transformers) (1.24.3)\n",
            "Requirement already satisfied: idna<3,>=2.5 in /usr/local/lib/python3.6/dist-packages (from requests->transformers) (2.10)\n",
            "Requirement already satisfied: chardet<4,>=3.0.2 in /usr/local/lib/python3.6/dist-packages (from requests->transformers) (3.0.4)\n",
            "Requirement already satisfied: pyparsing>=2.0.2 in /usr/local/lib/python3.6/dist-packages (from packaging->transformers) (2.4.7)\n",
            "Building wheels for collected packages: sacremoses\n",
            "  Building wheel for sacremoses (setup.py): started\n",
            "  Building wheel for sacremoses (setup.py): finished with status 'done'\n",
            "  Created wheel for sacremoses: filename=sacremoses-0.0.43-cp36-none-any.whl size=893257 sha256=5c1350ad368534e1a824e36003d2c6e353cf16cdd93b235ce2d370c136ed4bc1\n",
            "  Stored in directory: /root/.cache/pip/wheels/29/3c/fd/7ce5c3f0666dab31a50123635e6fb5e19ceb42ce38d4e58f45\n",
            "Successfully built sacremoses\n",
            "Installing collected packages: sacremoses, sentencepiece, tokenizers, transformers\n",
            "Successfully installed sacremoses-0.0.43 sentencepiece-0.1.91 tokenizers-0.9.2 transformers-3.4.0\n",
            "Collecting fugashi\n",
            "  Downloading https://files.pythonhosted.org/packages/31/0a/fb7946e8206709ff128c9eff0a4a6db679a6dd7082e034ad5bb35703f6bf/fugashi-1.0.5-cp36-cp36m-manylinux1_x86_64.whl (476kB)\n",
            "Collecting ipadic\n",
            "  Downloading https://files.pythonhosted.org/packages/e7/4e/c459f94d62a0bef89f866857bc51b9105aff236b83928618315b41a26b7b/ipadic-1.0.0.tar.gz (13.4MB)\n",
            "Collecting unidic\n",
            "  Downloading https://files.pythonhosted.org/packages/86/04/c18832fd9959a78fc60eeaa9e7fb37ef31a250e8645cc2897eb1f07939ee/unidic-1.0.3.tar.gz\n",
            "Requirement already satisfied: requests<3.0.0,>=2.22.0 in /usr/local/lib/python3.6/dist-packages (from unidic) (2.23.0)\n",
            "Requirement already satisfied: tqdm<5.0.0,>=4.41.1 in /usr/local/lib/python3.6/dist-packages (from unidic) (4.41.1)\n",
            "Requirement already satisfied: wasabi<1.0.0,>=0.6.0 in /usr/local/lib/python3.6/dist-packages (from unidic) (0.8.0)\n",
            "Requirement already satisfied: plac<2.0.0,>=1.1.3 in /usr/local/lib/python3.6/dist-packages (from unidic) (1.1.3)\n",
            "Requirement already satisfied: urllib3!=1.25.0,!=1.25.1,<1.26,>=1.21.1 in /usr/local/lib/python3.6/dist-packages (from requests<3.0.0,>=2.22.0->unidic) (1.24.3)\n",
            "Requirement already satisfied: chardet<4,>=3.0.2 in /usr/local/lib/python3.6/dist-packages (from requests<3.0.0,>=2.22.0->unidic) (3.0.4)\n",
            "Requirement already satisfied: idna<3,>=2.5 in /usr/local/lib/python3.6/dist-packages (from requests<3.0.0,>=2.22.0->unidic) (2.10)\n",
            "Requirement already satisfied: certifi>=2017.4.17 in /usr/local/lib/python3.6/dist-packages (from requests<3.0.0,>=2.22.0->unidic) (2020.6.20)\n",
            "Building wheels for collected packages: ipadic, unidic\n",
            "  Building wheel for ipadic (setup.py): started\n",
            "  Building wheel for ipadic (setup.py): finished with status 'done'\n",
            "  Created wheel for ipadic: filename=ipadic-1.0.0-cp36-none-any.whl size=13556725 sha256=33d430dc881d0c710f01b866613c2494cbcc5d7bd88ac1b5101798a6609b40de\n",
            "  Stored in directory: /root/.cache/pip/wheels/ff/00/d1/0c094a0ce58a77199a0c5801f0ecf510c80f0ecbec27f07d2c\n",
            "  Building wheel for unidic (setup.py): started\n",
            "  Building wheel for unidic (setup.py): finished with status 'done'\n",
            "  Created wheel for unidic: filename=unidic-1.0.3-cp36-none-any.whl size=5498 sha256=a79c357a99abe1628856a21dde79bb02c763967bc3a4534e52a1cf9a455d3849\n",
            "  Stored in directory: /root/.cache/pip/wheels/d3/26/e2/fb76c79fd14391eb994eab021c9129c24814125298e1e5b96a\n",
            "Successfully built ipadic unidic\n",
            "Installing collected packages: fugashi, ipadic, unidic\n",
            "Successfully installed fugashi-1.0.5 ipadic-1.0.0 unidic-1.0.3\n",
            "download url: https://cotonoha-dic.s3-ap-northeast-1.amazonaws.com/unidic.zip\n",
            "Dictionary version: 2.3.0+2020-10-08\n",
            "Finished download.\n"
          ],
          "name": "stdout"
        },
        {
          "output_type": "stream",
          "text": [
            "Cloning into 'medbertjp'...\n",
            "Downloading UniDic v2.3.0+2020-10-08...\n",
            "\runidic.zip: 0.00B [00:00, ?B/s]\runidic.zip:   0%|          | 8.19k/608M [00:00<16:40:07, 10.1kB/s]\runidic.zip:   0%|          | 24.6k/608M [00:00<12:09:47, 13.9kB/s]\runidic.zip:   0%|          | 49.2k/608M [00:01<8:50:48, 19.1kB/s] \runidic.zip:   0%|          | 115k/608M [00:01<6:19:00, 26.7kB/s] \runidic.zip:   0%|          | 221k/608M [00:01<4:29:51, 37.5kB/s]\runidic.zip:   0%|          | 483k/608M [00:01<3:10:41, 53.1kB/s]\runidic.zip:   0%|          | 983k/608M [00:01<2:14:20, 75.3kB/s]\runidic.zip:   0%|          | 1.98M/608M [00:01<1:34:22, 107kB/s]\runidic.zip:   1%|          | 4.00M/608M [00:02<1:06:05, 152kB/s]\runidic.zip:   1%|          | 7.11M/608M [00:02<46:10, 217kB/s]  \runidic.zip:   2%|▏         | 9.90M/608M [00:02<32:20, 308kB/s]\runidic.zip:   2%|▏         | 12.9M/608M [00:02<22:41, 437kB/s]\runidic.zip:   3%|▎         | 15.8M/608M [00:02<15:58, 618kB/s]\runidic.zip:   3%|▎         | 18.6M/608M [00:02<11:17, 870kB/s]\runidic.zip:   4%|▎         | 21.6M/608M [00:03<08:01, 1.22MB/s]\runidic.zip:   4%|▍         | 24.3M/608M [00:03<05:45, 1.69MB/s]\runidic.zip:   4%|▍         | 27.2M/608M [00:03<04:10, 2.32MB/s]\runidic.zip:   5%|▍         | 30.0M/608M [00:03<03:04, 3.13MB/s]\runidic.zip:   5%|▌         | 32.9M/608M [00:03<02:18, 4.16MB/s]\runidic.zip:   6%|▌         | 35.8M/608M [00:03<01:45, 5.41MB/s]\runidic.zip:   6%|▋         | 38.7M/608M [00:04<01:23, 6.85MB/s]\runidic.zip:   7%|▋         | 41.6M/608M [00:04<01:07, 8.42MB/s]\runidic.zip:   7%|▋         | 44.6M/608M [00:04<00:56, 10.0MB/s]\runidic.zip:   8%|▊         | 47.5M/608M [00:04<00:48, 11.6MB/s]\runidic.zip:   8%|▊         | 50.4M/608M [00:04<00:42, 13.0MB/s]\runidic.zip:   9%|▊         | 53.1M/608M [00:04<00:40, 13.9MB/s]\runidic.zip:   9%|▉         | 56.2M/608M [00:04<00:36, 15.1MB/s]\runidic.zip:  10%|▉         | 59.1M/608M [00:05<00:34, 15.9MB/s]\runidic.zip:  10%|█         | 62.1M/608M [00:05<00:32, 16.7MB/s]\runidic.zip:  11%|█         | 65.1M/608M [00:05<00:31, 17.3MB/s]\runidic.zip:  11%|█         | 68.1M/608M [00:05<00:30, 17.6MB/s]\runidic.zip:  12%|█▏        | 71.1M/608M [00:05<00:29, 17.9MB/s]\runidic.zip:  12%|█▏        | 74.1M/608M [00:05<00:29, 18.2MB/s]\runidic.zip:  13%|█▎        | 77.2M/608M [00:06<00:28, 18.4MB/s]\runidic.zip:  13%|█▎        | 80.2M/608M [00:06<00:28, 18.5MB/s]\runidic.zip:  14%|█▎        | 83.3M/608M [00:06<00:28, 18.6MB/s]\runidic.zip:  14%|█▍        | 86.2M/608M [00:06<00:28, 18.6MB/s]\runidic.zip:  15%|█▍        | 89.0M/608M [00:06<00:28, 18.0MB/s]\runidic.zip:  15%|█▌        | 92.0M/608M [00:06<00:28, 18.2MB/s]\runidic.zip:  16%|█▌        | 94.9M/608M [00:07<00:28, 18.1MB/s]\runidic.zip:  16%|█▌        | 98.0M/608M [00:07<00:27, 18.5MB/s]\runidic.zip:  17%|█▋        | 101M/608M [00:07<00:27, 18.3MB/s] \runidic.zip:  17%|█▋        | 104M/608M [00:07<00:27, 18.4MB/s]\runidic.zip:  18%|█▊        | 107M/608M [00:07<00:27, 18.3MB/s]\runidic.zip:  18%|█▊        | 110M/608M [00:07<00:26, 18.5MB/s]\runidic.zip:  18%|█▊        | 112M/608M [00:08<00:27, 17.7MB/s]\runidic.zip:  19%|█▉        | 115M/608M [00:08<00:27, 17.9MB/s]\runidic.zip:  19%|█▉        | 118M/608M [00:08<00:27, 18.1MB/s]\runidic.zip:  20%|█▉        | 122M/608M [00:08<00:26, 18.5MB/s]\runidic.zip:  20%|██        | 125M/608M [00:08<00:26, 18.6MB/s]\runidic.zip:  21%|██        | 128M/608M [00:08<00:25, 18.6MB/s]\runidic.zip:  21%|██▏       | 131M/608M [00:09<00:25, 18.8MB/s]\runidic.zip:  22%|██▏       | 134M/608M [00:09<00:25, 18.6MB/s]\runidic.zip:  22%|██▏       | 137M/608M [00:09<00:25, 18.7MB/s]\runidic.zip:  23%|██▎       | 140M/608M [00:09<00:24, 18.8MB/s]\runidic.zip:  23%|██▎       | 143M/608M [00:09<00:24, 18.8MB/s]\runidic.zip:  24%|██▍       | 146M/608M [00:09<00:24, 18.8MB/s]\runidic.zip:  24%|██▍       | 149M/608M [00:09<00:24, 18.9MB/s]\runidic.zip:  25%|██▍       | 152M/608M [00:10<00:23, 19.0MB/s]\runidic.zip:  26%|██▌       | 155M/608M [00:10<00:23, 19.2MB/s]\runidic.zip:  26%|██▌       | 158M/608M [00:10<00:23, 19.2MB/s]\runidic.zip:  27%|██▋       | 161M/608M [00:10<00:23, 19.2MB/s]\runidic.zip:  27%|██▋       | 164M/608M [00:10<00:23, 19.3MB/s]\runidic.zip:  28%|██▊       | 168M/608M [00:10<00:22, 19.2MB/s]\runidic.zip:  28%|██▊       | 171M/608M [00:11<00:22, 19.3MB/s]\runidic.zip:  29%|██▊       | 174M/608M [00:11<00:22, 19.3MB/s]\runidic.zip:  29%|██▉       | 177M/608M [00:11<00:22, 19.2MB/s]\runidic.zip:  30%|██▉       | 180M/608M [00:11<00:22, 19.0MB/s]\runidic.zip:  30%|███       | 183M/608M [00:11<00:22, 18.8MB/s]\runidic.zip:  31%|███       | 186M/608M [00:11<00:22, 18.9MB/s]\runidic.zip:  31%|███       | 189M/608M [00:12<00:22, 19.0MB/s]\runidic.zip:  32%|███▏      | 192M/608M [00:12<00:21, 19.0MB/s]\runidic.zip:  32%|███▏      | 195M/608M [00:12<00:22, 18.5MB/s]\runidic.zip:  33%|███▎      | 198M/608M [00:12<00:22, 18.6MB/s]\runidic.zip:  33%|███▎      | 201M/608M [00:12<00:21, 18.7MB/s]\runidic.zip:  34%|███▎      | 204M/608M [00:12<00:21, 18.8MB/s]\runidic.zip:  34%|███▍      | 207M/608M [00:13<00:21, 18.9MB/s]\runidic.zip:  35%|███▍      | 210M/608M [00:13<00:21, 18.9MB/s]\runidic.zip:  35%|███▌      | 213M/608M [00:13<00:20, 19.0MB/s]\runidic.zip:  36%|███▌      | 216M/608M [00:13<00:20, 19.1MB/s]\runidic.zip:  36%|███▌      | 219M/608M [00:13<00:20, 19.2MB/s]\runidic.zip:  37%|███▋      | 223M/608M [00:13<00:20, 19.2MB/s]\runidic.zip:  37%|███▋      | 226M/608M [00:14<00:19, 19.3MB/s]\runidic.zip:  38%|███▊      | 229M/608M [00:14<00:19, 19.3MB/s]\runidic.zip:  38%|███▊      | 232M/608M [00:14<00:19, 19.2MB/s]\runidic.zip:  39%|███▊      | 235M/608M [00:14<00:19, 18.9MB/s]\runidic.zip:  39%|███▉      | 238M/608M [00:14<00:19, 19.0MB/s]\runidic.zip:  40%|███▉      | 241M/608M [00:14<00:19, 18.7MB/s]\runidic.zip:  40%|████      | 244M/608M [00:14<00:19, 18.6MB/s]\runidic.zip:  41%|████      | 247M/608M [00:15<00:19, 18.7MB/s]\runidic.zip:  41%|████      | 250M/608M [00:15<00:19, 18.7MB/s]\runidic.zip:  42%|████▏     | 253M/608M [00:15<00:18, 18.9MB/s]\runidic.zip:  42%|████▏     | 256M/608M [00:15<00:18, 18.9MB/s]\runidic.zip:  43%|████▎     | 259M/608M [00:15<00:18, 19.0MB/s]\runidic.zip:  43%|████▎     | 262M/608M [00:15<00:18, 19.0MB/s]\runidic.zip:  44%|████▎     | 265M/608M [00:16<00:17, 19.1MB/s]\runidic.zip:  44%|████▍     | 268M/608M [00:16<00:17, 19.1MB/s]\runidic.zip:  45%|████▍     | 272M/608M [00:16<00:17, 19.2MB/s]\runidic.zip:  45%|████▌     | 275M/608M [00:16<00:17, 19.1MB/s]\runidic.zip:  46%|████▌     | 278M/608M [00:16<00:17, 19.1MB/s]\runidic.zip:  46%|████▌     | 281M/608M [00:16<00:17, 19.2MB/s]\runidic.zip:  47%|████▋     | 284M/608M [00:17<00:16, 19.2MB/s]\runidic.zip:  47%|████▋     | 287M/608M [00:17<00:16, 19.3MB/s]\runidic.zip:  48%|████▊     | 290M/608M [00:17<00:16, 19.2MB/s]\runidic.zip:  48%|████▊     | 293M/608M [00:17<00:16, 19.3MB/s]\runidic.zip:  49%|████▊     | 296M/608M [00:17<00:16, 19.3MB/s]\runidic.zip:  49%|████▉     | 299M/608M [00:17<00:15, 19.3MB/s]\runidic.zip:  50%|████▉     | 303M/608M [00:18<00:15, 19.3MB/s]\runidic.zip:  50%|█████     | 306M/608M [00:18<00:15, 19.3MB/s]\runidic.zip:  51%|█████     | 309M/608M [00:18<00:15, 19.3MB/s]\runidic.zip:  51%|█████▏    | 312M/608M [00:18<00:15, 19.3MB/s]\runidic.zip:  52%|█████▏    | 315M/608M [00:18<00:15, 19.3MB/s]\runidic.zip:  52%|█████▏    | 318M/608M [00:18<00:14, 19.3MB/s]\runidic.zip:  53%|█████▎    | 321M/608M [00:19<00:14, 19.2MB/s]\runidic.zip:  53%|█████▎    | 324M/608M [00:19<00:14, 19.2MB/s]\runidic.zip:  54%|█████▍    | 327M/608M [00:19<00:14, 19.2MB/s]\runidic.zip:  54%|█████▍    | 330M/608M [00:19<00:14, 19.2MB/s]\runidic.zip:  55%|█████▍    | 334M/608M [00:19<00:14, 19.1MB/s]\runidic.zip:  55%|█████▌    | 337M/608M [00:19<00:14, 19.0MB/s]\runidic.zip:  56%|█████▌    | 339M/608M [00:19<00:14, 18.6MB/s]\runidic.zip:  56%|█████▋    | 343M/608M [00:20<00:14, 18.8MB/s]\runidic.zip:  57%|█████▋    | 346M/608M [00:20<00:13, 18.8MB/s]\runidic.zip:  57%|█████▋    | 349M/608M [00:20<00:13, 19.0MB/s]\runidic.zip:  58%|█████▊    | 352M/608M [00:20<00:13, 19.0MB/s]\runidic.zip:  58%|█████▊    | 355M/608M [00:20<00:13, 19.1MB/s]\runidic.zip:  59%|█████▉    | 358M/608M [00:20<00:13, 19.1MB/s]\runidic.zip:  59%|█████▉    | 361M/608M [00:21<00:12, 19.1MB/s]\runidic.zip:  60%|█████▉    | 364M/608M [00:21<00:12, 19.2MB/s]\runidic.zip:  60%|██████    | 367M/608M [00:21<00:12, 19.2MB/s]\runidic.zip:  61%|██████    | 370M/608M [00:21<00:12, 19.1MB/s]\runidic.zip:  61%|██████▏   | 373M/608M [00:21<00:12, 19.1MB/s]\runidic.zip:  62%|██████▏   | 376M/608M [00:21<00:12, 19.1MB/s]\runidic.zip:  62%|██████▏   | 380M/608M [00:22<00:11, 19.2MB/s]\runidic.zip:  63%|██████▎   | 383M/608M [00:22<00:11, 19.2MB/s]\runidic.zip:  63%|██████▎   | 386M/608M [00:22<00:11, 19.3MB/s]\runidic.zip:  64%|██████▍   | 389M/608M [00:22<00:11, 19.2MB/s]\runidic.zip:  64%|██████▍   | 392M/608M [00:22<00:11, 19.1MB/s]\runidic.zip:  65%|██████▍   | 395M/608M [00:22<00:11, 19.2MB/s]\runidic.zip:  65%|██████▌   | 398M/608M [00:23<00:10, 19.2MB/s]\runidic.zip:  66%|██████▌   | 401M/608M [00:23<00:10, 19.3MB/s]\runidic.zip:  66%|██████▋   | 404M/608M [00:23<00:10, 19.2MB/s]\runidic.zip:  67%|██████▋   | 407M/608M [00:23<00:10, 19.2MB/s]\runidic.zip:  68%|██████▊   | 411M/608M [00:23<00:10, 19.3MB/s]\runidic.zip:  68%|██████▊   | 414M/608M [00:23<00:10, 19.3MB/s]\runidic.zip:  69%|██████▊   | 417M/608M [00:24<00:09, 19.3MB/s]\runidic.zip:  69%|██████▉   | 420M/608M [00:24<00:09, 19.3MB/s]\runidic.zip:  70%|██████▉   | 423M/608M [00:24<00:09, 19.3MB/s]\runidic.zip:  70%|███████   | 426M/608M [00:24<00:09, 19.2MB/s]\runidic.zip:  71%|███████   | 429M/608M [00:24<00:09, 19.2MB/s]\runidic.zip:  71%|███████   | 432M/608M [00:24<00:09, 19.1MB/s]\runidic.zip:  72%|███████▏  | 435M/608M [00:24<00:09, 18.5MB/s]\runidic.zip:  72%|███████▏  | 438M/608M [00:25<00:09, 18.6MB/s]\runidic.zip:  72%|███████▏  | 441M/608M [00:25<00:09, 18.5MB/s]\runidic.zip:  73%|███████▎  | 444M/608M [00:25<00:08, 18.5MB/s]\runidic.zip:  74%|███████▎  | 447M/608M [00:25<00:08, 18.7MB/s]\runidic.zip:  74%|███████▍  | 450M/608M [00:25<00:08, 19.0MB/s]\runidic.zip:  75%|███████▍  | 453M/608M [00:25<00:08, 19.1MB/s]\runidic.zip:  75%|███████▌  | 456M/608M [00:26<00:07, 19.2MB/s]\runidic.zip:  76%|███████▌  | 460M/608M [00:26<00:07, 19.3MB/s]\runidic.zip:  76%|███████▌  | 463M/608M [00:26<00:07, 19.2MB/s]\runidic.zip:  77%|███████▋  | 466M/608M [00:26<00:07, 19.1MB/s]\runidic.zip:  77%|███████▋  | 469M/608M [00:26<00:07, 19.1MB/s]\runidic.zip:  78%|███████▊  | 472M/608M [00:26<00:07, 19.1MB/s]\runidic.zip:  78%|███████▊  | 475M/608M [00:27<00:06, 19.2MB/s]\runidic.zip:  79%|███████▊  | 478M/608M [00:27<00:06, 19.2MB/s]\runidic.zip:  79%|███████▉  | 481M/608M [00:27<00:06, 19.2MB/s]\runidic.zip:  80%|███████▉  | 484M/608M [00:27<00:06, 19.2MB/s]\runidic.zip:  80%|████████  | 487M/608M [00:27<00:06, 19.3MB/s]\runidic.zip:  81%|████████  | 491M/608M [00:27<00:06, 19.3MB/s]\runidic.zip:  81%|████████  | 494M/608M [00:28<00:05, 19.3MB/s]\runidic.zip:  82%|████████▏ | 497M/608M [00:28<00:05, 19.3MB/s]\runidic.zip:  82%|████████▏ | 500M/608M [00:28<00:05, 19.4MB/s]\runidic.zip:  83%|████████▎ | 503M/608M [00:28<00:05, 19.4MB/s]\runidic.zip:  83%|████████▎ | 506M/608M [00:28<00:05, 19.4MB/s]\runidic.zip:  84%|████████▎ | 509M/608M [00:28<00:05, 19.3MB/s]\runidic.zip:  84%|████████▍ | 512M/608M [00:29<00:04, 19.3MB/s]\runidic.zip:  85%|████████▍ | 515M/608M [00:29<00:04, 19.3MB/s]\runidic.zip:  85%|████████▌ | 519M/608M [00:29<00:04, 19.4MB/s]\runidic.zip:  86%|████████▌ | 522M/608M [00:29<00:04, 19.4MB/s]\runidic.zip:  86%|████████▋ | 525M/608M [00:29<00:04, 19.4MB/s]\runidic.zip:  87%|████████▋ | 528M/608M [00:29<00:04, 19.4MB/s]\runidic.zip:  87%|████████▋ | 531M/608M [00:29<00:03, 19.3MB/s]\runidic.zip:  88%|████████▊ | 534M/608M [00:30<00:03, 19.3MB/s]\runidic.zip:  88%|████████▊ | 537M/608M [00:30<00:03, 19.2MB/s]\runidic.zip:  89%|████████▉ | 540M/608M [00:30<00:03, 19.3MB/s]\runidic.zip:  89%|████████▉ | 543M/608M [00:30<00:03, 19.3MB/s]\runidic.zip:  90%|████████▉ | 547M/608M [00:30<00:03, 19.2MB/s]\runidic.zip:  90%|█████████ | 550M/608M [00:30<00:03, 19.3MB/s]\runidic.zip:  91%|█████████ | 553M/608M [00:31<00:02, 19.3MB/s]\runidic.zip:  91%|█████████▏| 556M/608M [00:31<00:02, 19.3MB/s]\runidic.zip:  92%|█████████▏| 559M/608M [00:31<00:02, 19.4MB/s]\runidic.zip:  92%|█████████▏| 562M/608M [00:31<00:02, 19.3MB/s]\runidic.zip:  93%|█████████▎| 565M/608M [00:31<00:02, 19.4MB/s]\runidic.zip:  93%|█████████▎| 568M/608M [00:31<00:02, 19.3MB/s]\runidic.zip:  94%|█████████▍| 571M/608M [00:32<00:01, 19.2MB/s]\runidic.zip:  94%|█████████▍| 575M/608M [00:32<00:01, 19.3MB/s]\runidic.zip:  95%|█████████▍| 578M/608M [00:32<00:01, 19.3MB/s]\runidic.zip:  95%|█████████▌| 581M/608M [00:32<00:01, 19.2MB/s]\runidic.zip:  96%|█████████▌| 584M/608M [00:32<00:01, 18.9MB/s]\runidic.zip:  96%|█████████▋| 587M/608M [00:32<00:01, 19.0MB/s]\runidic.zip:  97%|█████████▋| 590M/608M [00:33<00:00, 19.1MB/s]\runidic.zip:  97%|█████████▋| 593M/608M [00:33<00:00, 19.2MB/s]\runidic.zip:  98%|█████████▊| 596M/608M [00:33<00:00, 19.1MB/s]\runidic.zip:  99%|█████████▊| 599M/608M [00:33<00:00, 19.1MB/s]\runidic.zip:  99%|█████████▉| 602M/608M [00:33<00:00, 19.2MB/s]\runidic.zip: 100%|█████████▉| 605M/608M [00:33<00:00, 19.2MB/s]\runidic.zip: 100%|██████████| 608M/608M [00:33<00:00, 17.9MB/s]\n",
            "Downloaded UniDic v2.3.0+2020-10-08 to /usr/local/lib/python3.6/dist-packages/unidic/dicdir\n"
          ],
          "name": "stderr"
        }
      ]
    },
    {
      "cell_type": "code",
      "metadata": {
        "id": "BJS5AKb5zAbv"
      },
      "source": [
        "import random\n",
        "import torch\n",
        "from medbertjp.tokenization_jp_mod import BertJapaneseTokenizer\n",
        "from transformers.modeling_bert import BertForMaskedLM"
      ],
      "execution_count": 2,
      "outputs": []
    },
    {
      "cell_type": "code",
      "metadata": {
        "id": "L9VDmuq94YXE"
      },
      "source": [
        "def prediction_masked_sentence(sentence, tokenizer, model):\n",
        "    mask_token_id = tokenizer.mask_token_id\n",
        "    \n",
        "    input_ids = tokenizer.encode(text, return_tensors='pt')\n",
        "    print(' '.join(tokenizer.convert_ids_to_tokens(input_ids.tolist()[0])))\n",
        "    masked_index = random.randint(1, len(input_ids[0]) - 2)\n",
        "    input_ids[0][masked_index] = mask_token_id\n",
        "    print(' '.join(tokenizer.convert_ids_to_tokens(input_ids.tolist()[0])))\n",
        "    \n",
        "    result = model(input_ids)\n",
        "    topk = torch.nn.Softmax(dim=1)(result[0][:, masked_index]).topk(5)\n",
        "    scores = topk.values.tolist()[0]\n",
        "    pred_ids = topk.indices.tolist()[0]\n",
        "    for i, pred_id in enumerate(pred_ids):\n",
        "        output_ids = input_ids.tolist()[0]\n",
        "        output_ids[masked_index] = pred_id\n",
        "        \n",
        "        pred_sentence = tokenizer.convert_ids_to_tokens(output_ids)\n",
        "        pred_sentence = [token if n != masked_index else '【' + token + '】'\n",
        "                         for n, token in enumerate(pred_sentence)]\n",
        "        print('{:.1f} %'.format(scores[i] * 100).rjust(7), ' '.join(pred_sentence))\n",
        "        \n",
        "    return result"
      ],
      "execution_count": 3,
      "outputs": []
    },
    {
      "cell_type": "code",
      "metadata": {
        "id": "RZNqUQDNznjH"
      },
      "source": [
        "text = '慢性膵炎では，糖尿病性ケトアシドーシス(DKA)の合併は比較的稀である．'\n",
        "\n",
        "# Model path\n",
        "PathToBertJpMecabUnidic = './medBERTjp_L12_H768_A12_WWM_mecab-unidic'\n",
        "PathToBertJpMecabIpadic = './medBERTjp_L12_H768_A12_WWM_mecab-ipadic'\n",
        "PathToBertJpSentencepiece = './medBERTjp_L12_H768_A12_sentencepiece'"
      ],
      "execution_count": 4,
      "outputs": []
    },
    {
      "cell_type": "markdown",
      "metadata": {
        "id": "cl1HVWJV6P-D"
      },
      "source": [
        "##  MeCab-IPAdic-tokenized Japanese BERT model\n",
        "For general sentences."
      ]
    },
    {
      "cell_type": "code",
      "metadata": {
        "id": "bHvK3L9a6rmJ",
        "outputId": "390691de-06dd-4b19-ab46-b8e853b4b1ed",
        "colab": {
          "base_uri": "https://localhost:8080/",
          "height": 243,
          "referenced_widgets": [
            "eb06e21011304330ab1edf9bde708d2a",
            "632a30877437480e93bffa2968ba897d",
            "c2f37a6e2d254feea3b216b195d5cbdb",
            "e271e4162bb64257af38fd96431b573a",
            "b11dd311ee074ccd9a2dcc36e0a8b6a7",
            "96ca611b0842443bbe25a0d6a77153b9",
            "78eb2f518d514cdea33c40512bee7b60",
            "aee3d787a7574802a7cb328e6a0217ef",
            "12140ac5a7934691bf5913d2f2de2e54",
            "1fe037cd4e4045138f5af99760e10325",
            "bb0900305edb4667b03193c836898018",
            "71d628bd10974218829c9b2f81cbcdcb",
            "94831bbc4812458aa51088be6fadb39b",
            "25fccc812f5749778915b550550034a1",
            "707300f532c7479c9621ce4ae4190b87",
            "1993cbf214884c65b532b4435e3fccb2",
            "0ddf1c949bd64afc9e18d7acb00d2679",
            "f01f30349349494d8e5c0c28283aba89",
            "e2fe9b01098441a8a302b9050ebd1b79",
            "81a793b97cec485ab4ba2be40724b2a1",
            "a059e2ea48a64b4584a4e9855ec63f0d",
            "6c0d303c8e334533b5620e3f49b43f9a",
            "4ca0ee2f547f4e94b0ae9b34498464d3",
            "aea5ef07151f497f8b91178fa8cd5894"
          ]
        }
      },
      "source": [
        "tokenizer = BertJapaneseTokenizer.from_pretrained('cl-tohoku/bert-base-japanese-whole-word-masking',\n",
        "                                                  word_tokenizer_type='mecab',\n",
        "                                                  mecab_kwargs={\n",
        "                                                     \"mecab_dic\": 'ipadic',\n",
        "                                                 })\n",
        "model = BertForMaskedLM.from_pretrained('cl-tohoku/bert-base-japanese-whole-word-masking')"
      ],
      "execution_count": 5,
      "outputs": [
        {
          "output_type": "display_data",
          "data": {
            "application/vnd.jupyter.widget-view+json": {
              "model_id": "eb06e21011304330ab1edf9bde708d2a",
              "version_minor": 0,
              "version_major": 2
            },
            "text/plain": [
              "HBox(children=(FloatProgress(value=0.0, description='Downloading', max=257706.0, style=ProgressStyle(descripti…"
            ]
          },
          "metadata": {
            "tags": []
          }
        },
        {
          "output_type": "stream",
          "text": [
            "\n"
          ],
          "name": "stdout"
        },
        {
          "output_type": "display_data",
          "data": {
            "application/vnd.jupyter.widget-view+json": {
              "model_id": "12140ac5a7934691bf5913d2f2de2e54",
              "version_minor": 0,
              "version_major": 2
            },
            "text/plain": [
              "HBox(children=(FloatProgress(value=0.0, description='Downloading', max=433.0, style=ProgressStyle(description_…"
            ]
          },
          "metadata": {
            "tags": []
          }
        },
        {
          "output_type": "stream",
          "text": [
            "\n"
          ],
          "name": "stdout"
        },
        {
          "output_type": "display_data",
          "data": {
            "application/vnd.jupyter.widget-view+json": {
              "model_id": "0ddf1c949bd64afc9e18d7acb00d2679",
              "version_minor": 0,
              "version_major": 2
            },
            "text/plain": [
              "HBox(children=(FloatProgress(value=0.0, description='Downloading', max=445021143.0, style=ProgressStyle(descri…"
            ]
          },
          "metadata": {
            "tags": []
          }
        },
        {
          "output_type": "stream",
          "text": [
            "\n"
          ],
          "name": "stdout"
        },
        {
          "output_type": "stream",
          "text": [
            "Some weights of the model checkpoint at cl-tohoku/bert-base-japanese-whole-word-masking were not used when initializing BertForMaskedLM: ['cls.seq_relationship.weight', 'cls.seq_relationship.bias']\n",
            "- This IS expected if you are initializing BertForMaskedLM from the checkpoint of a model trained on another task or with another architecture (e.g. initializing a BertForSequenceClassification model from a BertForPretraining model).\n",
            "- This IS NOT expected if you are initializing BertForMaskedLM from the checkpoint of a model that you expect to be exactly identical (initializing a BertForSequenceClassification model from a BertForSequenceClassification model).\n"
          ],
          "name": "stderr"
        }
      ]
    },
    {
      "cell_type": "code",
      "metadata": {
        "id": "eLAY5fyB7URm",
        "outputId": "8ea0948a-5ec7-44ba-c906-31f0c8f7b257",
        "colab": {
          "base_uri": "https://localhost:8080/",
          "height": 165
        }
      },
      "source": [
        "# An Example of Masked Language Modeling.\n",
        "result = prediction_masked_sentence(text, tokenizer, model)"
      ],
      "execution_count": 87,
      "outputs": [
        {
          "output_type": "stream",
          "text": [
            "[CLS] 慢性 [UNK] で は , 糖尿 病 性 ケ ##ト ##アシ ##ドー ##シス ( D ##KA ) の 合併 は 比較的 稀 で ある . [SEP]\n",
            "[CLS] 慢性 [UNK] で は , 糖尿 [MASK] 性 ケ ##ト ##アシ ##ドー ##シス ( D ##KA ) の 合併 は 比較的 稀 で ある . [SEP]\n",
            " 97.4 % [CLS] 慢性 [UNK] で は , 糖尿 【病】 性 ケ ##ト ##アシ ##ドー ##シス ( D ##KA ) の 合併 は 比較的 稀 で ある . [SEP]\n",
            "  0.7 % [CLS] 慢性 [UNK] で は , 糖尿 【様】 性 ケ ##ト ##アシ ##ドー ##シス ( D ##KA ) の 合併 は 比較的 稀 で ある . [SEP]\n",
            "  0.5 % [CLS] 慢性 [UNK] で は , 糖尿 【酸】 性 ケ ##ト ##アシ ##ドー ##シス ( D ##KA ) の 合併 は 比較的 稀 で ある . [SEP]\n",
            "  0.3 % [CLS] 慢性 [UNK] で は , 糖尿 【質】 性 ケ ##ト ##アシ ##ドー ##シス ( D ##KA ) の 合併 は 比較的 稀 で ある . [SEP]\n",
            "  0.2 % [CLS] 慢性 [UNK] で は , 糖尿 【床】 性 ケ ##ト ##アシ ##ドー ##シス ( D ##KA ) の 合併 は 比較的 稀 で ある . [SEP]\n"
          ],
          "name": "stdout"
        }
      ]
    },
    {
      "cell_type": "markdown",
      "metadata": {
        "id": "YJhLA7co4nxO"
      },
      "source": [
        "## medBERTjp - SentencePiece\n",
        "For medical sentences."
      ]
    },
    {
      "cell_type": "code",
      "metadata": {
        "id": "lBw2rYlN3qdY"
      },
      "source": [
        "%%bash\n",
        "wget https://github.com/ou-medinfo/medbertjp/releases/download/v0.1-sp/medBERTjp_L12_H768_A12_sentencepiece.zip\n",
        "unzip ./medBERTjp_L12_H768_A12_sentencepiece.zip"
      ],
      "execution_count": null,
      "outputs": []
    },
    {
      "cell_type": "code",
      "metadata": {
        "id": "NxHnN8eG3YSY",
        "outputId": "c79ff3d4-9b79-4aa4-eee6-d372d999b8d7",
        "colab": {
          "base_uri": "https://localhost:8080/",
          "height": 128
        }
      },
      "source": [
        "model_path = PathToBertJpSentencepiece\n",
        "tokenizer = BertJapaneseTokenizer.from_pretrained(model_path,\n",
        "                                                  word_tokenizer_type='sp',\n",
        "                                                 )\n",
        "model = BertForMaskedLM.from_pretrained(model_path)"
      ],
      "execution_count": 89,
      "outputs": [
        {
          "output_type": "stream",
          "text": [
            "medBERTjp_L12_H768_A12_sentencepiece/vocab.model\n",
            "Loaded a trained SentencePiece model.\n"
          ],
          "name": "stdout"
        },
        {
          "output_type": "stream",
          "text": [
            "Some weights of the model checkpoint at ./medBERTjp_L12_H768_A12_sentencepiece were not used when initializing BertForMaskedLM: ['cls.seq_relationship.weight', 'cls.seq_relationship.bias']\n",
            "- This IS expected if you are initializing BertForMaskedLM from the checkpoint of a model trained on another task or with another architecture (e.g. initializing a BertForSequenceClassification model from a BertForPretraining model).\n",
            "- This IS NOT expected if you are initializing BertForMaskedLM from the checkpoint of a model that you expect to be exactly identical (initializing a BertForSequenceClassification model from a BertForSequenceClassification model).\n"
          ],
          "name": "stderr"
        }
      ]
    },
    {
      "cell_type": "code",
      "metadata": {
        "id": "aWYZHpmE4Uj6",
        "outputId": "8903b43a-8ce0-4fe5-e77c-9102725578e4",
        "colab": {
          "base_uri": "https://localhost:8080/",
          "height": 145
        }
      },
      "source": [
        "# An Example of Masked Language Modeling.\n",
        "result = prediction_masked_sentence(text, tokenizer, model)"
      ],
      "execution_count": 121,
      "outputs": [
        {
          "output_type": "stream",
          "text": [
            "[CLS] ▁ 慢性膵炎 では , 糖尿病性ケトアシドーシス ( D KA ) の合併 は比較的 稀である . [SEP]\n",
            "[CLS] ▁ 慢性膵炎 では , [MASK] ( D KA ) の合併 は比較的 稀である . [SEP]\n",
            " 19.1 % [CLS] ▁ 慢性膵炎 では , 【糖尿病】 ( D KA ) の合併 は比較的 稀である . [SEP]\n",
            " 18.9 % [CLS] ▁ 慢性膵炎 では , 【急性膵炎】 ( D KA ) の合併 は比較的 稀である . [SEP]\n",
            " 12.0 % [CLS] ▁ 慢性膵炎 では , 【糖尿病性ケトアシドーシス】 ( D KA ) の合併 は比較的 稀である . [SEP]\n",
            "  7.4 % [CLS] ▁ 慢性膵炎 では , 【膵癌】 ( D KA ) の合併 は比較的 稀である . [SEP]\n",
            "  2.7 % [CLS] ▁ 慢性膵炎 では , 【Sjögren】 ( D KA ) の合併 は比較的 稀である . [SEP]\n"
          ],
          "name": "stdout"
        }
      ]
    },
    {
      "cell_type": "markdown",
      "metadata": {
        "id": "V-kJnXlO72Wb"
      },
      "source": [
        "## medBERTjp - MeCab with IPAdic\n",
        "For medical sentences."
      ]
    },
    {
      "cell_type": "code",
      "metadata": {
        "id": "-m4luEY672Wg"
      },
      "source": [
        "%%bash\n",
        "wget https://github.com/ou-medinfo/medbertjp/releases/download/v0.1-mi/medBERTjp_L12_H768_A12_WWM_mecab-ipadic.zip\n",
        "unzip ./medBERTjp_L12_H768_A12_WWM_mecab-ipadic.zip"
      ],
      "execution_count": null,
      "outputs": []
    },
    {
      "cell_type": "code",
      "metadata": {
        "id": "T_FDAsqM72Wu",
        "outputId": "321485a8-3400-4481-ccd0-622f8d496ec8",
        "colab": {
          "base_uri": "https://localhost:8080/",
          "height": 92
        }
      },
      "source": [
        "model_path = PathToBertJpMecabIpadic\n",
        "tokenizer = BertJapaneseTokenizer.from_pretrained(model_path, \n",
        "                                                 mecab_kwargs={\n",
        "                                                     \"mecab_dic\": 'ipadic',\n",
        "                                                 })\n",
        "model = BertForMaskedLM.from_pretrained(model_path)"
      ],
      "execution_count": 123,
      "outputs": [
        {
          "output_type": "stream",
          "text": [
            "Some weights of the model checkpoint at ./medBERTjp_L12_H768_A12_WWM_mecab-ipadic were not used when initializing BertForMaskedLM: ['cls.seq_relationship.weight', 'cls.seq_relationship.bias']\n",
            "- This IS expected if you are initializing BertForMaskedLM from the checkpoint of a model trained on another task or with another architecture (e.g. initializing a BertForSequenceClassification model from a BertForPretraining model).\n",
            "- This IS NOT expected if you are initializing BertForMaskedLM from the checkpoint of a model that you expect to be exactly identical (initializing a BertForSequenceClassification model from a BertForSequenceClassification model).\n"
          ],
          "name": "stderr"
        }
      ]
    },
    {
      "cell_type": "code",
      "metadata": {
        "id": "o8NGT_K572W3",
        "outputId": "c9083c18-a18b-4fb3-8e2d-14cc5059d7a4",
        "colab": {
          "base_uri": "https://localhost:8080/",
          "height": 165
        }
      },
      "source": [
        "# An Example of Masked Language Modeling.\n",
        "result = prediction_masked_sentence(text, tokenizer, model)"
      ],
      "execution_count": 124,
      "outputs": [
        {
          "output_type": "stream",
          "text": [
            "[CLS] 慢性 膵炎 で は , 糖尿 病 性 ケトアシドーシス ( D ##KA ) の 合併 は 比較的 稀 で ある . [SEP]\n",
            "[CLS] 慢性 膵炎 で は , 糖尿 [MASK] 性 ケトアシドーシス ( D ##KA ) の 合併 は 比較的 稀 で ある . [SEP]\n",
            "100.0 % [CLS] 慢性 膵炎 で は , 糖尿 【病】 性 ケトアシドーシス ( D ##KA ) の 合併 は 比較的 稀 で ある . [SEP]\n",
            "  0.0 % [CLS] 慢性 膵炎 で は , 糖尿 【アルコール】 性 ケトアシドーシス ( D ##KA ) の 合併 は 比較的 稀 で ある . [SEP]\n",
            "  0.0 % [CLS] 慢性 膵炎 で は , 糖尿 【原】 性 ケトアシドーシス ( D ##KA ) の 合併 は 比較的 稀 で ある . [SEP]\n",
            "  0.0 % [CLS] 慢性 膵炎 で は , 糖尿 【質】 性 ケトアシドーシス ( D ##KA ) の 合併 は 比較的 稀 で ある . [SEP]\n",
            "  0.0 % [CLS] 慢性 膵炎 で は , 糖尿 【脈】 性 ケトアシドーシス ( D ##KA ) の 合併 は 比較的 稀 で ある . [SEP]\n"
          ],
          "name": "stdout"
        }
      ]
    },
    {
      "cell_type": "markdown",
      "metadata": {
        "id": "mp587HAw85ar"
      },
      "source": [
        "## medBERTjp - MeCab with Unidic\n",
        "is not available now, but will be uploaded soon.\n"
      ]
    },
    {
      "cell_type": "code",
      "metadata": {
        "id": "RJl0m16w-6rA"
      },
      "source": [
        "# model_path = PathToBertJpMecabUnidic\n",
        "# tokenizer = BertJapaneseTokenizer.from_pretrained(model_path, \n",
        "#                                                  mecab_kwargs={\n",
        "#                                                      \"mecab_dic\": 'unidic',\n",
        "#                                                  })\n",
        "# model = BertForMaskedLM.from_pretrained(model_path)"
      ],
      "execution_count": null,
      "outputs": []
    },
    {
      "cell_type": "code",
      "metadata": {
        "id": "Iq-mC5Zk-6rR"
      },
      "source": [
        "# # An Example of Masked Language Modeling.\n",
        "# result = prediction_masked_sentence(text, tokenizer, model)"
      ],
      "execution_count": null,
      "outputs": []
    }
  ]
}