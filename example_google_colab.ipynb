{
  "nbformat": 4,
  "nbformat_minor": 0,
  "metadata": {
    "colab": {
      "name": "example_google_colab.ipynb",
      "provenance": [],
      "collapsed_sections": [],
      "toc_visible": true
    },
    "kernelspec": {
      "name": "python3",
      "display_name": "Python 3"
    },
    "widgets": {
      "application/vnd.jupyter.widget-state+json": {
        "e936f51c621647019053f062252092a6": {
          "model_module": "@jupyter-widgets/controls",
          "model_name": "HBoxModel",
          "state": {
            "_view_name": "HBoxView",
            "_dom_classes": [],
            "_model_name": "HBoxModel",
            "_view_module": "@jupyter-widgets/controls",
            "_model_module_version": "1.5.0",
            "_view_count": null,
            "_view_module_version": "1.5.0",
            "box_style": "",
            "layout": "IPY_MODEL_13bc26ddf90d470d969080c6b788d570",
            "_model_module": "@jupyter-widgets/controls",
            "children": [
              "IPY_MODEL_18f5cc4d6f9f4231b66bf178130616db",
              "IPY_MODEL_c28d0b4465644dcd9e3526eb0d44280a"
            ]
          }
        },
        "13bc26ddf90d470d969080c6b788d570": {
          "model_module": "@jupyter-widgets/base",
          "model_name": "LayoutModel",
          "state": {
            "_view_name": "LayoutView",
            "grid_template_rows": null,
            "right": null,
            "justify_content": null,
            "_view_module": "@jupyter-widgets/base",
            "overflow": null,
            "_model_module_version": "1.2.0",
            "_view_count": null,
            "flex_flow": null,
            "width": null,
            "min_width": null,
            "border": null,
            "align_items": null,
            "bottom": null,
            "_model_module": "@jupyter-widgets/base",
            "top": null,
            "grid_column": null,
            "overflow_y": null,
            "overflow_x": null,
            "grid_auto_flow": null,
            "grid_area": null,
            "grid_template_columns": null,
            "flex": null,
            "_model_name": "LayoutModel",
            "justify_items": null,
            "grid_row": null,
            "max_height": null,
            "align_content": null,
            "visibility": null,
            "align_self": null,
            "height": null,
            "min_height": null,
            "padding": null,
            "grid_auto_rows": null,
            "grid_gap": null,
            "max_width": null,
            "order": null,
            "_view_module_version": "1.2.0",
            "grid_template_areas": null,
            "object_position": null,
            "object_fit": null,
            "grid_auto_columns": null,
            "margin": null,
            "display": null,
            "left": null
          }
        },
        "18f5cc4d6f9f4231b66bf178130616db": {
          "model_module": "@jupyter-widgets/controls",
          "model_name": "FloatProgressModel",
          "state": {
            "_view_name": "ProgressView",
            "style": "IPY_MODEL_8f78b7c7d83844d0a9db484236630967",
            "_dom_classes": [],
            "description": "Downloading: 100%",
            "_model_name": "FloatProgressModel",
            "bar_style": "success",
            "max": 257706,
            "_view_module": "@jupyter-widgets/controls",
            "_model_module_version": "1.5.0",
            "value": 257706,
            "_view_count": null,
            "_view_module_version": "1.5.0",
            "orientation": "horizontal",
            "min": 0,
            "description_tooltip": null,
            "_model_module": "@jupyter-widgets/controls",
            "layout": "IPY_MODEL_5d4414a6694c455e89e53c0a5d20e64f"
          }
        },
        "c28d0b4465644dcd9e3526eb0d44280a": {
          "model_module": "@jupyter-widgets/controls",
          "model_name": "HTMLModel",
          "state": {
            "_view_name": "HTMLView",
            "style": "IPY_MODEL_55e9058003a84b02a3281a9e090385da",
            "_dom_classes": [],
            "description": "",
            "_model_name": "HTMLModel",
            "placeholder": "​",
            "_view_module": "@jupyter-widgets/controls",
            "_model_module_version": "1.5.0",
            "value": " 258k/258k [00:00&lt;00:00, 895kB/s]",
            "_view_count": null,
            "_view_module_version": "1.5.0",
            "description_tooltip": null,
            "_model_module": "@jupyter-widgets/controls",
            "layout": "IPY_MODEL_ce27860a2bd342a2b39d929e9d4fc8da"
          }
        },
        "8f78b7c7d83844d0a9db484236630967": {
          "model_module": "@jupyter-widgets/controls",
          "model_name": "ProgressStyleModel",
          "state": {
            "_view_name": "StyleView",
            "_model_name": "ProgressStyleModel",
            "description_width": "initial",
            "_view_module": "@jupyter-widgets/base",
            "_model_module_version": "1.5.0",
            "_view_count": null,
            "_view_module_version": "1.2.0",
            "bar_color": null,
            "_model_module": "@jupyter-widgets/controls"
          }
        },
        "5d4414a6694c455e89e53c0a5d20e64f": {
          "model_module": "@jupyter-widgets/base",
          "model_name": "LayoutModel",
          "state": {
            "_view_name": "LayoutView",
            "grid_template_rows": null,
            "right": null,
            "justify_content": null,
            "_view_module": "@jupyter-widgets/base",
            "overflow": null,
            "_model_module_version": "1.2.0",
            "_view_count": null,
            "flex_flow": null,
            "width": null,
            "min_width": null,
            "border": null,
            "align_items": null,
            "bottom": null,
            "_model_module": "@jupyter-widgets/base",
            "top": null,
            "grid_column": null,
            "overflow_y": null,
            "overflow_x": null,
            "grid_auto_flow": null,
            "grid_area": null,
            "grid_template_columns": null,
            "flex": null,
            "_model_name": "LayoutModel",
            "justify_items": null,
            "grid_row": null,
            "max_height": null,
            "align_content": null,
            "visibility": null,
            "align_self": null,
            "height": null,
            "min_height": null,
            "padding": null,
            "grid_auto_rows": null,
            "grid_gap": null,
            "max_width": null,
            "order": null,
            "_view_module_version": "1.2.0",
            "grid_template_areas": null,
            "object_position": null,
            "object_fit": null,
            "grid_auto_columns": null,
            "margin": null,
            "display": null,
            "left": null
          }
        },
        "55e9058003a84b02a3281a9e090385da": {
          "model_module": "@jupyter-widgets/controls",
          "model_name": "DescriptionStyleModel",
          "state": {
            "_view_name": "StyleView",
            "_model_name": "DescriptionStyleModel",
            "description_width": "",
            "_view_module": "@jupyter-widgets/base",
            "_model_module_version": "1.5.0",
            "_view_count": null,
            "_view_module_version": "1.2.0",
            "_model_module": "@jupyter-widgets/controls"
          }
        },
        "ce27860a2bd342a2b39d929e9d4fc8da": {
          "model_module": "@jupyter-widgets/base",
          "model_name": "LayoutModel",
          "state": {
            "_view_name": "LayoutView",
            "grid_template_rows": null,
            "right": null,
            "justify_content": null,
            "_view_module": "@jupyter-widgets/base",
            "overflow": null,
            "_model_module_version": "1.2.0",
            "_view_count": null,
            "flex_flow": null,
            "width": null,
            "min_width": null,
            "border": null,
            "align_items": null,
            "bottom": null,
            "_model_module": "@jupyter-widgets/base",
            "top": null,
            "grid_column": null,
            "overflow_y": null,
            "overflow_x": null,
            "grid_auto_flow": null,
            "grid_area": null,
            "grid_template_columns": null,
            "flex": null,
            "_model_name": "LayoutModel",
            "justify_items": null,
            "grid_row": null,
            "max_height": null,
            "align_content": null,
            "visibility": null,
            "align_self": null,
            "height": null,
            "min_height": null,
            "padding": null,
            "grid_auto_rows": null,
            "grid_gap": null,
            "max_width": null,
            "order": null,
            "_view_module_version": "1.2.0",
            "grid_template_areas": null,
            "object_position": null,
            "object_fit": null,
            "grid_auto_columns": null,
            "margin": null,
            "display": null,
            "left": null
          }
        },
        "53506bbc511249f9a03eab66043bc514": {
          "model_module": "@jupyter-widgets/controls",
          "model_name": "HBoxModel",
          "state": {
            "_view_name": "HBoxView",
            "_dom_classes": [],
            "_model_name": "HBoxModel",
            "_view_module": "@jupyter-widgets/controls",
            "_model_module_version": "1.5.0",
            "_view_count": null,
            "_view_module_version": "1.5.0",
            "box_style": "",
            "layout": "IPY_MODEL_25092986714c491f9ff5e59ed98e5da0",
            "_model_module": "@jupyter-widgets/controls",
            "children": [
              "IPY_MODEL_a92df6b0af0a47259b05bb6cf4556615",
              "IPY_MODEL_1c725bc2db9044eaa49290c78515470d"
            ]
          }
        },
        "25092986714c491f9ff5e59ed98e5da0": {
          "model_module": "@jupyter-widgets/base",
          "model_name": "LayoutModel",
          "state": {
            "_view_name": "LayoutView",
            "grid_template_rows": null,
            "right": null,
            "justify_content": null,
            "_view_module": "@jupyter-widgets/base",
            "overflow": null,
            "_model_module_version": "1.2.0",
            "_view_count": null,
            "flex_flow": null,
            "width": null,
            "min_width": null,
            "border": null,
            "align_items": null,
            "bottom": null,
            "_model_module": "@jupyter-widgets/base",
            "top": null,
            "grid_column": null,
            "overflow_y": null,
            "overflow_x": null,
            "grid_auto_flow": null,
            "grid_area": null,
            "grid_template_columns": null,
            "flex": null,
            "_model_name": "LayoutModel",
            "justify_items": null,
            "grid_row": null,
            "max_height": null,
            "align_content": null,
            "visibility": null,
            "align_self": null,
            "height": null,
            "min_height": null,
            "padding": null,
            "grid_auto_rows": null,
            "grid_gap": null,
            "max_width": null,
            "order": null,
            "_view_module_version": "1.2.0",
            "grid_template_areas": null,
            "object_position": null,
            "object_fit": null,
            "grid_auto_columns": null,
            "margin": null,
            "display": null,
            "left": null
          }
        },
        "a92df6b0af0a47259b05bb6cf4556615": {
          "model_module": "@jupyter-widgets/controls",
          "model_name": "FloatProgressModel",
          "state": {
            "_view_name": "ProgressView",
            "style": "IPY_MODEL_48080bf5c9fd4f77b238c8feb72678d1",
            "_dom_classes": [],
            "description": "Downloading: 100%",
            "_model_name": "FloatProgressModel",
            "bar_style": "success",
            "max": 479,
            "_view_module": "@jupyter-widgets/controls",
            "_model_module_version": "1.5.0",
            "value": 479,
            "_view_count": null,
            "_view_module_version": "1.5.0",
            "orientation": "horizontal",
            "min": 0,
            "description_tooltip": null,
            "_model_module": "@jupyter-widgets/controls",
            "layout": "IPY_MODEL_d5ee81cfee304619822697d6673a58b1"
          }
        },
        "1c725bc2db9044eaa49290c78515470d": {
          "model_module": "@jupyter-widgets/controls",
          "model_name": "HTMLModel",
          "state": {
            "_view_name": "HTMLView",
            "style": "IPY_MODEL_46364bb7b0924cb09995fe688340037f",
            "_dom_classes": [],
            "description": "",
            "_model_name": "HTMLModel",
            "placeholder": "​",
            "_view_module": "@jupyter-widgets/controls",
            "_model_module_version": "1.5.0",
            "value": " 479/479 [00:00&lt;00:00, 1.51kB/s]",
            "_view_count": null,
            "_view_module_version": "1.5.0",
            "description_tooltip": null,
            "_model_module": "@jupyter-widgets/controls",
            "layout": "IPY_MODEL_1157d70e31f04d678884bc6e3c2f7140"
          }
        },
        "48080bf5c9fd4f77b238c8feb72678d1": {
          "model_module": "@jupyter-widgets/controls",
          "model_name": "ProgressStyleModel",
          "state": {
            "_view_name": "StyleView",
            "_model_name": "ProgressStyleModel",
            "description_width": "initial",
            "_view_module": "@jupyter-widgets/base",
            "_model_module_version": "1.5.0",
            "_view_count": null,
            "_view_module_version": "1.2.0",
            "bar_color": null,
            "_model_module": "@jupyter-widgets/controls"
          }
        },
        "d5ee81cfee304619822697d6673a58b1": {
          "model_module": "@jupyter-widgets/base",
          "model_name": "LayoutModel",
          "state": {
            "_view_name": "LayoutView",
            "grid_template_rows": null,
            "right": null,
            "justify_content": null,
            "_view_module": "@jupyter-widgets/base",
            "overflow": null,
            "_model_module_version": "1.2.0",
            "_view_count": null,
            "flex_flow": null,
            "width": null,
            "min_width": null,
            "border": null,
            "align_items": null,
            "bottom": null,
            "_model_module": "@jupyter-widgets/base",
            "top": null,
            "grid_column": null,
            "overflow_y": null,
            "overflow_x": null,
            "grid_auto_flow": null,
            "grid_area": null,
            "grid_template_columns": null,
            "flex": null,
            "_model_name": "LayoutModel",
            "justify_items": null,
            "grid_row": null,
            "max_height": null,
            "align_content": null,
            "visibility": null,
            "align_self": null,
            "height": null,
            "min_height": null,
            "padding": null,
            "grid_auto_rows": null,
            "grid_gap": null,
            "max_width": null,
            "order": null,
            "_view_module_version": "1.2.0",
            "grid_template_areas": null,
            "object_position": null,
            "object_fit": null,
            "grid_auto_columns": null,
            "margin": null,
            "display": null,
            "left": null
          }
        },
        "46364bb7b0924cb09995fe688340037f": {
          "model_module": "@jupyter-widgets/controls",
          "model_name": "DescriptionStyleModel",
          "state": {
            "_view_name": "StyleView",
            "_model_name": "DescriptionStyleModel",
            "description_width": "",
            "_view_module": "@jupyter-widgets/base",
            "_model_module_version": "1.5.0",
            "_view_count": null,
            "_view_module_version": "1.2.0",
            "_model_module": "@jupyter-widgets/controls"
          }
        },
        "1157d70e31f04d678884bc6e3c2f7140": {
          "model_module": "@jupyter-widgets/base",
          "model_name": "LayoutModel",
          "state": {
            "_view_name": "LayoutView",
            "grid_template_rows": null,
            "right": null,
            "justify_content": null,
            "_view_module": "@jupyter-widgets/base",
            "overflow": null,
            "_model_module_version": "1.2.0",
            "_view_count": null,
            "flex_flow": null,
            "width": null,
            "min_width": null,
            "border": null,
            "align_items": null,
            "bottom": null,
            "_model_module": "@jupyter-widgets/base",
            "top": null,
            "grid_column": null,
            "overflow_y": null,
            "overflow_x": null,
            "grid_auto_flow": null,
            "grid_area": null,
            "grid_template_columns": null,
            "flex": null,
            "_model_name": "LayoutModel",
            "justify_items": null,
            "grid_row": null,
            "max_height": null,
            "align_content": null,
            "visibility": null,
            "align_self": null,
            "height": null,
            "min_height": null,
            "padding": null,
            "grid_auto_rows": null,
            "grid_gap": null,
            "max_width": null,
            "order": null,
            "_view_module_version": "1.2.0",
            "grid_template_areas": null,
            "object_position": null,
            "object_fit": null,
            "grid_auto_columns": null,
            "margin": null,
            "display": null,
            "left": null
          }
        },
        "192d50f7750b4a1e89322a8ff6c2370f": {
          "model_module": "@jupyter-widgets/controls",
          "model_name": "HBoxModel",
          "state": {
            "_view_name": "HBoxView",
            "_dom_classes": [],
            "_model_name": "HBoxModel",
            "_view_module": "@jupyter-widgets/controls",
            "_model_module_version": "1.5.0",
            "_view_count": null,
            "_view_module_version": "1.5.0",
            "box_style": "",
            "layout": "IPY_MODEL_a67cfd62819548a78e4263278f7fd790",
            "_model_module": "@jupyter-widgets/controls",
            "children": [
              "IPY_MODEL_525fcbdae3e345baae0612966d24f968",
              "IPY_MODEL_87401bde5ff641469b719f6e6ef1bc27"
            ]
          }
        },
        "a67cfd62819548a78e4263278f7fd790": {
          "model_module": "@jupyter-widgets/base",
          "model_name": "LayoutModel",
          "state": {
            "_view_name": "LayoutView",
            "grid_template_rows": null,
            "right": null,
            "justify_content": null,
            "_view_module": "@jupyter-widgets/base",
            "overflow": null,
            "_model_module_version": "1.2.0",
            "_view_count": null,
            "flex_flow": null,
            "width": null,
            "min_width": null,
            "border": null,
            "align_items": null,
            "bottom": null,
            "_model_module": "@jupyter-widgets/base",
            "top": null,
            "grid_column": null,
            "overflow_y": null,
            "overflow_x": null,
            "grid_auto_flow": null,
            "grid_area": null,
            "grid_template_columns": null,
            "flex": null,
            "_model_name": "LayoutModel",
            "justify_items": null,
            "grid_row": null,
            "max_height": null,
            "align_content": null,
            "visibility": null,
            "align_self": null,
            "height": null,
            "min_height": null,
            "padding": null,
            "grid_auto_rows": null,
            "grid_gap": null,
            "max_width": null,
            "order": null,
            "_view_module_version": "1.2.0",
            "grid_template_areas": null,
            "object_position": null,
            "object_fit": null,
            "grid_auto_columns": null,
            "margin": null,
            "display": null,
            "left": null
          }
        },
        "525fcbdae3e345baae0612966d24f968": {
          "model_module": "@jupyter-widgets/controls",
          "model_name": "FloatProgressModel",
          "state": {
            "_view_name": "ProgressView",
            "style": "IPY_MODEL_cac7a97189874f61b524a5de4a8621e9",
            "_dom_classes": [],
            "description": "Downloading: 100%",
            "_model_name": "FloatProgressModel",
            "bar_style": "success",
            "max": 445021143,
            "_view_module": "@jupyter-widgets/controls",
            "_model_module_version": "1.5.0",
            "value": 445021143,
            "_view_count": null,
            "_view_module_version": "1.5.0",
            "orientation": "horizontal",
            "min": 0,
            "description_tooltip": null,
            "_model_module": "@jupyter-widgets/controls",
            "layout": "IPY_MODEL_67e23e02b59d4947ac99ba51acf305bd"
          }
        },
        "87401bde5ff641469b719f6e6ef1bc27": {
          "model_module": "@jupyter-widgets/controls",
          "model_name": "HTMLModel",
          "state": {
            "_view_name": "HTMLView",
            "style": "IPY_MODEL_cee903250d864e0398462dd91c3d2b1b",
            "_dom_classes": [],
            "description": "",
            "_model_name": "HTMLModel",
            "placeholder": "​",
            "_view_module": "@jupyter-widgets/controls",
            "_model_module_version": "1.5.0",
            "value": " 445M/445M [00:09&lt;00:00, 46.0MB/s]",
            "_view_count": null,
            "_view_module_version": "1.5.0",
            "description_tooltip": null,
            "_model_module": "@jupyter-widgets/controls",
            "layout": "IPY_MODEL_b807bdcd838b46dfa454eb454501def7"
          }
        },
        "cac7a97189874f61b524a5de4a8621e9": {
          "model_module": "@jupyter-widgets/controls",
          "model_name": "ProgressStyleModel",
          "state": {
            "_view_name": "StyleView",
            "_model_name": "ProgressStyleModel",
            "description_width": "initial",
            "_view_module": "@jupyter-widgets/base",
            "_model_module_version": "1.5.0",
            "_view_count": null,
            "_view_module_version": "1.2.0",
            "bar_color": null,
            "_model_module": "@jupyter-widgets/controls"
          }
        },
        "67e23e02b59d4947ac99ba51acf305bd": {
          "model_module": "@jupyter-widgets/base",
          "model_name": "LayoutModel",
          "state": {
            "_view_name": "LayoutView",
            "grid_template_rows": null,
            "right": null,
            "justify_content": null,
            "_view_module": "@jupyter-widgets/base",
            "overflow": null,
            "_model_module_version": "1.2.0",
            "_view_count": null,
            "flex_flow": null,
            "width": null,
            "min_width": null,
            "border": null,
            "align_items": null,
            "bottom": null,
            "_model_module": "@jupyter-widgets/base",
            "top": null,
            "grid_column": null,
            "overflow_y": null,
            "overflow_x": null,
            "grid_auto_flow": null,
            "grid_area": null,
            "grid_template_columns": null,
            "flex": null,
            "_model_name": "LayoutModel",
            "justify_items": null,
            "grid_row": null,
            "max_height": null,
            "align_content": null,
            "visibility": null,
            "align_self": null,
            "height": null,
            "min_height": null,
            "padding": null,
            "grid_auto_rows": null,
            "grid_gap": null,
            "max_width": null,
            "order": null,
            "_view_module_version": "1.2.0",
            "grid_template_areas": null,
            "object_position": null,
            "object_fit": null,
            "grid_auto_columns": null,
            "margin": null,
            "display": null,
            "left": null
          }
        },
        "cee903250d864e0398462dd91c3d2b1b": {
          "model_module": "@jupyter-widgets/controls",
          "model_name": "DescriptionStyleModel",
          "state": {
            "_view_name": "StyleView",
            "_model_name": "DescriptionStyleModel",
            "description_width": "",
            "_view_module": "@jupyter-widgets/base",
            "_model_module_version": "1.5.0",
            "_view_count": null,
            "_view_module_version": "1.2.0",
            "_model_module": "@jupyter-widgets/controls"
          }
        },
        "b807bdcd838b46dfa454eb454501def7": {
          "model_module": "@jupyter-widgets/base",
          "model_name": "LayoutModel",
          "state": {
            "_view_name": "LayoutView",
            "grid_template_rows": null,
            "right": null,
            "justify_content": null,
            "_view_module": "@jupyter-widgets/base",
            "overflow": null,
            "_model_module_version": "1.2.0",
            "_view_count": null,
            "flex_flow": null,
            "width": null,
            "min_width": null,
            "border": null,
            "align_items": null,
            "bottom": null,
            "_model_module": "@jupyter-widgets/base",
            "top": null,
            "grid_column": null,
            "overflow_y": null,
            "overflow_x": null,
            "grid_auto_flow": null,
            "grid_area": null,
            "grid_template_columns": null,
            "flex": null,
            "_model_name": "LayoutModel",
            "justify_items": null,
            "grid_row": null,
            "max_height": null,
            "align_content": null,
            "visibility": null,
            "align_self": null,
            "height": null,
            "min_height": null,
            "padding": null,
            "grid_auto_rows": null,
            "grid_gap": null,
            "max_width": null,
            "order": null,
            "_view_module_version": "1.2.0",
            "grid_template_areas": null,
            "object_position": null,
            "object_fit": null,
            "grid_auto_columns": null,
            "margin": null,
            "display": null,
            "left": null
          }
        }
      }
    }
  },
  "cells": [
    {
      "cell_type": "markdown",
      "metadata": {
        "id": "wDXQ1XUf5Ojv"
      },
      "source": [
        "# Sample Code for Google Colab"
      ]
    },
    {
      "cell_type": "markdown",
      "metadata": {
        "id": "T6hYmgBb5d_5"
      },
      "source": [
        "## Setting\n",
        "install modules  \n",
        "import modules  \n",
        "define function and paths.  "
      ]
    },
    {
      "cell_type": "code",
      "metadata": {
        "id": "9uO6XT7C9SS-",
        "colab": {
          "base_uri": "https://localhost:8080/"
        },
        "outputId": "b4033127-f0ce-4f37-b373-c80d30b1711f"
      },
      "source": [
        "%%bash\n",
        "# clone our repository.\n",
        "git clone https://github.com/ou-medinfo/medbertjp.git\n",
        "\n",
        "# install transformers\n",
        "pip install transformers\n",
        "\n",
        "# install a Japanese tokenizer and morphological analysis tools.\n",
        "# apt-get install mecab    # included in fugashi\n",
        "pip install fugashi ipadic unidic\n",
        "python -m unidic download"
      ],
      "execution_count": 1,
      "outputs": [
        {
          "output_type": "stream",
          "text": [
            "Collecting transformers\n",
            "  Downloading https://files.pythonhosted.org/packages/3a/83/e74092e7f24a08d751aa59b37a9fc572b2e4af3918cb66f7766c3affb1b4/transformers-3.5.1-py3-none-any.whl (1.3MB)\n",
            "Collecting sentencepiece==0.1.91\n",
            "  Downloading https://files.pythonhosted.org/packages/d4/a4/d0a884c4300004a78cca907a6ff9a5e9fe4f090f5d95ab341c53d28cbc58/sentencepiece-0.1.91-cp36-cp36m-manylinux1_x86_64.whl (1.1MB)\n",
            "Requirement already satisfied: numpy in /usr/local/lib/python3.6/dist-packages (from transformers) (1.18.5)\n",
            "Requirement already satisfied: dataclasses; python_version < \"3.7\" in /usr/local/lib/python3.6/dist-packages (from transformers) (0.7)\n",
            "Requirement already satisfied: packaging in /usr/local/lib/python3.6/dist-packages (from transformers) (20.4)\n",
            "Collecting sacremoses\n",
            "  Downloading https://files.pythonhosted.org/packages/7d/34/09d19aff26edcc8eb2a01bed8e98f13a1537005d31e95233fd48216eed10/sacremoses-0.0.43.tar.gz (883kB)\n",
            "Requirement already satisfied: regex!=2019.12.17 in /usr/local/lib/python3.6/dist-packages (from transformers) (2019.12.20)\n",
            "Collecting tokenizers==0.9.3\n",
            "  Downloading https://files.pythonhosted.org/packages/4c/34/b39eb9994bc3c999270b69c9eea40ecc6f0e97991dba28282b9fd32d44ee/tokenizers-0.9.3-cp36-cp36m-manylinux1_x86_64.whl (2.9MB)\n",
            "Requirement already satisfied: filelock in /usr/local/lib/python3.6/dist-packages (from transformers) (3.0.12)\n",
            "Requirement already satisfied: tqdm>=4.27 in /usr/local/lib/python3.6/dist-packages (from transformers) (4.41.1)\n",
            "Requirement already satisfied: protobuf in /usr/local/lib/python3.6/dist-packages (from transformers) (3.12.4)\n",
            "Requirement already satisfied: requests in /usr/local/lib/python3.6/dist-packages (from transformers) (2.23.0)\n",
            "Requirement already satisfied: six in /usr/local/lib/python3.6/dist-packages (from packaging->transformers) (1.15.0)\n",
            "Requirement already satisfied: pyparsing>=2.0.2 in /usr/local/lib/python3.6/dist-packages (from packaging->transformers) (2.4.7)\n",
            "Requirement already satisfied: click in /usr/local/lib/python3.6/dist-packages (from sacremoses->transformers) (7.1.2)\n",
            "Requirement already satisfied: joblib in /usr/local/lib/python3.6/dist-packages (from sacremoses->transformers) (0.17.0)\n",
            "Requirement already satisfied: setuptools in /usr/local/lib/python3.6/dist-packages (from protobuf->transformers) (50.3.2)\n",
            "Requirement already satisfied: chardet<4,>=3.0.2 in /usr/local/lib/python3.6/dist-packages (from requests->transformers) (3.0.4)\n",
            "Requirement already satisfied: urllib3!=1.25.0,!=1.25.1,<1.26,>=1.21.1 in /usr/local/lib/python3.6/dist-packages (from requests->transformers) (1.24.3)\n",
            "Requirement already satisfied: certifi>=2017.4.17 in /usr/local/lib/python3.6/dist-packages (from requests->transformers) (2020.6.20)\n",
            "Requirement already satisfied: idna<3,>=2.5 in /usr/local/lib/python3.6/dist-packages (from requests->transformers) (2.10)\n",
            "Building wheels for collected packages: sacremoses\n",
            "  Building wheel for sacremoses (setup.py): started\n",
            "  Building wheel for sacremoses (setup.py): finished with status 'done'\n",
            "  Created wheel for sacremoses: filename=sacremoses-0.0.43-cp36-none-any.whl size=893257 sha256=990f7444248426099579d7fc2e7b5ab650fa9625575a7bdcefe33dbfcd2ab028\n",
            "  Stored in directory: /root/.cache/pip/wheels/29/3c/fd/7ce5c3f0666dab31a50123635e6fb5e19ceb42ce38d4e58f45\n",
            "Successfully built sacremoses\n",
            "Installing collected packages: sentencepiece, sacremoses, tokenizers, transformers\n",
            "Successfully installed sacremoses-0.0.43 sentencepiece-0.1.91 tokenizers-0.9.3 transformers-3.5.1\n",
            "Collecting fugashi\n",
            "  Downloading https://files.pythonhosted.org/packages/31/0a/fb7946e8206709ff128c9eff0a4a6db679a6dd7082e034ad5bb35703f6bf/fugashi-1.0.5-cp36-cp36m-manylinux1_x86_64.whl (476kB)\n",
            "Collecting ipadic\n",
            "  Downloading https://files.pythonhosted.org/packages/e7/4e/c459f94d62a0bef89f866857bc51b9105aff236b83928618315b41a26b7b/ipadic-1.0.0.tar.gz (13.4MB)\n",
            "Collecting unidic\n",
            "  Downloading https://files.pythonhosted.org/packages/86/04/c18832fd9959a78fc60eeaa9e7fb37ef31a250e8645cc2897eb1f07939ee/unidic-1.0.3.tar.gz\n",
            "Requirement already satisfied: requests<3.0.0,>=2.22.0 in /usr/local/lib/python3.6/dist-packages (from unidic) (2.23.0)\n",
            "Requirement already satisfied: tqdm<5.0.0,>=4.41.1 in /usr/local/lib/python3.6/dist-packages (from unidic) (4.41.1)\n",
            "Requirement already satisfied: wasabi<1.0.0,>=0.6.0 in /usr/local/lib/python3.6/dist-packages (from unidic) (0.8.0)\n",
            "Requirement already satisfied: plac<2.0.0,>=1.1.3 in /usr/local/lib/python3.6/dist-packages (from unidic) (1.1.3)\n",
            "Requirement already satisfied: urllib3!=1.25.0,!=1.25.1,<1.26,>=1.21.1 in /usr/local/lib/python3.6/dist-packages (from requests<3.0.0,>=2.22.0->unidic) (1.24.3)\n",
            "Requirement already satisfied: certifi>=2017.4.17 in /usr/local/lib/python3.6/dist-packages (from requests<3.0.0,>=2.22.0->unidic) (2020.6.20)\n",
            "Requirement already satisfied: idna<3,>=2.5 in /usr/local/lib/python3.6/dist-packages (from requests<3.0.0,>=2.22.0->unidic) (2.10)\n",
            "Requirement already satisfied: chardet<4,>=3.0.2 in /usr/local/lib/python3.6/dist-packages (from requests<3.0.0,>=2.22.0->unidic) (3.0.4)\n",
            "Building wheels for collected packages: ipadic, unidic\n",
            "  Building wheel for ipadic (setup.py): started\n",
            "  Building wheel for ipadic (setup.py): finished with status 'done'\n",
            "  Created wheel for ipadic: filename=ipadic-1.0.0-cp36-none-any.whl size=13556725 sha256=03fa9bbc32bf3d3b3c924535416913fb511ef1f6c1259d561be1e1b6188a51bc\n",
            "  Stored in directory: /root/.cache/pip/wheels/ff/00/d1/0c094a0ce58a77199a0c5801f0ecf510c80f0ecbec27f07d2c\n",
            "  Building wheel for unidic (setup.py): started\n",
            "  Building wheel for unidic (setup.py): finished with status 'done'\n",
            "  Created wheel for unidic: filename=unidic-1.0.3-cp36-none-any.whl size=5498 sha256=a468e1a93cdefab660132f7860bef9aae970a3b42ba8b8248b5c59d65da9006c\n",
            "  Stored in directory: /root/.cache/pip/wheels/d3/26/e2/fb76c79fd14391eb994eab021c9129c24814125298e1e5b96a\n",
            "Successfully built ipadic unidic\n",
            "Installing collected packages: fugashi, ipadic, unidic\n",
            "Successfully installed fugashi-1.0.5 ipadic-1.0.0 unidic-1.0.3\n",
            "download url: https://cotonoha-dic.s3-ap-northeast-1.amazonaws.com/unidic.zip\n",
            "Dictionary version: 2.3.0+2020-10-08\n",
            "Finished download.\n"
          ],
          "name": "stdout"
        },
        {
          "output_type": "stream",
          "text": [
            "Cloning into 'medbertjp'...\n",
            "Downloading UniDic v2.3.0+2020-10-08...\n",
            "\runidic.zip: 0.00B [00:00, ?B/s]\runidic.zip:   0%|          | 8.19k/608M [00:00<11:29:03, 14.7kB/s]\runidic.zip:   0%|          | 57.3k/608M [00:00<8:13:32, 20.5kB/s] \runidic.zip:   0%|          | 262k/608M [00:00<5:48:03, 29.1kB/s] \runidic.zip:   0%|          | 1.11M/608M [00:01<4:03:57, 41.5kB/s]\runidic.zip:   1%|          | 4.51M/608M [00:01<2:49:58, 59.2kB/s]\runidic.zip:   2%|▏         | 9.42M/608M [00:01<1:58:04, 84.5kB/s]\runidic.zip:   2%|▏         | 13.6M/608M [00:01<1:22:12, 121kB/s] \runidic.zip:   3%|▎         | 18.6M/608M [00:01<57:06, 172kB/s]  \runidic.zip:   4%|▎         | 22.5M/608M [00:01<39:47, 245kB/s]\runidic.zip:   4%|▍         | 25.5M/608M [00:01<27:52, 348kB/s]\runidic.zip:   5%|▍         | 30.3M/608M [00:02<19:24, 496kB/s]\runidic.zip:   6%|▌         | 34.2M/608M [00:02<13:34, 705kB/s]\runidic.zip:   6%|▌         | 37.4M/608M [00:02<09:35, 992kB/s]\runidic.zip:   7%|▋         | 42.2M/608M [00:02<06:42, 1.41MB/s]\runidic.zip:   8%|▊         | 45.9M/608M [00:02<04:44, 1.97MB/s]\runidic.zip:   8%|▊         | 49.3M/608M [00:02<03:26, 2.71MB/s]\runidic.zip:   9%|▉         | 54.4M/608M [00:02<02:26, 3.79MB/s]\runidic.zip:  10%|▉         | 58.4M/608M [00:02<01:45, 5.20MB/s]\runidic.zip:  10%|█         | 61.6M/608M [00:03<01:21, 6.67MB/s]\runidic.zip:  11%|█         | 66.5M/608M [00:03<01:00, 9.00MB/s]\runidic.zip:  12%|█▏        | 70.5M/608M [00:03<00:45, 11.7MB/s]\runidic.zip:  12%|█▏        | 74.0M/608M [00:03<00:39, 13.5MB/s]\runidic.zip:  13%|█▎        | 78.6M/608M [00:03<00:30, 17.2MB/s]\runidic.zip:  14%|█▎        | 82.7M/608M [00:03<00:25, 20.8MB/s]\runidic.zip:  14%|█▍        | 86.4M/608M [00:03<00:24, 21.3MB/s]\runidic.zip:  15%|█▍        | 90.9M/608M [00:03<00:20, 25.3MB/s]\runidic.zip:  16%|█▌        | 94.9M/608M [00:03<00:17, 28.5MB/s]\runidic.zip:  16%|█▌        | 98.5M/608M [00:04<00:19, 26.1MB/s]\runidic.zip:  17%|█▋        | 103M/608M [00:04<00:16, 29.9MB/s] \runidic.zip:  18%|█▊        | 107M/608M [00:04<00:15, 32.7MB/s]\runidic.zip:  18%|█▊        | 111M/608M [00:04<00:17, 28.3MB/s]\runidic.zip:  19%|█▉        | 116M/608M [00:04<00:15, 32.2MB/s]\runidic.zip:  20%|█▉        | 120M/608M [00:04<00:14, 34.6MB/s]\runidic.zip:  20%|██        | 123M/608M [00:04<00:17, 28.2MB/s]\runidic.zip:  21%|██        | 127M/608M [00:04<00:15, 31.8MB/s]\runidic.zip:  22%|██▏       | 132M/608M [00:05<00:13, 35.2MB/s]\runidic.zip:  22%|██▏       | 135M/608M [00:05<00:16, 28.6MB/s]\runidic.zip:  23%|██▎       | 140M/608M [00:05<00:14, 31.9MB/s]\runidic.zip:  24%|██▎       | 144M/608M [00:05<00:13, 34.9MB/s]\runidic.zip:  24%|██▍       | 148M/608M [00:05<00:15, 29.5MB/s]\runidic.zip:  25%|██▍       | 152M/608M [00:05<00:14, 32.0MB/s]\runidic.zip:  26%|██▌       | 156M/608M [00:05<00:12, 34.9MB/s]\runidic.zip:  26%|██▋       | 160M/608M [00:05<00:15, 29.3MB/s]\runidic.zip:  27%|██▋       | 164M/608M [00:06<00:13, 32.5MB/s]\runidic.zip:  28%|██▊       | 168M/608M [00:06<00:12, 35.0MB/s]\runidic.zip:  28%|██▊       | 172M/608M [00:06<00:15, 28.4MB/s]\runidic.zip:  29%|██▉       | 175M/608M [00:06<00:14, 29.7MB/s]\runidic.zip:  30%|██▉       | 180M/608M [00:06<00:12, 33.6MB/s]\runidic.zip:  30%|███       | 183M/608M [00:06<00:15, 27.2MB/s]\runidic.zip:  31%|███       | 187M/608M [00:06<00:14, 29.2MB/s]\runidic.zip:  31%|███▏      | 191M/608M [00:06<00:12, 32.3MB/s]\runidic.zip:  32%|███▏      | 195M/608M [00:07<00:14, 29.0MB/s]\runidic.zip:  33%|███▎      | 198M/608M [00:07<00:13, 30.7MB/s]\runidic.zip:  33%|███▎      | 203M/608M [00:07<00:12, 33.6MB/s]\runidic.zip:  34%|███▍      | 207M/608M [00:07<00:13, 30.2MB/s]\runidic.zip:  35%|███▍      | 210M/608M [00:07<00:12, 31.5MB/s]\runidic.zip:  35%|███▌      | 215M/608M [00:07<00:11, 34.6MB/s]\runidic.zip:  36%|███▌      | 216M/608M [00:07<00:19, 20.1MB/s]\runidic.zip:  36%|███▌      | 220M/608M [00:07<00:17, 22.4MB/s]\runidic.zip:  37%|███▋      | 223M/608M [00:07<00:15, 24.8MB/s]\runidic.zip:  37%|███▋      | 226M/608M [00:08<00:14, 27.1MB/s]\runidic.zip:  38%|███▊      | 230M/608M [00:08<00:12, 30.0MB/s]\runidic.zip:  38%|███▊      | 234M/608M [00:08<00:13, 27.5MB/s]\runidic.zip:  39%|███▉      | 238M/608M [00:08<00:11, 31.0MB/s]\runidic.zip:  40%|███▉      | 242M/608M [00:08<00:11, 32.3MB/s]\runidic.zip:  40%|████      | 245M/608M [00:08<00:11, 32.5MB/s]\runidic.zip:  41%|████      | 249M/608M [00:08<00:10, 33.5MB/s]\runidic.zip:  41%|████▏     | 252M/608M [00:08<00:11, 30.6MB/s]\runidic.zip:  42%|████▏     | 257M/608M [00:08<00:10, 33.9MB/s]\runidic.zip:  43%|████▎     | 260M/608M [00:09<00:10, 34.8MB/s]\runidic.zip:  43%|████▎     | 264M/608M [00:09<00:10, 34.0MB/s]\runidic.zip:  44%|████▍     | 267M/608M [00:09<00:09, 34.4MB/s]\runidic.zip:  45%|████▍     | 271M/608M [00:09<00:10, 31.2MB/s]\runidic.zip:  45%|████▌     | 275M/608M [00:09<00:10, 33.3MB/s]\runidic.zip:  46%|████▌     | 279M/608M [00:09<00:09, 35.6MB/s]\runidic.zip:  46%|████▋     | 283M/608M [00:09<00:09, 34.9MB/s]\runidic.zip:  47%|████▋     | 286M/608M [00:09<00:09, 34.8MB/s]\runidic.zip:  48%|████▊     | 289M/608M [00:09<00:10, 30.6MB/s]\runidic.zip:  48%|████▊     | 293M/608M [00:10<00:09, 33.0MB/s]\runidic.zip:  49%|████▉     | 298M/608M [00:10<00:08, 35.3MB/s]\runidic.zip:  50%|████▉     | 301M/608M [00:10<00:08, 35.4MB/s]\runidic.zip:  50%|█████     | 305M/608M [00:10<00:08, 35.0MB/s]\runidic.zip:  51%|█████     | 308M/608M [00:10<00:09, 30.5MB/s]\runidic.zip:  51%|█████▏    | 312M/608M [00:10<00:08, 33.1MB/s]\runidic.zip:  52%|█████▏    | 316M/608M [00:10<00:08, 34.3MB/s]\runidic.zip:  53%|█████▎    | 320M/608M [00:10<00:08, 34.3MB/s]\runidic.zip:  53%|█████▎    | 324M/608M [00:10<00:07, 35.8MB/s]\runidic.zip:  54%|█████▍    | 327M/608M [00:11<00:09, 30.4MB/s]\runidic.zip:  55%|█████▍    | 332M/608M [00:11<00:08, 33.8MB/s]\runidic.zip:  55%|█████▌    | 335M/608M [00:11<00:08, 34.0MB/s]\runidic.zip:  56%|█████▌    | 338M/608M [00:11<00:08, 33.5MB/s]\runidic.zip:  56%|█████▋    | 342M/608M [00:11<00:08, 30.7MB/s]\runidic.zip:  57%|█████▋    | 346M/608M [00:11<00:08, 31.8MB/s]\runidic.zip:  57%|█████▋    | 350M/608M [00:11<00:07, 33.3MB/s]\runidic.zip:  58%|█████▊    | 353M/608M [00:11<00:07, 34.5MB/s]\runidic.zip:  59%|█████▊    | 357M/608M [00:11<00:08, 31.1MB/s]\runidic.zip:  59%|█████▉    | 361M/608M [00:12<00:07, 33.0MB/s]\runidic.zip:  60%|██████    | 365M/608M [00:12<00:07, 34.4MB/s]\runidic.zip:  61%|██████    | 368M/608M [00:12<00:06, 34.5MB/s]\runidic.zip:  61%|██████    | 372M/608M [00:12<00:06, 34.7MB/s]\runidic.zip:  62%|██████▏   | 375M/608M [00:12<00:07, 30.1MB/s]\runidic.zip:  62%|██████▏   | 380M/608M [00:12<00:06, 33.2MB/s]\runidic.zip:  63%|██████▎   | 383M/608M [00:12<00:06, 34.7MB/s]\runidic.zip:  64%|██████▎   | 387M/608M [00:12<00:06, 34.6MB/s]\runidic.zip:  64%|██████▍   | 391M/608M [00:12<00:06, 34.7MB/s]\runidic.zip:  65%|██████▍   | 394M/608M [00:13<00:07, 30.5MB/s]\runidic.zip:  65%|██████▌   | 398M/608M [00:13<00:06, 32.4MB/s]\runidic.zip:  66%|██████▌   | 402M/608M [00:13<00:06, 34.3MB/s]\runidic.zip:  67%|██████▋   | 406M/608M [00:13<00:05, 35.9MB/s]\runidic.zip:  67%|██████▋   | 409M/608M [00:13<00:05, 35.3MB/s]\runidic.zip:  68%|██████▊   | 413M/608M [00:13<00:06, 30.7MB/s]\runidic.zip:  68%|██████▊   | 416M/608M [00:13<00:05, 32.7MB/s]\runidic.zip:  69%|██████▉   | 420M/608M [00:13<00:05, 34.6MB/s]\runidic.zip:  70%|██████▉   | 424M/608M [00:13<00:05, 36.2MB/s]\runidic.zip:  70%|███████   | 428M/608M [00:13<00:05, 35.6MB/s]\runidic.zip:  71%|███████   | 431M/608M [00:14<00:05, 34.8MB/s]\runidic.zip:  71%|███████▏  | 434M/608M [00:14<00:05, 30.4MB/s]\runidic.zip:  72%|███████▏  | 438M/608M [00:14<00:05, 32.4MB/s]\runidic.zip:  73%|███████▎  | 442M/608M [00:14<00:04, 33.4MB/s]\runidic.zip:  73%|███████▎  | 446M/608M [00:14<00:04, 35.2MB/s]\runidic.zip:  74%|███████▍  | 450M/608M [00:14<00:04, 36.0MB/s]\runidic.zip:  75%|███████▍  | 453M/608M [00:14<00:04, 35.6MB/s]\runidic.zip:  75%|███████▌  | 456M/608M [00:14<00:04, 30.5MB/s]\runidic.zip:  76%|███████▌  | 460M/608M [00:14<00:04, 32.2MB/s]\runidic.zip:  76%|███████▋  | 464M/608M [00:15<00:04, 33.6MB/s]\runidic.zip:  77%|███████▋  | 468M/608M [00:15<00:03, 35.2MB/s]\runidic.zip:  78%|███████▊  | 472M/608M [00:15<00:03, 36.2MB/s]\runidic.zip:  78%|███████▊  | 475M/608M [00:15<00:04, 31.4MB/s]\runidic.zip:  79%|███████▊  | 479M/608M [00:15<00:03, 32.9MB/s]\runidic.zip:  79%|███████▉  | 482M/608M [00:15<00:03, 33.9MB/s]\runidic.zip:  80%|████████  | 487M/608M [00:15<00:03, 35.8MB/s]\runidic.zip:  81%|████████  | 490M/608M [00:15<00:03, 36.4MB/s]\runidic.zip:  81%|████████  | 494M/608M [00:15<00:03, 31.6MB/s]\runidic.zip:  82%|████████▏ | 497M/608M [00:16<00:03, 32.0MB/s]\runidic.zip:  82%|████████▏ | 501M/608M [00:16<00:03, 33.8MB/s]\runidic.zip:  83%|████████▎ | 505M/608M [00:16<00:02, 34.8MB/s]\runidic.zip:  84%|████████▎ | 509M/608M [00:16<00:02, 36.2MB/s]\runidic.zip:  84%|████████▍ | 512M/608M [00:16<00:03, 31.2MB/s]\runidic.zip:  85%|████████▍ | 516M/608M [00:16<00:02, 31.9MB/s]\runidic.zip:  86%|████████▌ | 520M/608M [00:16<00:02, 34.1MB/s]\runidic.zip:  86%|████████▌ | 524M/608M [00:16<00:02, 35.8MB/s]\runidic.zip:  87%|████████▋ | 528M/608M [00:16<00:02, 31.2MB/s]\runidic.zip:  87%|████████▋ | 532M/608M [00:17<00:02, 33.3MB/s]\runidic.zip:  88%|████████▊ | 535M/608M [00:17<00:02, 32.7MB/s]\runidic.zip:  89%|████████▊ | 539M/608M [00:17<00:02, 34.2MB/s]\runidic.zip:  89%|████████▉ | 543M/608M [00:17<00:01, 36.0MB/s]\runidic.zip:  90%|████████▉ | 546M/608M [00:17<00:01, 32.0MB/s]\runidic.zip:  90%|█████████ | 550M/608M [00:17<00:01, 33.3MB/s]\runidic.zip:  91%|█████████ | 554M/608M [00:17<00:01, 33.6MB/s]\runidic.zip:  92%|█████████▏| 557M/608M [00:17<00:01, 34.6MB/s]\runidic.zip:  92%|█████████▏| 561M/608M [00:17<00:01, 35.8MB/s]\runidic.zip:  93%|█████████▎| 565M/608M [00:18<00:01, 32.9MB/s]\runidic.zip:  93%|█████████▎| 569M/608M [00:18<00:01, 33.5MB/s]\runidic.zip:  94%|█████████▍| 572M/608M [00:18<00:01, 34.0MB/s]\runidic.zip:  95%|█████████▍| 576M/608M [00:18<00:00, 34.7MB/s]\runidic.zip:  95%|█████████▌| 579M/608M [00:18<00:00, 35.0MB/s]\runidic.zip:  96%|█████████▌| 583M/608M [00:18<00:00, 36.6MB/s]\runidic.zip:  96%|█████████▋| 587M/608M [00:18<00:00, 31.2MB/s]\runidic.zip:  97%|█████████▋| 590M/608M [00:18<00:00, 33.1MB/s]\runidic.zip:  98%|█████████▊| 594M/608M [00:18<00:00, 33.7MB/s]\runidic.zip:  98%|█████████▊| 598M/608M [00:18<00:00, 34.2MB/s]\runidic.zip:  99%|█████████▉| 601M/608M [00:19<00:00, 33.8MB/s]\runidic.zip:  99%|█████████▉| 605M/608M [00:19<00:00, 35.1MB/s]\runidic.zip: 100%|█████████▉| 608M/608M [00:19<00:00, 31.2MB/s]\runidic.zip: 100%|██████████| 608M/608M [00:19<00:00, 31.5MB/s]\n",
            "Downloaded UniDic v2.3.0+2020-10-08 to /usr/local/lib/python3.6/dist-packages/unidic/dicdir\n"
          ],
          "name": "stderr"
        }
      ]
    },
    {
      "cell_type": "code",
      "metadata": {
        "id": "BJS5AKb5zAbv"
      },
      "source": [
        "import random\n",
        "import torch\n",
        "from medbertjp.tokenization_jp_mod import BertJapaneseTokenizer\n",
        "from transformers.modeling_bert import BertForMaskedLM"
      ],
      "execution_count": 2,
      "outputs": []
    },
    {
      "cell_type": "code",
      "metadata": {
        "id": "L9VDmuq94YXE"
      },
      "source": [
        "def prediction_masked_sentence(sentence, tokenizer, model):\n",
        "    mask_token_id = tokenizer.mask_token_id\n",
        "    \n",
        "    input_ids = tokenizer.encode(text, return_tensors='pt')\n",
        "    print(' '.join(tokenizer.convert_ids_to_tokens(input_ids.tolist()[0])))\n",
        "    masked_index = random.randint(1, len(input_ids[0]) - 2)\n",
        "    input_ids[0][masked_index] = mask_token_id\n",
        "    print(' '.join(tokenizer.convert_ids_to_tokens(input_ids.tolist()[0])))\n",
        "    \n",
        "    result = model(input_ids)\n",
        "    topk = torch.nn.Softmax(dim=1)(result[0][:, masked_index]).topk(5)\n",
        "    scores = topk.values.tolist()[0]\n",
        "    pred_ids = topk.indices.tolist()[0]\n",
        "    for i, pred_id in enumerate(pred_ids):\n",
        "        output_ids = input_ids.tolist()[0]\n",
        "        output_ids[masked_index] = pred_id\n",
        "        \n",
        "        pred_sentence = tokenizer.convert_ids_to_tokens(output_ids)\n",
        "        pred_sentence = [token if n != masked_index else '【' + token + '】'\n",
        "                         for n, token in enumerate(pred_sentence)]\n",
        "        print('{:.1f} %'.format(scores[i] * 100).rjust(7), ' '.join(pred_sentence))\n",
        "        \n",
        "    return result"
      ],
      "execution_count": 3,
      "outputs": []
    },
    {
      "cell_type": "code",
      "metadata": {
        "id": "RZNqUQDNznjH"
      },
      "source": [
        "text = '慢性膵炎では，糖尿病性ケトアシドーシス(DKA)の合併は比較的稀である．'\n",
        "\n",
        "# Model path\n",
        "PathToBertJpMecabUnidic = './medBERTjp_L12_H768_A12_WWM_mecab-unidic'\n",
        "PathToBertJpMecabIpadic = './medBERTjp_L12_H768_A12_WWM_mecab-ipadic'\n",
        "PathToBertJpSentencepiece = './medBERTjp_L12_H768_A12_sentencepiece-v0.2'"
      ],
      "execution_count": 4,
      "outputs": []
    },
    {
      "cell_type": "markdown",
      "metadata": {
        "id": "cl1HVWJV6P-D"
      },
      "source": [
        "##  MeCab-IPAdic-tokenized Japanese BERT model\n",
        "For general sentences."
      ]
    },
    {
      "cell_type": "code",
      "metadata": {
        "id": "bHvK3L9a6rmJ",
        "colab": {
          "base_uri": "https://localhost:8080/",
          "height": 235,
          "referenced_widgets": [
            "e936f51c621647019053f062252092a6",
            "13bc26ddf90d470d969080c6b788d570",
            "18f5cc4d6f9f4231b66bf178130616db",
            "c28d0b4465644dcd9e3526eb0d44280a",
            "8f78b7c7d83844d0a9db484236630967",
            "5d4414a6694c455e89e53c0a5d20e64f",
            "55e9058003a84b02a3281a9e090385da",
            "ce27860a2bd342a2b39d929e9d4fc8da",
            "53506bbc511249f9a03eab66043bc514",
            "25092986714c491f9ff5e59ed98e5da0",
            "a92df6b0af0a47259b05bb6cf4556615",
            "1c725bc2db9044eaa49290c78515470d",
            "48080bf5c9fd4f77b238c8feb72678d1",
            "d5ee81cfee304619822697d6673a58b1",
            "46364bb7b0924cb09995fe688340037f",
            "1157d70e31f04d678884bc6e3c2f7140",
            "192d50f7750b4a1e89322a8ff6c2370f",
            "a67cfd62819548a78e4263278f7fd790",
            "525fcbdae3e345baae0612966d24f968",
            "87401bde5ff641469b719f6e6ef1bc27",
            "cac7a97189874f61b524a5de4a8621e9",
            "67e23e02b59d4947ac99ba51acf305bd",
            "cee903250d864e0398462dd91c3d2b1b",
            "b807bdcd838b46dfa454eb454501def7"
          ]
        },
        "outputId": "f8af4abc-376a-4d7b-cbfb-1f1208bb5c2b"
      },
      "source": [
        "tokenizer = BertJapaneseTokenizer.from_pretrained('cl-tohoku/bert-base-japanese-whole-word-masking',\n",
        "                                                  word_tokenizer_type='mecab',\n",
        "                                                  mecab_kwargs={\n",
        "                                                     \"mecab_dic\": 'ipadic',\n",
        "                                                 })\n",
        "model = BertForMaskedLM.from_pretrained('cl-tohoku/bert-base-japanese-whole-word-masking')"
      ],
      "execution_count": 5,
      "outputs": [
        {
          "output_type": "display_data",
          "data": {
            "application/vnd.jupyter.widget-view+json": {
              "model_id": "e936f51c621647019053f062252092a6",
              "version_minor": 0,
              "version_major": 2
            },
            "text/plain": [
              "HBox(children=(FloatProgress(value=0.0, description='Downloading', max=257706.0, style=ProgressStyle(descripti…"
            ]
          },
          "metadata": {
            "tags": []
          }
        },
        {
          "output_type": "stream",
          "text": [
            "\n"
          ],
          "name": "stdout"
        },
        {
          "output_type": "display_data",
          "data": {
            "application/vnd.jupyter.widget-view+json": {
              "model_id": "53506bbc511249f9a03eab66043bc514",
              "version_minor": 0,
              "version_major": 2
            },
            "text/plain": [
              "HBox(children=(FloatProgress(value=0.0, description='Downloading', max=479.0, style=ProgressStyle(description_…"
            ]
          },
          "metadata": {
            "tags": []
          }
        },
        {
          "output_type": "stream",
          "text": [
            "\n"
          ],
          "name": "stdout"
        },
        {
          "output_type": "display_data",
          "data": {
            "application/vnd.jupyter.widget-view+json": {
              "model_id": "192d50f7750b4a1e89322a8ff6c2370f",
              "version_minor": 0,
              "version_major": 2
            },
            "text/plain": [
              "HBox(children=(FloatProgress(value=0.0, description='Downloading', max=445021143.0, style=ProgressStyle(descri…"
            ]
          },
          "metadata": {
            "tags": []
          }
        },
        {
          "output_type": "stream",
          "text": [
            "\n"
          ],
          "name": "stdout"
        },
        {
          "output_type": "stream",
          "text": [
            "Some weights of the model checkpoint at cl-tohoku/bert-base-japanese-whole-word-masking were not used when initializing BertForMaskedLM: ['cls.seq_relationship.weight', 'cls.seq_relationship.bias']\n",
            "- This IS expected if you are initializing BertForMaskedLM from the checkpoint of a model trained on another task or with another architecture (e.g. initializing a BertForSequenceClassification model from a BertForPreTraining model).\n",
            "- This IS NOT expected if you are initializing BertForMaskedLM from the checkpoint of a model that you expect to be exactly identical (initializing a BertForSequenceClassification model from a BertForSequenceClassification model).\n"
          ],
          "name": "stderr"
        }
      ]
    },
    {
      "cell_type": "code",
      "metadata": {
        "id": "eLAY5fyB7URm",
        "colab": {
          "base_uri": "https://localhost:8080/"
        },
        "outputId": "0933d310-725b-44c9-dee1-4a604a96dd6b"
      },
      "source": [
        "# An Example of Masked Language Modeling.\n",
        "result = prediction_masked_sentence(text, tokenizer, model)"
      ],
      "execution_count": 6,
      "outputs": [
        {
          "output_type": "stream",
          "text": [
            "[CLS] 慢性 [UNK] で は , 糖尿 病 性 ケ ##ト ##アシ ##ドー ##シス ( D ##KA ) の 合併 は 比較的 稀 で ある . [SEP]\n",
            "[CLS] 慢性 [UNK] で は , 糖尿 病 性 ケ ##ト ##アシ ##ドー ##シス ( D ##KA ) の [MASK] は 比較的 稀 で ある . [SEP]\n",
            " 41.7 % [CLS] 慢性 [UNK] で は , 糖尿 病 性 ケ ##ト ##アシ ##ドー ##シス ( D ##KA ) の 【発生】 は 比較的 稀 で ある . [SEP]\n",
            " 19.5 % [CLS] 慢性 [UNK] で は , 糖尿 病 性 ケ ##ト ##アシ ##ドー ##シス ( D ##KA ) の 【発症】 は 比較的 稀 で ある . [SEP]\n",
            "  8.6 % [CLS] 慢性 [UNK] で は , 糖尿 病 性 ケ ##ト ##アシ ##ドー ##シス ( D ##KA ) の 【出現】 は 比較的 稀 で ある . [SEP]\n",
            "  4.1 % [CLS] 慢性 [UNK] で は , 糖尿 病 性 ケ ##ト ##アシ ##ドー ##シス ( D ##KA ) の 【報告】 は 比較的 稀 で ある . [SEP]\n",
            "  4.0 % [CLS] 慢性 [UNK] で は , 糖尿 病 性 ケ ##ト ##アシ ##ドー ##シス ( D ##KA ) の 【合併】 は 比較的 稀 で ある . [SEP]\n"
          ],
          "name": "stdout"
        }
      ]
    },
    {
      "cell_type": "markdown",
      "metadata": {
        "id": "YJhLA7co4nxO"
      },
      "source": [
        "## medBERTjp - SentencePiece\n",
        "For medical sentences."
      ]
    },
    {
      "cell_type": "code",
      "metadata": {
        "id": "lBw2rYlN3qdY"
      },
      "source": [
        "%%bash\n",
        "wget https://github.com/ou-medinfo/medbertjp/releases/download/v0.2-sp/medBERTjp_L12_H768_A12_sentencepiece-v0.2.zip\n",
        "unzip ./medBERTjp_L12_H768_A12_sentencepiece-v0.2.zip"
      ],
      "execution_count": null,
      "outputs": []
    },
    {
      "cell_type": "code",
      "metadata": {
        "id": "NxHnN8eG3YSY",
        "colab": {
          "base_uri": "https://localhost:8080/"
        },
        "outputId": "974f789b-58bf-4a6d-86cd-8deb5a7b5224"
      },
      "source": [
        "model_path = PathToBertJpSentencepiece\n",
        "tokenizer = BertJapaneseTokenizer.from_pretrained(model_path,\n",
        "                                                  word_tokenizer_type='sp',\n",
        "                                                 )\n",
        "model = BertForMaskedLM.from_pretrained(model_path)"
      ],
      "execution_count": 8,
      "outputs": [
        {
          "output_type": "stream",
          "text": [
            "medBERTjp_L12_H768_A12_sentencepiece-v0.2/vocab.model\n",
            "Loaded a trained SentencePiece model.\n"
          ],
          "name": "stdout"
        },
        {
          "output_type": "stream",
          "text": [
            "Some weights of the model checkpoint at ./medBERTjp_L12_H768_A12_sentencepiece-v0.2 were not used when initializing BertForMaskedLM: ['cls.seq_relationship.weight', 'cls.seq_relationship.bias']\n",
            "- This IS expected if you are initializing BertForMaskedLM from the checkpoint of a model trained on another task or with another architecture (e.g. initializing a BertForSequenceClassification model from a BertForPreTraining model).\n",
            "- This IS NOT expected if you are initializing BertForMaskedLM from the checkpoint of a model that you expect to be exactly identical (initializing a BertForSequenceClassification model from a BertForSequenceClassification model).\n"
          ],
          "name": "stderr"
        }
      ]
    },
    {
      "cell_type": "code",
      "metadata": {
        "id": "aWYZHpmE4Uj6",
        "colab": {
          "base_uri": "https://localhost:8080/"
        },
        "outputId": "23437d2f-7502-4e81-ef21-d7d2ac62f28d"
      },
      "source": [
        "# An Example of Masked Language Modeling.\n",
        "result = prediction_masked_sentence(text, tokenizer, model)"
      ],
      "execution_count": 9,
      "outputs": [
        {
          "output_type": "stream",
          "text": [
            "[CLS] 慢性膵炎 では , 糖尿病性ケトアシドーシス ( D KA ) の合併 は比較的 稀である . [SEP]\n",
            "[CLS] 慢性膵炎 では , 糖尿病性ケトアシドーシス ( D KA ) の合併 [MASK] 稀である . [SEP]\n",
            " 73.0 % [CLS] 慢性膵炎 では , 糖尿病性ケトアシドーシス ( D KA ) の合併 【は】 稀である . [SEP]\n",
            "  6.6 % [CLS] 慢性膵炎 では , 糖尿病性ケトアシドーシス ( D KA ) の合併 【はきわめて】 稀である . [SEP]\n",
            "  6.3 % [CLS] 慢性膵炎 では , 糖尿病性ケトアシドーシス ( D KA ) の合併 【は比較的】 稀である . [SEP]\n",
            "  2.9 % [CLS] 慢性膵炎 では , 糖尿病性ケトアシドーシス ( D KA ) の合併 【は極めて】 稀である . [SEP]\n",
            "  2.8 % [CLS] 慢性膵炎 では , 糖尿病性ケトアシドーシス ( D KA ) の合併 【は非常に】 稀である . [SEP]\n"
          ],
          "name": "stdout"
        }
      ]
    },
    {
      "cell_type": "markdown",
      "metadata": {
        "id": "V-kJnXlO72Wb"
      },
      "source": [
        "## medBERTjp - MeCab with IPAdic\n",
        "For medical sentences."
      ]
    },
    {
      "cell_type": "code",
      "metadata": {
        "id": "-m4luEY672Wg"
      },
      "source": [
        "%%bash\n",
        "wget https://github.com/ou-medinfo/medbertjp/releases/download/v0.1-mi/medBERTjp_L12_H768_A12_WWM_mecab-ipadic.zip\n",
        "unzip ./medBERTjp_L12_H768_A12_WWM_mecab-ipadic.zip"
      ],
      "execution_count": null,
      "outputs": []
    },
    {
      "cell_type": "code",
      "metadata": {
        "id": "T_FDAsqM72Wu",
        "colab": {
          "base_uri": "https://localhost:8080/"
        },
        "outputId": "202f4477-7105-45cc-851c-35c5650f279c"
      },
      "source": [
        "model_path = PathToBertJpMecabIpadic\n",
        "tokenizer = BertJapaneseTokenizer.from_pretrained(model_path, \n",
        "                                                 mecab_kwargs={\n",
        "                                                     \"mecab_dic\": 'ipadic',\n",
        "                                                 })\n",
        "model = BertForMaskedLM.from_pretrained(model_path)"
      ],
      "execution_count": 11,
      "outputs": [
        {
          "output_type": "stream",
          "text": [
            "Some weights of the model checkpoint at ./medBERTjp_L12_H768_A12_WWM_mecab-ipadic were not used when initializing BertForMaskedLM: ['cls.seq_relationship.weight', 'cls.seq_relationship.bias']\n",
            "- This IS expected if you are initializing BertForMaskedLM from the checkpoint of a model trained on another task or with another architecture (e.g. initializing a BertForSequenceClassification model from a BertForPreTraining model).\n",
            "- This IS NOT expected if you are initializing BertForMaskedLM from the checkpoint of a model that you expect to be exactly identical (initializing a BertForSequenceClassification model from a BertForSequenceClassification model).\n"
          ],
          "name": "stderr"
        }
      ]
    },
    {
      "cell_type": "code",
      "metadata": {
        "id": "o8NGT_K572W3",
        "colab": {
          "base_uri": "https://localhost:8080/"
        },
        "outputId": "2e9e8aeb-8364-4bc4-f540-cb0e1c64f6ab"
      },
      "source": [
        "# An Example of Masked Language Modeling.\n",
        "result = prediction_masked_sentence(text, tokenizer, model)"
      ],
      "execution_count": 12,
      "outputs": [
        {
          "output_type": "stream",
          "text": [
            "[CLS] 慢性 膵炎 で は , 糖尿 病 性 ケトアシドーシス ( D ##KA ) の 合併 は 比較的 稀 で ある . [SEP]\n",
            "[CLS] 慢性 膵炎 で は , 糖尿 病 性 ケトアシドーシス ( D [MASK] ) の 合併 は 比較的 稀 で ある . [SEP]\n",
            "100.0 % [CLS] 慢性 膵炎 で は , 糖尿 病 性 ケトアシドーシス ( D 【##KA】 ) の 合併 は 比較的 稀 で ある . [SEP]\n",
            "  0.0 % [CLS] 慢性 膵炎 で は , 糖尿 病 性 ケトアシドーシス ( D 【##K】 ) の 合併 は 比較的 稀 で ある . [SEP]\n",
            "  0.0 % [CLS] 慢性 膵炎 で は , 糖尿 病 性 ケトアシドーシス ( D 【##DM】 ) の 合併 は 比較的 稀 で ある . [SEP]\n",
            "  0.0 % [CLS] 慢性 膵炎 で は , 糖尿 病 性 ケトアシドーシス ( D 【-】 ) の 合併 は 比較的 稀 で ある . [SEP]\n",
            "  0.0 % [CLS] 慢性 膵炎 で は , 糖尿 病 性 ケトアシドーシス ( D 【型】 ) の 合併 は 比較的 稀 で ある . [SEP]\n"
          ],
          "name": "stdout"
        }
      ]
    },
    {
      "cell_type": "markdown",
      "metadata": {
        "id": "mp587HAw85ar"
      },
      "source": [
        "## medBERTjp - MeCab with Unidic\n",
        "For medical sentences.\n"
      ]
    },
    {
      "cell_type": "code",
      "metadata": {
        "id": "ZJMSnxwsElJ3"
      },
      "source": [
        "%%bash\n",
        "wget https://github.com/ou-medinfo/medbertjp/releases/download/v0.1-mu/medBERTjp_L12_H768_A12_WWM_mecab-unidic.zip\n",
        "unzip ./medBERTjp_L12_H768_A12_WWM_mecab-unidic.zip"
      ],
      "execution_count": null,
      "outputs": []
    },
    {
      "cell_type": "code",
      "metadata": {
        "id": "RJl0m16w-6rA",
        "colab": {
          "base_uri": "https://localhost:8080/"
        },
        "outputId": "61681b3d-0825-4718-84d0-e875eb2480d9"
      },
      "source": [
        "model_path = PathToBertJpMecabUnidic\n",
        "tokenizer = BertJapaneseTokenizer.from_pretrained(model_path, \n",
        "                                                 mecab_kwargs={\n",
        "                                                     \"mecab_dic\": 'unidic',\n",
        "                                                 })\n",
        "model = BertForMaskedLM.from_pretrained(model_path)"
      ],
      "execution_count": 14,
      "outputs": [
        {
          "output_type": "stream",
          "text": [
            "Some weights of the model checkpoint at ./medBERTjp_L12_H768_A12_WWM_mecab-unidic were not used when initializing BertForMaskedLM: ['cls.seq_relationship.weight', 'cls.seq_relationship.bias']\n",
            "- This IS expected if you are initializing BertForMaskedLM from the checkpoint of a model trained on another task or with another architecture (e.g. initializing a BertForSequenceClassification model from a BertForPreTraining model).\n",
            "- This IS NOT expected if you are initializing BertForMaskedLM from the checkpoint of a model that you expect to be exactly identical (initializing a BertForSequenceClassification model from a BertForSequenceClassification model).\n"
          ],
          "name": "stderr"
        }
      ]
    },
    {
      "cell_type": "code",
      "metadata": {
        "id": "Iq-mC5Zk-6rR",
        "colab": {
          "base_uri": "https://localhost:8080/"
        },
        "outputId": "efaa4e73-d84b-4b99-878d-80139577404c"
      },
      "source": [
        "# An Example of Masked Language Modeling.\n",
        "result = prediction_masked_sentence(text, tokenizer, model)"
      ],
      "execution_count": 15,
      "outputs": [
        {
          "output_type": "stream",
          "text": [
            "[CLS] 慢性 膵炎 で は , 糖尿 病性 ケトアシドーシス ( D ##KA ) の 合併 は 比較 的 稀 で ある . [SEP]\n",
            "[CLS] 慢性 膵炎 で [MASK] , 糖尿 病性 ケトアシドーシス ( D ##KA ) の 合併 は 比較 的 稀 で ある . [SEP]\n",
            " 96.7 % [CLS] 慢性 膵炎 で 【は】 , 糖尿 病性 ケトアシドーシス ( D ##KA ) の 合併 は 比較 的 稀 で ある . [SEP]\n",
            "  2.2 % [CLS] 慢性 膵炎 で 【も】 , 糖尿 病性 ケトアシドーシス ( D ##KA ) の 合併 は 比較 的 稀 で ある . [SEP]\n",
            "  0.7 % [CLS] 慢性 膵炎 で 【あり】 , 糖尿 病性 ケトアシドーシス ( D ##KA ) の 合併 は 比較 的 稀 で ある . [SEP]\n",
            "  0.1 % [CLS] 慢性 膵炎 で 【の】 , 糖尿 病性 ケトアシドーシス ( D ##KA ) の 合併 は 比較 的 稀 で ある . [SEP]\n",
            "  0.0 % [CLS] 慢性 膵炎 で 【起こり】 , 糖尿 病性 ケトアシドーシス ( D ##KA ) の 合併 は 比較 的 稀 で ある . [SEP]\n"
          ],
          "name": "stdout"
        }
      ]
    }
  ]
}