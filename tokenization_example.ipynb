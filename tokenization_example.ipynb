{
 "cells": [
  {
   "cell_type": "code",
   "execution_count": 53,
   "metadata": {},
   "outputs": [],
   "source": [
    "import random\n",
    "import torch\n",
    "from tokenization_jp_mod import BertJapaneseTokenizer\n",
    "from transformers.modeling_bert import BertForMaskedLM"
   ]
  },
  {
   "cell_type": "code",
   "execution_count": 3,
   "metadata": {},
   "outputs": [],
   "source": [
    "text = '慢性膵炎では，糖尿病性ケトアシドーシス(DKA)の合併は比較的稀である．'\n",
    "\n",
    "# Model path\n",
    "PathToBertJpMecabIpadic = '/PATH/TO/BERT/MECAB/IPADIC/DIR/'\n",
    "PathToBertJpMecabIpadicNeologdJmedic = '/PATH/TO/BERT/MECAB/IPADIC/NEOLOGD/JMEDIC/DIR/'\n",
    "PathToBertJpSentencepiece = '/PATH/TO/BERT/MECAB/SENTENCEPIECE/DIR/'\n",
    "\n",
    "# MeCab dictionary\n",
    "PathToNeologd = '/path/to/mecab/dic/mecab-ipadic-neologd/'\n",
    "PathToJmedic = '/path/to/mecab/dic/manbyo/MANBYO_201907_Dic-utf8.dic'"
   ]
  },
  {
   "cell_type": "code",
   "execution_count": 288,
   "metadata": {},
   "outputs": [],
   "source": [
    "def prediction_masked_sentence(sentence, tokenizer, model):\n",
    "    mask_token_id = tokenizer.mask_token_id\n",
    "    \n",
    "    input_ids = tokenizer.encode(text, return_tensors='pt')\n",
    "    print(' '.join(tokenizer.convert_ids_to_tokens(input_ids.tolist()[0])))\n",
    "    masked_index = random.randint(1, len(input_ids[0]) - 2)\n",
    "    input_ids[0][masked_index] = mask_token_id\n",
    "    print(' '.join(tokenizer.convert_ids_to_tokens(input_ids.tolist()[0])))\n",
    "    \n",
    "    result = model(input_ids)\n",
    "    topk = torch.nn.Softmax(dim=1)(result[0][:, masked_index]).topk(5)\n",
    "    scores = topk.values.tolist()[0]\n",
    "    pred_ids = topk.indices.tolist()[0]\n",
    "    for i, pred_id in enumerate(pred_ids):\n",
    "        output_ids = input_ids.tolist()[0]\n",
    "        output_ids[masked_index] = pred_id\n",
    "        \n",
    "        pred_sentence = tokenizer.convert_ids_to_tokens(output_ids)\n",
    "        pred_sentence = [token if n != masked_index else '【' + token + '】'\n",
    "                         for n, token in enumerate(pred_sentence)]\n",
    "        print('{:.1f} %'.format(scores[i] * 100).rjust(7), ' '.join(pred_sentence))\n",
    "        \n",
    "    return result"
   ]
  },
  {
   "cell_type": "markdown",
   "metadata": {},
   "source": [
    "# Publicly available Japanese BERT model"
   ]
  },
  {
   "cell_type": "code",
   "execution_count": 291,
   "metadata": {},
   "outputs": [],
   "source": [
    "tokenizer = BertJapaneseTokenizer.from_pretrained('cl-tohoku/bert-base-japanese-whole-word-masking',\n",
    "                                                  mecab_kwargs={\n",
    "                                                     \"mecab_dic\": 'ipadic',\n",
    "                                                 })\n",
    "model = BertForMaskedLM.from_pretrained('cl-tohoku/bert-base-japanese-whole-word-masking')"
   ]
  },
  {
   "cell_type": "code",
   "execution_count": 416,
   "metadata": {},
   "outputs": [
    {
     "name": "stdout",
     "output_type": "stream",
     "text": [
      "[CLS] 慢性 [UNK] で は , 糖尿 病 性 ケ ##ト ##アシ ##ドー ##シス ( D ##KA ) の 合併 は 比較的 稀 で ある . [SEP]\n",
      "[CLS] 慢性 [UNK] で は , 糖尿 病 性 ケ ##ト ##アシ ##ドー ##シス [MASK] D ##KA ) の 合併 は 比較的 稀 で ある . [SEP]\n",
      " 98.8 % [CLS] 慢性 [UNK] で は , 糖尿 病 性 ケ ##ト ##アシ ##ドー ##シス 【(】 D ##KA ) の 合併 は 比較的 稀 で ある . [SEP]\n",
      "  0.7 % [CLS] 慢性 [UNK] で は , 糖尿 病 性 ケ ##ト ##アシ ##ドー ##シス 【(,】 D ##KA ) の 合併 は 比較的 稀 で ある . [SEP]\n",
      "  0.1 % [CLS] 慢性 [UNK] で は , 糖尿 病 性 ケ ##ト ##アシ ##ドー ##シス 【(-】 D ##KA ) の 合併 は 比較的 稀 で ある . [SEP]\n",
      "  0.0 % [CLS] 慢性 [UNK] で は , 糖尿 病 性 ケ ##ト ##アシ ##ドー ##シス 【(=】 D ##KA ) の 合併 は 比較的 稀 で ある . [SEP]\n",
      "  0.0 % [CLS] 慢性 [UNK] で は , 糖尿 病 性 ケ ##ト ##アシ ##ドー ##シス 【,】 D ##KA ) の 合併 は 比較的 稀 で ある . [SEP]\n"
     ]
    }
   ],
   "source": [
    "# An Example of Masked Language Modeling.\n",
    "result = prediction_masked_sentence(text, tokenizer, model)"
   ]
  },
  {
   "cell_type": "markdown",
   "metadata": {},
   "source": [
    "# medBERTjp - MeCab with IPAdic"
   ]
  },
  {
   "cell_type": "code",
   "execution_count": 262,
   "metadata": {},
   "outputs": [],
   "source": [
    "model_path = PathToBertJpMecabIpadic\n",
    "tokenizer = BertJapaneseTokenizer.from_pretrained(model_path, \n",
    "                                                 mecab_kwargs={\n",
    "                                                     \"mecab_dic\": 'ipadic',\n",
    "                                                 })\n",
    "model = BertForMaskedLM.from_pretrained(model_path)"
   ]
  },
  {
   "cell_type": "code",
   "execution_count": 263,
   "metadata": {},
   "outputs": [
    {
     "name": "stdout",
     "output_type": "stream",
     "text": [
      "[CLS] 慢性 膵炎 で は , 糖尿 病 性 ケトアシドーシス ( D ##KA ) の 合併 は 比較的 稀 で ある . [SEP]\n",
      "[CLS] 慢性 [MASK] で は , 糖尿 病 性 ケトアシドーシス ( D ##KA ) の 合併 は 比較的 稀 で ある . [SEP]\n",
      " 25.5 % [CLS] 慢性 【型】 で は , 糖尿 病 性 ケトアシドーシス ( D ##KA ) の 合併 は 比較的 稀 で ある . [SEP]\n",
      " 15.4 % [CLS] 慢性 【膵炎】 で は , 糖尿 病 性 ケトアシドーシス ( D ##KA ) の 合併 は 比較的 稀 で ある . [SEP]\n",
      " 12.6 % [CLS] 慢性 【中毒】 で は , 糖尿 病 性 ケトアシドーシス ( D ##KA ) の 合併 は 比較的 稀 で ある . [SEP]\n",
      " 10.5 % [CLS] 慢性 【例】 で は , 糖尿 病 性 ケトアシドーシス ( D ##KA ) の 合併 は 比較的 稀 で ある . [SEP]\n",
      "  4.3 % [CLS] 慢性 【疾患】 で は , 糖尿 病 性 ケトアシドーシス ( D ##KA ) の 合併 は 比較的 稀 で ある . [SEP]\n"
     ]
    }
   ],
   "source": [
    "# An Example of Masked Language Modeling.\n",
    "result = prediction_masked_sentence(text, tokenizer, model)"
   ]
  },
  {
   "cell_type": "markdown",
   "metadata": {},
   "source": [
    "# medBERTjp - MeCab with IPAdic-NEologd + J-MeDic"
   ]
  },
  {
   "cell_type": "code",
   "execution_count": 240,
   "metadata": {},
   "outputs": [],
   "source": [
    "model_path = PathToBertJpMecabIpadicNeologdJmedic\n",
    "tokenizer = BertJapaneseTokenizer.from_pretrained(model_path,\n",
    "                                                  word_tokenizer_type='mecab',\n",
    "                                                  mecab_kwargs={\n",
    "                                                      'mecab_dic_path': PathToNeologd,\n",
    "                                                      'mecab_userdic_path': PathToJmedic,\n",
    "                                                  }\n",
    "                                                 )\n",
    "model = BertForMaskedLM.from_pretrained(model_path)"
   ]
  },
  {
   "cell_type": "code",
   "execution_count": 261,
   "metadata": {},
   "outputs": [
    {
     "name": "stdout",
     "output_type": "stream",
     "text": [
      "[CLS] 慢性膵炎 では , 糖尿病 性 ケトアシドーシス ( D ##KA ) の 合併 は 比較的 稀 で ある . [SEP]\n",
      "[CLS] [MASK] では , 糖尿病 性 ケトアシドーシス ( D ##KA ) の 合併 は 比較的 稀 で ある . [SEP]\n",
      " 45.5 % [CLS] 【糖尿病患者】 では , 糖尿病 性 ケトアシドーシス ( D ##KA ) の 合併 は 比較的 稀 で ある . [SEP]\n",
      " 39.5 % [CLS] 【糖尿病】 では , 糖尿病 性 ケトアシドーシス ( D ##KA ) の 合併 は 比較的 稀 で ある . [SEP]\n",
      "  1.7 % [CLS] 【アルコール依存症】 では , 糖尿病 性 ケトアシドーシス ( D ##KA ) の 合併 は 比較的 稀 で ある . [SEP]\n",
      "  1.4 % [CLS] 【1型糖尿病】 では , 糖尿病 性 ケトアシドーシス ( D ##KA ) の 合併 は 比較的 稀 で ある . [SEP]\n",
      "  0.8 % [CLS] 【ケトアシドーシス】 では , 糖尿病 性 ケトアシドーシス ( D ##KA ) の 合併 は 比較的 稀 で ある . [SEP]\n"
     ]
    }
   ],
   "source": [
    "# An Example of Masked Language Modeling.\n",
    "result = prediction_masked_sentence(text, tokenizer, model)"
   ]
  },
  {
   "cell_type": "markdown",
   "metadata": {},
   "source": [
    "# medBERTjp - SentencePiece"
   ]
  },
  {
   "cell_type": "code",
   "execution_count": 264,
   "metadata": {},
   "outputs": [
    {
     "name": "stdout",
     "output_type": "stream",
     "text": [
      "/data1/wada/workspace/model_uploaded/medBERTjp_L12_H768_A12_sentencepiece/vocab.model\n",
      "Loaded a trained SentencePiece model.\n"
     ]
    }
   ],
   "source": [
    "model_path = PathToBertJpSentencepiece\n",
    "tokenizer = BertJapaneseTokenizer.from_pretrained(model_path,\n",
    "                                                  word_tokenizer_type='sp',\n",
    "                                                 )\n",
    "model = BertForMaskedLM.from_pretrained(model_path)"
   ]
  },
  {
   "cell_type": "code",
   "execution_count": 287,
   "metadata": {},
   "outputs": [
    {
     "name": "stdout",
     "output_type": "stream",
     "text": [
      "[CLS] ▁ 慢性膵炎 では , 糖尿病性ケトアシドーシス ( D KA ) の合併 は比較的 稀である . [SEP]\n",
      "[CLS] ▁ [MASK] では , 糖尿病性ケトアシドーシス ( D KA ) の合併 は比較的 稀である . [SEP]\n",
      " 22.4 % [CLS] ▁ 【若年者】 では , 糖尿病性ケトアシドーシス ( D KA ) の合併 は比較的 稀である . [SEP]\n",
      "  5.5 % [CLS] ▁ 【それ以外】 では , 糖尿病性ケトアシドーシス ( D KA ) の合併 は比較的 稀である . [SEP]\n",
      "  4.3 % [CLS] ▁ 【糖尿病患者】 では , 糖尿病性ケトアシドーシス ( D KA ) の合併 は比較的 稀である . [SEP]\n",
      "  3.9 % [CLS] ▁ 【入院患者】 では , 糖尿病性ケトアシドーシス ( D KA ) の合併 は比較的 稀である . [SEP]\n",
      "  3.5 % [CLS] ▁ 【救急外来】 では , 糖尿病性ケトアシドーシス ( D KA ) の合併 は比較的 稀である . [SEP]\n"
     ]
    }
   ],
   "source": [
    "# An Example of Masked Language Modeling.\n",
    "result = prediction_masked_sentence(text, tokenizer, model)"
   ]
  }
 ],
 "metadata": {
  "kernelspec": {
   "display_name": "PyTorch1.1",
   "language": "python",
   "name": "pytorch1.1"
  },
  "language_info": {
   "codemirror_mode": {
    "name": "ipython",
    "version": 3
   },
   "file_extension": ".py",
   "mimetype": "text/x-python",
   "name": "python",
   "nbconvert_exporter": "python",
   "pygments_lexer": "ipython3",
   "version": "3.6.10"
  }
 },
 "nbformat": 4,
 "nbformat_minor": 4
}
